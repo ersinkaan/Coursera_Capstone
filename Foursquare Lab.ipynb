{
 "metadata": {
  "language_info": {
   "codemirror_mode": {
    "name": "ipython",
    "version": 3
   },
   "file_extension": ".py",
   "mimetype": "text/x-python",
   "name": "python",
   "nbconvert_exporter": "python",
   "pygments_lexer": "ipython3",
   "version": "3.8.3-final"
  },
  "orig_nbformat": 2,
  "kernelspec": {
   "name": "python3",
   "display_name": "Python 3"
  }
 },
 "nbformat": 4,
 "nbformat_minor": 2,
 "cells": [
  {
   "source": [
    "# This is lab study for Foursquare | Ersin Kaan Aygun"
   ],
   "cell_type": "markdown",
   "metadata": {}
  },
  {
   "cell_type": "code",
   "execution_count": 1,
   "metadata": {},
   "outputs": [],
   "source": [
    "import requests # library to handle requests\n",
    "import pandas as pd # library for data analsysis\n",
    "import numpy as np # library to handle data in a vectorized manner\n",
    "import random # library for random number generation"
   ]
  },
  {
   "cell_type": "code",
   "execution_count": 3,
   "metadata": {},
   "outputs": [
    {
     "output_type": "stream",
     "name": "stdout",
     "text": [
      "Collecting geopy\n  Using cached geopy-2.0.0-py3-none-any.whl (111 kB)\nCollecting geographiclib<2,>=1.49\n  Using cached geographiclib-1.50-py3-none-any.whl (38 kB)\nInstalling collected packages: geographiclib, geopy\nSuccessfully installed geographiclib-1.50 geopy-2.0.0\n"
     ]
    }
   ],
   "source": [
    "!pip install geopy\n",
    "from geopy.geocoders import Nominatim # module to convert an address into latitude and longitude values\n"
   ]
  },
  {
   "cell_type": "code",
   "execution_count": 4,
   "metadata": {},
   "outputs": [],
   "source": [
    "# libraries for displaying images\n",
    "from IPython.display import Image \n",
    "from IPython.core.display import HTML "
   ]
  },
  {
   "cell_type": "code",
   "execution_count": 5,
   "metadata": {},
   "outputs": [],
   "source": [
    "# tranforming json file into a pandas dataframe library\n",
    "from pandas.io.json import json_normalize"
   ]
  },
  {
   "cell_type": "code",
   "execution_count": 7,
   "metadata": {},
   "outputs": [
    {
     "output_type": "stream",
     "name": "stdout",
     "text": [
      "Collecting folium\n  Downloading folium-0.11.0-py2.py3-none-any.whl (93 kB)\nCollecting branca>=0.3.0\n  Using cached branca-0.4.1-py3-none-any.whl (24 kB)\nRequirement already satisfied: requests in c:\\users\\ersin\\anaconda3\\lib\\site-packages (from folium) (2.24.0)\nRequirement already satisfied: numpy in c:\\users\\ersin\\anaconda3\\lib\\site-packages (from folium) (1.18.5)\nRequirement already satisfied: jinja2>=2.9 in c:\\users\\ersin\\anaconda3\\lib\\site-packages (from folium) (2.11.2)\nRequirement already satisfied: certifi>=2017.4.17 in c:\\users\\ersin\\anaconda3\\lib\\site-packages (from requests->folium) (2020.6.20)\nRequirement already satisfied: idna<3,>=2.5 in c:\\users\\ersin\\anaconda3\\lib\\site-packages (from requests->folium) (2.10)\nRequirement already satisfied: chardet<4,>=3.0.2 in c:\\users\\ersin\\anaconda3\\lib\\site-packages (from requests->folium) (3.0.4)\nRequirement already satisfied: urllib3!=1.25.0,!=1.25.1,<1.26,>=1.21.1 in c:\\users\\ersin\\anaconda3\\lib\\site-packages (from requests->folium) (1.25.9)\nRequirement already satisfied: MarkupSafe>=0.23 in c:\\users\\ersin\\anaconda3\\lib\\site-packages (from jinja2>=2.9->folium) (1.1.1)\nInstalling collected packages: branca, folium\nSuccessfully installed branca-0.4.1 folium-0.11.0\n"
     ]
    }
   ],
   "source": [
    "!pip install folium\n",
    "import folium # plotting library"
   ]
  },
  {
   "cell_type": "code",
   "execution_count": 8,
   "metadata": {},
   "outputs": [
    {
     "output_type": "stream",
     "name": "stdout",
     "text": [
      "Folium installed\nLibraries imported.\n"
     ]
    }
   ],
   "source": [
    "print('Folium installed')\n",
    "print('Libraries imported.')"
   ]
  },
  {
   "cell_type": "code",
   "execution_count": null,
   "metadata": {},
   "outputs": [],
   "source": [
    "|"
   ]
  }
 ]
}