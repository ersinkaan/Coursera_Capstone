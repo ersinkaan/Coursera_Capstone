{
 "metadata": {
  "language_info": {
   "codemirror_mode": {
    "name": "ipython",
    "version": 3
   },
   "file_extension": ".py",
   "mimetype": "text/x-python",
   "name": "python",
   "nbconvert_exporter": "python",
   "pygments_lexer": "ipython3",
   "version": "3.8.3-final"
  },
  "orig_nbformat": 2,
  "kernelspec": {
   "name": "python3",
   "display_name": "Python 3",
   "language": "python"
  }
 },
 "nbformat": 4,
 "nbformat_minor": 2,
 "cells": [
  {
   "cell_type": "code",
   "execution_count": 120,
   "metadata": {},
   "outputs": [],
   "source": []
  },
  {
   "cell_type": "code",
   "execution_count": 108,
   "metadata": {},
   "outputs": [],
   "source": [
    "import numpy as np\n",
    "import pandas as pd \n",
    "pd.set_option('display.max_columns',None)\n",
    "pd.set_option('display.max_rows',None)\n",
    "import json\n",
    "from geopy.geocoders import Nominatim\n",
    "import requests\n",
    "from pandas.io.json import json_normalize\n",
    "import matplotlib.cm as cm\n",
    "import matplotlib.colors as colors\n",
    "from sklearn.cluster import KMeans\n",
    "import folium\n",
    "import urllib.request\n",
    "from bs4 import BeautifulSoup\n",
    "import statistics"
   ]
  },
  {
   "cell_type": "code",
   "execution_count": 91,
   "metadata": {},
   "outputs": [
    {
     "output_type": "execute_result",
     "data": {
      "text/plain": [
       "        type               id geometry_name  \\\n",
       "846  Feature  nj696zj1674.864          geom   \n",
       "860  Feature  nj696zj1674.859          geom   \n",
       "861  Feature  nj696zj1674.860          geom   \n",
       "862  Feature  nj696zj1674.861          geom   \n",
       "863  Feature  nj696zj1674.862          geom   \n",
       "\n",
       "                                                  bbox geometry.type  \\\n",
       "846  [39.11650467, 40.75124741, 39.20024109, 41.007...  MultiPolygon   \n",
       "860  [39.29803085, 40.97198868, 39.40513992, 41.101...  MultiPolygon   \n",
       "861  [40.09298325, 40.50019073, 40.4834938, 40.7836...  MultiPolygon   \n",
       "862  [39.37368774, 40.82590866, 39.61445999, 41.107...  MultiPolygon   \n",
       "863  [39.82581711, 40.5603714, 40.04898834, 40.9608...  MultiPolygon   \n",
       "\n",
       "                                  geometry.coordinates  properties.id_0  \\\n",
       "846  [[[[39.14960861, 40.7755127], [39.13891602, 40...              235   \n",
       "860  [[[[39.40325928, 40.97198868], [39.38621521, 4...              235   \n",
       "861  [[[[40.09298325, 40.51234818], [40.09392929, 4...              235   \n",
       "862  [[[[39.61445999, 41.01291656], [39.61313248, 4...              235   \n",
       "863  [[[[40.04551697, 40.95597076], [40.04724121, 4...              235   \n",
       "\n",
       "    properties.iso properties.name_0  properties.id_1 properties.name_1  \\\n",
       "846            TUR            Turkey               75           Trabzon   \n",
       "860            TUR            Turkey               75           Trabzon   \n",
       "861            TUR            Turkey               75           Trabzon   \n",
       "862            TUR            Turkey               75           Trabzon   \n",
       "863            TUR            Turkey               75           Trabzon   \n",
       "\n",
       "     properties.id_2 properties.name_2 properties.hasc_2  properties.ccn_2  \\\n",
       "846              864       ÅžalpazarÄ±          TR.TB.SA                 0   \n",
       "860              859    Ã‡arÅŸÄ±baÅŸÄ±          TR.TB.CB                 0   \n",
       "861              860          Ã‡aykara          TR.TB.CK                 0   \n",
       "862              861         AkÃ§aabat          TR.TB.AK                 0   \n",
       "863              862           AraklÄ±          TR.TB.AR                 0   \n",
       "\n",
       "    properties.cca_2 properties.type_2 properties.engtype_2  \\\n",
       "846             None          District             District   \n",
       "860             None          District             District   \n",
       "861             None          District             District   \n",
       "862             None          District             District   \n",
       "863             None          District             District   \n",
       "\n",
       "    properties.nl_name_2 properties.varname_2  \n",
       "846                 None                 None  \n",
       "860                 None                 None  \n",
       "861                 None                 None  \n",
       "862                 None                 None  \n",
       "863                 None                 None  "
      ],
      "text/html": "<div>\n<style scoped>\n    .dataframe tbody tr th:only-of-type {\n        vertical-align: middle;\n    }\n\n    .dataframe tbody tr th {\n        vertical-align: top;\n    }\n\n    .dataframe thead th {\n        text-align: right;\n    }\n</style>\n<table border=\"1\" class=\"dataframe\">\n  <thead>\n    <tr style=\"text-align: right;\">\n      <th></th>\n      <th>type</th>\n      <th>id</th>\n      <th>geometry_name</th>\n      <th>bbox</th>\n      <th>geometry.type</th>\n      <th>geometry.coordinates</th>\n      <th>properties.id_0</th>\n      <th>properties.iso</th>\n      <th>properties.name_0</th>\n      <th>properties.id_1</th>\n      <th>properties.name_1</th>\n      <th>properties.id_2</th>\n      <th>properties.name_2</th>\n      <th>properties.hasc_2</th>\n      <th>properties.ccn_2</th>\n      <th>properties.cca_2</th>\n      <th>properties.type_2</th>\n      <th>properties.engtype_2</th>\n      <th>properties.nl_name_2</th>\n      <th>properties.varname_2</th>\n    </tr>\n  </thead>\n  <tbody>\n    <tr>\n      <th>846</th>\n      <td>Feature</td>\n      <td>nj696zj1674.864</td>\n      <td>geom</td>\n      <td>[39.11650467, 40.75124741, 39.20024109, 41.007...</td>\n      <td>MultiPolygon</td>\n      <td>[[[[39.14960861, 40.7755127], [39.13891602, 40...</td>\n      <td>235</td>\n      <td>TUR</td>\n      <td>Turkey</td>\n      <td>75</td>\n      <td>Trabzon</td>\n      <td>864</td>\n      <td>ÅžalpazarÄ±</td>\n      <td>TR.TB.SA</td>\n      <td>0</td>\n      <td>None</td>\n      <td>District</td>\n      <td>District</td>\n      <td>None</td>\n      <td>None</td>\n    </tr>\n    <tr>\n      <th>860</th>\n      <td>Feature</td>\n      <td>nj696zj1674.859</td>\n      <td>geom</td>\n      <td>[39.29803085, 40.97198868, 39.40513992, 41.101...</td>\n      <td>MultiPolygon</td>\n      <td>[[[[39.40325928, 40.97198868], [39.38621521, 4...</td>\n      <td>235</td>\n      <td>TUR</td>\n      <td>Turkey</td>\n      <td>75</td>\n      <td>Trabzon</td>\n      <td>859</td>\n      <td>Ã‡arÅŸÄ±baÅŸÄ±</td>\n      <td>TR.TB.CB</td>\n      <td>0</td>\n      <td>None</td>\n      <td>District</td>\n      <td>District</td>\n      <td>None</td>\n      <td>None</td>\n    </tr>\n    <tr>\n      <th>861</th>\n      <td>Feature</td>\n      <td>nj696zj1674.860</td>\n      <td>geom</td>\n      <td>[40.09298325, 40.50019073, 40.4834938, 40.7836...</td>\n      <td>MultiPolygon</td>\n      <td>[[[[40.09298325, 40.51234818], [40.09392929, 4...</td>\n      <td>235</td>\n      <td>TUR</td>\n      <td>Turkey</td>\n      <td>75</td>\n      <td>Trabzon</td>\n      <td>860</td>\n      <td>Ã‡aykara</td>\n      <td>TR.TB.CK</td>\n      <td>0</td>\n      <td>None</td>\n      <td>District</td>\n      <td>District</td>\n      <td>None</td>\n      <td>None</td>\n    </tr>\n    <tr>\n      <th>862</th>\n      <td>Feature</td>\n      <td>nj696zj1674.861</td>\n      <td>geom</td>\n      <td>[39.37368774, 40.82590866, 39.61445999, 41.107...</td>\n      <td>MultiPolygon</td>\n      <td>[[[[39.61445999, 41.01291656], [39.61313248, 4...</td>\n      <td>235</td>\n      <td>TUR</td>\n      <td>Turkey</td>\n      <td>75</td>\n      <td>Trabzon</td>\n      <td>861</td>\n      <td>AkÃ§aabat</td>\n      <td>TR.TB.AK</td>\n      <td>0</td>\n      <td>None</td>\n      <td>District</td>\n      <td>District</td>\n      <td>None</td>\n      <td>None</td>\n    </tr>\n    <tr>\n      <th>863</th>\n      <td>Feature</td>\n      <td>nj696zj1674.862</td>\n      <td>geom</td>\n      <td>[39.82581711, 40.5603714, 40.04898834, 40.9608...</td>\n      <td>MultiPolygon</td>\n      <td>[[[[40.04551697, 40.95597076], [40.04724121, 4...</td>\n      <td>235</td>\n      <td>TUR</td>\n      <td>Turkey</td>\n      <td>75</td>\n      <td>Trabzon</td>\n      <td>862</td>\n      <td>AraklÄ±</td>\n      <td>TR.TB.AR</td>\n      <td>0</td>\n      <td>None</td>\n      <td>District</td>\n      <td>District</td>\n      <td>None</td>\n      <td>None</td>\n    </tr>\n  </tbody>\n</table>\n</div>"
     },
     "metadata": {},
     "execution_count": 91
    }
   ],
   "source": [
    "with open('coords.json','r') as f:\n",
    "    data = f.read()\n",
    "\n",
    "obj = json.loads(data)\n",
    "df =pd.json_normalize(obj['features'])\n",
    "df_trabzon = df.loc[df['properties.name_1']=='Trabzon']\n",
    "df_trabzon.head()"
   ]
  },
  {
   "cell_type": "code",
   "execution_count": 108,
   "metadata": {
    "tags": []
   },
   "outputs": [
    {
     "output_type": "execute_result",
     "data": {
      "text/plain": [
       "          cities       lats      longs\n",
       "0       Akcaabat  40.964348  39.510468\n",
       "1         Arakli  40.935896  40.055472\n",
       "2          Arsin  40.845656  39.924026\n",
       "3      Besikduzu  41.014780  39.200524\n",
       "4      Carsibasi  41.020812  39.420366\n",
       "5        Caykara  40.653175  40.248268\n",
       "6   Dernekpazari  40.775884  40.195233\n",
       "7         Duzkoy  40.837951  39.387480\n",
       "8         Hayrat  40.771031  40.406843\n",
       "9      Koprubasi  40.700684  40.119920\n",
       "10         Macka  40.760162  39.571443\n",
       "11            Of  40.881736  40.275444\n",
       "12     Ortahisar  41.001325  39.706678\n",
       "13       Surmene  40.803813  40.059268\n",
       "14     Salpazari  40.862977  39.196401\n",
       "15         Tonya  40.843156  39.288762\n",
       "16    Vakfikebir  40.994066  39.313663\n",
       "17         Yomra  40.847128  39.842822"
      ],
      "text/html": "<div>\n<style scoped>\n    .dataframe tbody tr th:only-of-type {\n        vertical-align: middle;\n    }\n\n    .dataframe tbody tr th {\n        vertical-align: top;\n    }\n\n    .dataframe thead th {\n        text-align: right;\n    }\n</style>\n<table border=\"1\" class=\"dataframe\">\n  <thead>\n    <tr style=\"text-align: right;\">\n      <th></th>\n      <th>cities</th>\n      <th>lats</th>\n      <th>longs</th>\n    </tr>\n  </thead>\n  <tbody>\n    <tr>\n      <th>0</th>\n      <td>Akcaabat</td>\n      <td>40.964348</td>\n      <td>39.510468</td>\n    </tr>\n    <tr>\n      <th>1</th>\n      <td>Arakli</td>\n      <td>40.935896</td>\n      <td>40.055472</td>\n    </tr>\n    <tr>\n      <th>2</th>\n      <td>Arsin</td>\n      <td>40.845656</td>\n      <td>39.924026</td>\n    </tr>\n    <tr>\n      <th>3</th>\n      <td>Besikduzu</td>\n      <td>41.014780</td>\n      <td>39.200524</td>\n    </tr>\n    <tr>\n      <th>4</th>\n      <td>Carsibasi</td>\n      <td>41.020812</td>\n      <td>39.420366</td>\n    </tr>\n    <tr>\n      <th>5</th>\n      <td>Caykara</td>\n      <td>40.653175</td>\n      <td>40.248268</td>\n    </tr>\n    <tr>\n      <th>6</th>\n      <td>Dernekpazari</td>\n      <td>40.775884</td>\n      <td>40.195233</td>\n    </tr>\n    <tr>\n      <th>7</th>\n      <td>Duzkoy</td>\n      <td>40.837951</td>\n      <td>39.387480</td>\n    </tr>\n    <tr>\n      <th>8</th>\n      <td>Hayrat</td>\n      <td>40.771031</td>\n      <td>40.406843</td>\n    </tr>\n    <tr>\n      <th>9</th>\n      <td>Koprubasi</td>\n      <td>40.700684</td>\n      <td>40.119920</td>\n    </tr>\n    <tr>\n      <th>10</th>\n      <td>Macka</td>\n      <td>40.760162</td>\n      <td>39.571443</td>\n    </tr>\n    <tr>\n      <th>11</th>\n      <td>Of</td>\n      <td>40.881736</td>\n      <td>40.275444</td>\n    </tr>\n    <tr>\n      <th>12</th>\n      <td>Ortahisar</td>\n      <td>41.001325</td>\n      <td>39.706678</td>\n    </tr>\n    <tr>\n      <th>13</th>\n      <td>Surmene</td>\n      <td>40.803813</td>\n      <td>40.059268</td>\n    </tr>\n    <tr>\n      <th>14</th>\n      <td>Salpazari</td>\n      <td>40.862977</td>\n      <td>39.196401</td>\n    </tr>\n    <tr>\n      <th>15</th>\n      <td>Tonya</td>\n      <td>40.843156</td>\n      <td>39.288762</td>\n    </tr>\n    <tr>\n      <th>16</th>\n      <td>Vakfikebir</td>\n      <td>40.994066</td>\n      <td>39.313663</td>\n    </tr>\n    <tr>\n      <th>17</th>\n      <td>Yomra</td>\n      <td>40.847128</td>\n      <td>39.842822</td>\n    </tr>\n  </tbody>\n</table>\n</div>"
     },
     "metadata": {},
     "execution_count": 108
    }
   ],
   "source": [
    "d = {'cities':['Akcaabat','Arakli','Arsin','Besikduzu','Carsibasi','Caykara','Dernekpazari','Duzkoy','Hayrat','Koprubasi','Macka','Of','Ortahisar','Surmene','Salpazari','Tonya','Vakfikebir','Yomra'],'lats':[40.9643475,40.93589585,40.845656250000005,41.01478045,41.0208122,40.65317495,40.77588395,40.837950750000005,40.77103125,40.700683850000004,40.76016175,40.881735899999995,41.0013246,40.80381275,40.8629768,40.84315599999999,40.9940658,40.8471281],'longs':[39.51046827734575,40.05547177024428,39.924025686256726,39.200524044991454,39.42036575962547,40.24826784776805,40.19523282985675,39.38747995360616,40.406843160049114,40.119919684207076,39.57144340541163,40.27544376928809,39.706678,40.05926799999738,39.196401370242995,39.28876204586938,39.313662610276964,39.84282211193375]}\n",
    "df= pd.DataFrame(data=d)\n",
    "df"
   ]
  },
  {
   "cell_type": "code",
   "execution_count": 111,
   "metadata": {},
   "outputs": [
    {
     "output_type": "stream",
     "name": "stdout",
     "text": [
      "coordinates of TRABZON are 40.80381275,40.05926799999738\n"
     ]
    }
   ],
   "source": [
    "address = 'surmene,Trabzon, Turkey'\n",
    "geolocator= Nominatim(user_agent=\"trabzon_explorer\")\n",
    "location = geolocator.geocode(address)\n",
    "latitude = location.latitude\n",
    "longitude = location.longitude\n",
    "print('coordinates of TRABZON are {},{}'.format(latitude,longitude))"
   ]
  },
  {
   "cell_type": "code",
   "execution_count": 110,
   "metadata": {},
   "outputs": [
    {
     "output_type": "execute_result",
     "data": {
      "text/plain": [
       "<folium.folium.Map at 0x27810ffb490>"
      ],
      "text/html": "<div style=\"width:100%;\"><div style=\"position:relative;width:100%;height:0;padding-bottom:60%;\"><span style=\"color:#565656\">Make this Notebook Trusted to load map: File -> Trust Notebook</span><iframe src=\"about:blank\" style=\"position:absolute;width:100%;height:100%;left:0;top:0;border:none !important;\" data-html=%3C%21DOCTYPE%20html%3E%0A%3Chead%3E%20%20%20%20%0A%20%20%20%20%3Cmeta%20http-equiv%3D%22content-type%22%20content%3D%22text/html%3B%20charset%3DUTF-8%22%20/%3E%0A%20%20%20%20%3Cscript%3EL_PREFER_CANVAS%20%3D%20false%3B%20L_NO_TOUCH%20%3D%20false%3B%20L_DISABLE_3D%20%3D%20false%3B%3C/script%3E%0A%20%20%20%20%3Cscript%20src%3D%22https%3A//cdn.jsdelivr.net/npm/leaflet%401.2.0/dist/leaflet.js%22%3E%3C/script%3E%0A%20%20%20%20%3Cscript%20src%3D%22https%3A//ajax.googleapis.com/ajax/libs/jquery/1.11.1/jquery.min.js%22%3E%3C/script%3E%0A%20%20%20%20%3Cscript%20src%3D%22https%3A//maxcdn.bootstrapcdn.com/bootstrap/3.2.0/js/bootstrap.min.js%22%3E%3C/script%3E%0A%20%20%20%20%3Cscript%20src%3D%22https%3A//cdnjs.cloudflare.com/ajax/libs/Leaflet.awesome-markers/2.0.2/leaflet.awesome-markers.js%22%3E%3C/script%3E%0A%20%20%20%20%3Clink%20rel%3D%22stylesheet%22%20href%3D%22https%3A//cdn.jsdelivr.net/npm/leaflet%401.2.0/dist/leaflet.css%22/%3E%0A%20%20%20%20%3Clink%20rel%3D%22stylesheet%22%20href%3D%22https%3A//maxcdn.bootstrapcdn.com/bootstrap/3.2.0/css/bootstrap.min.css%22/%3E%0A%20%20%20%20%3Clink%20rel%3D%22stylesheet%22%20href%3D%22https%3A//maxcdn.bootstrapcdn.com/bootstrap/3.2.0/css/bootstrap-theme.min.css%22/%3E%0A%20%20%20%20%3Clink%20rel%3D%22stylesheet%22%20href%3D%22https%3A//maxcdn.bootstrapcdn.com/font-awesome/4.6.3/css/font-awesome.min.css%22/%3E%0A%20%20%20%20%3Clink%20rel%3D%22stylesheet%22%20href%3D%22https%3A//cdnjs.cloudflare.com/ajax/libs/Leaflet.awesome-markers/2.0.2/leaflet.awesome-markers.css%22/%3E%0A%20%20%20%20%3Clink%20rel%3D%22stylesheet%22%20href%3D%22https%3A//rawgit.com/python-visualization/folium/master/folium/templates/leaflet.awesome.rotate.css%22/%3E%0A%20%20%20%20%3Cstyle%3Ehtml%2C%20body%20%7Bwidth%3A%20100%25%3Bheight%3A%20100%25%3Bmargin%3A%200%3Bpadding%3A%200%3B%7D%3C/style%3E%0A%20%20%20%20%3Cstyle%3E%23map%20%7Bposition%3Aabsolute%3Btop%3A0%3Bbottom%3A0%3Bright%3A0%3Bleft%3A0%3B%7D%3C/style%3E%0A%20%20%20%20%0A%20%20%20%20%20%20%20%20%20%20%20%20%3Cstyle%3E%20%23map_fb3b86602cee4bfcb7ddc05727ce5dbc%20%7B%0A%20%20%20%20%20%20%20%20%20%20%20%20%20%20%20%20position%20%3A%20relative%3B%0A%20%20%20%20%20%20%20%20%20%20%20%20%20%20%20%20width%20%3A%20100.0%25%3B%0A%20%20%20%20%20%20%20%20%20%20%20%20%20%20%20%20height%3A%20100.0%25%3B%0A%20%20%20%20%20%20%20%20%20%20%20%20%20%20%20%20left%3A%200.0%25%3B%0A%20%20%20%20%20%20%20%20%20%20%20%20%20%20%20%20top%3A%200.0%25%3B%0A%20%20%20%20%20%20%20%20%20%20%20%20%20%20%20%20%7D%0A%20%20%20%20%20%20%20%20%20%20%20%20%3C/style%3E%0A%20%20%20%20%20%20%20%20%0A%3C/head%3E%0A%3Cbody%3E%20%20%20%20%0A%20%20%20%20%0A%20%20%20%20%20%20%20%20%20%20%20%20%3Cdiv%20class%3D%22folium-map%22%20id%3D%22map_fb3b86602cee4bfcb7ddc05727ce5dbc%22%20%3E%3C/div%3E%0A%20%20%20%20%20%20%20%20%0A%3C/body%3E%0A%3Cscript%3E%20%20%20%20%0A%20%20%20%20%0A%0A%20%20%20%20%20%20%20%20%20%20%20%20%0A%20%20%20%20%20%20%20%20%20%20%20%20%20%20%20%20var%20bounds%20%3D%20null%3B%0A%20%20%20%20%20%20%20%20%20%20%20%20%0A%0A%20%20%20%20%20%20%20%20%20%20%20%20var%20map_fb3b86602cee4bfcb7ddc05727ce5dbc%20%3D%20L.map%28%0A%20%20%20%20%20%20%20%20%20%20%20%20%20%20%20%20%20%20%20%20%20%20%20%20%20%20%20%20%20%20%20%20%20%20%27map_fb3b86602cee4bfcb7ddc05727ce5dbc%27%2C%0A%20%20%20%20%20%20%20%20%20%20%20%20%20%20%20%20%20%20%20%20%20%20%20%20%20%20%20%20%20%20%20%20%20%20%7Bcenter%3A%20%5B41.0208122%2C39.42036575962547%5D%2C%0A%20%20%20%20%20%20%20%20%20%20%20%20%20%20%20%20%20%20%20%20%20%20%20%20%20%20%20%20%20%20%20%20%20%20zoom%3A%2010%2C%0A%20%20%20%20%20%20%20%20%20%20%20%20%20%20%20%20%20%20%20%20%20%20%20%20%20%20%20%20%20%20%20%20%20%20maxBounds%3A%20bounds%2C%0A%20%20%20%20%20%20%20%20%20%20%20%20%20%20%20%20%20%20%20%20%20%20%20%20%20%20%20%20%20%20%20%20%20%20layers%3A%20%5B%5D%2C%0A%20%20%20%20%20%20%20%20%20%20%20%20%20%20%20%20%20%20%20%20%20%20%20%20%20%20%20%20%20%20%20%20%20%20worldCopyJump%3A%20false%2C%0A%20%20%20%20%20%20%20%20%20%20%20%20%20%20%20%20%20%20%20%20%20%20%20%20%20%20%20%20%20%20%20%20%20%20crs%3A%20L.CRS.EPSG3857%0A%20%20%20%20%20%20%20%20%20%20%20%20%20%20%20%20%20%20%20%20%20%20%20%20%20%20%20%20%20%20%20%20%20%7D%29%3B%0A%20%20%20%20%20%20%20%20%20%20%20%20%0A%20%20%20%20%20%20%20%20%0A%20%20%20%20%0A%20%20%20%20%20%20%20%20%20%20%20%20var%20tile_layer_7c4a14dc008e4d29a3de2fc7a1e0d1bc%20%3D%20L.tileLayer%28%0A%20%20%20%20%20%20%20%20%20%20%20%20%20%20%20%20%27https%3A//%7Bs%7D.tile.openstreetmap.org/%7Bz%7D/%7Bx%7D/%7By%7D.png%27%2C%0A%20%20%20%20%20%20%20%20%20%20%20%20%20%20%20%20%7B%0A%20%20%22attribution%22%3A%20null%2C%0A%20%20%22detectRetina%22%3A%20false%2C%0A%20%20%22maxZoom%22%3A%2018%2C%0A%20%20%22minZoom%22%3A%201%2C%0A%20%20%22noWrap%22%3A%20false%2C%0A%20%20%22subdomains%22%3A%20%22abc%22%0A%7D%0A%20%20%20%20%20%20%20%20%20%20%20%20%20%20%20%20%29.addTo%28map_fb3b86602cee4bfcb7ddc05727ce5dbc%29%3B%0A%20%20%20%20%20%20%20%20%0A%20%20%20%20%0A%20%20%20%20%20%20%20%20%20%20%20%20var%20circle_marker_0cdc0cc74feb44359ba71db4544d394e%20%3D%20L.circleMarker%28%0A%20%20%20%20%20%20%20%20%20%20%20%20%20%20%20%20%5B40.9643475%2C39.51046827734575%5D%2C%0A%20%20%20%20%20%20%20%20%20%20%20%20%20%20%20%20%7B%0A%20%20%22bubblingMouseEvents%22%3A%20true%2C%0A%20%20%22color%22%3A%20%22red%22%2C%0A%20%20%22dashArray%22%3A%20null%2C%0A%20%20%22dashOffset%22%3A%20null%2C%0A%20%20%22fill%22%3A%20true%2C%0A%20%20%22fillColor%22%3A%20%22red%22%2C%0A%20%20%22fillOpacity%22%3A%200.7%2C%0A%20%20%22fillRule%22%3A%20%22evenodd%22%2C%0A%20%20%22lineCap%22%3A%20%22round%22%2C%0A%20%20%22lineJoin%22%3A%20%22round%22%2C%0A%20%20%22opacity%22%3A%201.0%2C%0A%20%20%22radius%22%3A%205%2C%0A%20%20%22stroke%22%3A%20true%2C%0A%20%20%22weight%22%3A%203%0A%7D%0A%20%20%20%20%20%20%20%20%20%20%20%20%20%20%20%20%29.addTo%28map_fb3b86602cee4bfcb7ddc05727ce5dbc%29%3B%0A%20%20%20%20%20%20%20%20%20%20%20%20%0A%20%20%20%20%0A%20%20%20%20%20%20%20%20%20%20%20%20var%20popup_cfeb00d758f64b328afe9ffe533f05cd%20%3D%20L.popup%28%7BmaxWidth%3A%20%27300%27%7D%29%3B%0A%0A%20%20%20%20%20%20%20%20%20%20%20%20%0A%20%20%20%20%20%20%20%20%20%20%20%20%20%20%20%20var%20html_13723cac211c4f11b3d6a9e26006356f%20%3D%20%24%28%27%3Cdiv%20id%3D%22html_13723cac211c4f11b3d6a9e26006356f%22%20style%3D%22width%3A%20100.0%25%3B%20height%3A%20100.0%25%3B%22%3EAkcaabat%3C/div%3E%27%29%5B0%5D%3B%0A%20%20%20%20%20%20%20%20%20%20%20%20%20%20%20%20popup_cfeb00d758f64b328afe9ffe533f05cd.setContent%28html_13723cac211c4f11b3d6a9e26006356f%29%3B%0A%20%20%20%20%20%20%20%20%20%20%20%20%0A%0A%20%20%20%20%20%20%20%20%20%20%20%20circle_marker_0cdc0cc74feb44359ba71db4544d394e.bindPopup%28popup_cfeb00d758f64b328afe9ffe533f05cd%29%3B%0A%0A%20%20%20%20%20%20%20%20%20%20%20%20%0A%20%20%20%20%20%20%20%20%0A%20%20%20%20%0A%20%20%20%20%20%20%20%20%20%20%20%20var%20circle_marker_7d97e4fa29b14a88a4fd32a0e8f6625f%20%3D%20L.circleMarker%28%0A%20%20%20%20%20%20%20%20%20%20%20%20%20%20%20%20%5B40.93589585%2C40.05547177024428%5D%2C%0A%20%20%20%20%20%20%20%20%20%20%20%20%20%20%20%20%7B%0A%20%20%22bubblingMouseEvents%22%3A%20true%2C%0A%20%20%22color%22%3A%20%22red%22%2C%0A%20%20%22dashArray%22%3A%20null%2C%0A%20%20%22dashOffset%22%3A%20null%2C%0A%20%20%22fill%22%3A%20true%2C%0A%20%20%22fillColor%22%3A%20%22red%22%2C%0A%20%20%22fillOpacity%22%3A%200.7%2C%0A%20%20%22fillRule%22%3A%20%22evenodd%22%2C%0A%20%20%22lineCap%22%3A%20%22round%22%2C%0A%20%20%22lineJoin%22%3A%20%22round%22%2C%0A%20%20%22opacity%22%3A%201.0%2C%0A%20%20%22radius%22%3A%205%2C%0A%20%20%22stroke%22%3A%20true%2C%0A%20%20%22weight%22%3A%203%0A%7D%0A%20%20%20%20%20%20%20%20%20%20%20%20%20%20%20%20%29.addTo%28map_fb3b86602cee4bfcb7ddc05727ce5dbc%29%3B%0A%20%20%20%20%20%20%20%20%20%20%20%20%0A%20%20%20%20%0A%20%20%20%20%20%20%20%20%20%20%20%20var%20popup_6d25f6c6003f497c952d5d3a8bdd14eb%20%3D%20L.popup%28%7BmaxWidth%3A%20%27300%27%7D%29%3B%0A%0A%20%20%20%20%20%20%20%20%20%20%20%20%0A%20%20%20%20%20%20%20%20%20%20%20%20%20%20%20%20var%20html_47cf0afa620a462baa9218a11d2e128c%20%3D%20%24%28%27%3Cdiv%20id%3D%22html_47cf0afa620a462baa9218a11d2e128c%22%20style%3D%22width%3A%20100.0%25%3B%20height%3A%20100.0%25%3B%22%3EArakli%3C/div%3E%27%29%5B0%5D%3B%0A%20%20%20%20%20%20%20%20%20%20%20%20%20%20%20%20popup_6d25f6c6003f497c952d5d3a8bdd14eb.setContent%28html_47cf0afa620a462baa9218a11d2e128c%29%3B%0A%20%20%20%20%20%20%20%20%20%20%20%20%0A%0A%20%20%20%20%20%20%20%20%20%20%20%20circle_marker_7d97e4fa29b14a88a4fd32a0e8f6625f.bindPopup%28popup_6d25f6c6003f497c952d5d3a8bdd14eb%29%3B%0A%0A%20%20%20%20%20%20%20%20%20%20%20%20%0A%20%20%20%20%20%20%20%20%0A%20%20%20%20%0A%20%20%20%20%20%20%20%20%20%20%20%20var%20circle_marker_10227947ef8c4a84b2540eb4b02971d3%20%3D%20L.circleMarker%28%0A%20%20%20%20%20%20%20%20%20%20%20%20%20%20%20%20%5B40.845656250000005%2C39.924025686256726%5D%2C%0A%20%20%20%20%20%20%20%20%20%20%20%20%20%20%20%20%7B%0A%20%20%22bubblingMouseEvents%22%3A%20true%2C%0A%20%20%22color%22%3A%20%22red%22%2C%0A%20%20%22dashArray%22%3A%20null%2C%0A%20%20%22dashOffset%22%3A%20null%2C%0A%20%20%22fill%22%3A%20true%2C%0A%20%20%22fillColor%22%3A%20%22red%22%2C%0A%20%20%22fillOpacity%22%3A%200.7%2C%0A%20%20%22fillRule%22%3A%20%22evenodd%22%2C%0A%20%20%22lineCap%22%3A%20%22round%22%2C%0A%20%20%22lineJoin%22%3A%20%22round%22%2C%0A%20%20%22opacity%22%3A%201.0%2C%0A%20%20%22radius%22%3A%205%2C%0A%20%20%22stroke%22%3A%20true%2C%0A%20%20%22weight%22%3A%203%0A%7D%0A%20%20%20%20%20%20%20%20%20%20%20%20%20%20%20%20%29.addTo%28map_fb3b86602cee4bfcb7ddc05727ce5dbc%29%3B%0A%20%20%20%20%20%20%20%20%20%20%20%20%0A%20%20%20%20%0A%20%20%20%20%20%20%20%20%20%20%20%20var%20popup_0e64d4faa6ec41258fd98c924c59bcc0%20%3D%20L.popup%28%7BmaxWidth%3A%20%27300%27%7D%29%3B%0A%0A%20%20%20%20%20%20%20%20%20%20%20%20%0A%20%20%20%20%20%20%20%20%20%20%20%20%20%20%20%20var%20html_f0de3bc2e4804f65a38c4f19201c4425%20%3D%20%24%28%27%3Cdiv%20id%3D%22html_f0de3bc2e4804f65a38c4f19201c4425%22%20style%3D%22width%3A%20100.0%25%3B%20height%3A%20100.0%25%3B%22%3EArsin%3C/div%3E%27%29%5B0%5D%3B%0A%20%20%20%20%20%20%20%20%20%20%20%20%20%20%20%20popup_0e64d4faa6ec41258fd98c924c59bcc0.setContent%28html_f0de3bc2e4804f65a38c4f19201c4425%29%3B%0A%20%20%20%20%20%20%20%20%20%20%20%20%0A%0A%20%20%20%20%20%20%20%20%20%20%20%20circle_marker_10227947ef8c4a84b2540eb4b02971d3.bindPopup%28popup_0e64d4faa6ec41258fd98c924c59bcc0%29%3B%0A%0A%20%20%20%20%20%20%20%20%20%20%20%20%0A%20%20%20%20%20%20%20%20%0A%20%20%20%20%0A%20%20%20%20%20%20%20%20%20%20%20%20var%20circle_marker_8ca4b911a27a4a1aa5701c16e167a1e3%20%3D%20L.circleMarker%28%0A%20%20%20%20%20%20%20%20%20%20%20%20%20%20%20%20%5B41.01478045%2C39.200524044991454%5D%2C%0A%20%20%20%20%20%20%20%20%20%20%20%20%20%20%20%20%7B%0A%20%20%22bubblingMouseEvents%22%3A%20true%2C%0A%20%20%22color%22%3A%20%22red%22%2C%0A%20%20%22dashArray%22%3A%20null%2C%0A%20%20%22dashOffset%22%3A%20null%2C%0A%20%20%22fill%22%3A%20true%2C%0A%20%20%22fillColor%22%3A%20%22red%22%2C%0A%20%20%22fillOpacity%22%3A%200.7%2C%0A%20%20%22fillRule%22%3A%20%22evenodd%22%2C%0A%20%20%22lineCap%22%3A%20%22round%22%2C%0A%20%20%22lineJoin%22%3A%20%22round%22%2C%0A%20%20%22opacity%22%3A%201.0%2C%0A%20%20%22radius%22%3A%205%2C%0A%20%20%22stroke%22%3A%20true%2C%0A%20%20%22weight%22%3A%203%0A%7D%0A%20%20%20%20%20%20%20%20%20%20%20%20%20%20%20%20%29.addTo%28map_fb3b86602cee4bfcb7ddc05727ce5dbc%29%3B%0A%20%20%20%20%20%20%20%20%20%20%20%20%0A%20%20%20%20%0A%20%20%20%20%20%20%20%20%20%20%20%20var%20popup_b82d74788a7d4b38beb20003cba28867%20%3D%20L.popup%28%7BmaxWidth%3A%20%27300%27%7D%29%3B%0A%0A%20%20%20%20%20%20%20%20%20%20%20%20%0A%20%20%20%20%20%20%20%20%20%20%20%20%20%20%20%20var%20html_3021e98a8c3f4e2ca97ed3139f2fd12b%20%3D%20%24%28%27%3Cdiv%20id%3D%22html_3021e98a8c3f4e2ca97ed3139f2fd12b%22%20style%3D%22width%3A%20100.0%25%3B%20height%3A%20100.0%25%3B%22%3EBesikduzu%3C/div%3E%27%29%5B0%5D%3B%0A%20%20%20%20%20%20%20%20%20%20%20%20%20%20%20%20popup_b82d74788a7d4b38beb20003cba28867.setContent%28html_3021e98a8c3f4e2ca97ed3139f2fd12b%29%3B%0A%20%20%20%20%20%20%20%20%20%20%20%20%0A%0A%20%20%20%20%20%20%20%20%20%20%20%20circle_marker_8ca4b911a27a4a1aa5701c16e167a1e3.bindPopup%28popup_b82d74788a7d4b38beb20003cba28867%29%3B%0A%0A%20%20%20%20%20%20%20%20%20%20%20%20%0A%20%20%20%20%20%20%20%20%0A%20%20%20%20%0A%20%20%20%20%20%20%20%20%20%20%20%20var%20circle_marker_f9e23843516e4e698b0d3dabac9ad028%20%3D%20L.circleMarker%28%0A%20%20%20%20%20%20%20%20%20%20%20%20%20%20%20%20%5B41.0208122%2C39.42036575962547%5D%2C%0A%20%20%20%20%20%20%20%20%20%20%20%20%20%20%20%20%7B%0A%20%20%22bubblingMouseEvents%22%3A%20true%2C%0A%20%20%22color%22%3A%20%22red%22%2C%0A%20%20%22dashArray%22%3A%20null%2C%0A%20%20%22dashOffset%22%3A%20null%2C%0A%20%20%22fill%22%3A%20true%2C%0A%20%20%22fillColor%22%3A%20%22red%22%2C%0A%20%20%22fillOpacity%22%3A%200.7%2C%0A%20%20%22fillRule%22%3A%20%22evenodd%22%2C%0A%20%20%22lineCap%22%3A%20%22round%22%2C%0A%20%20%22lineJoin%22%3A%20%22round%22%2C%0A%20%20%22opacity%22%3A%201.0%2C%0A%20%20%22radius%22%3A%205%2C%0A%20%20%22stroke%22%3A%20true%2C%0A%20%20%22weight%22%3A%203%0A%7D%0A%20%20%20%20%20%20%20%20%20%20%20%20%20%20%20%20%29.addTo%28map_fb3b86602cee4bfcb7ddc05727ce5dbc%29%3B%0A%20%20%20%20%20%20%20%20%20%20%20%20%0A%20%20%20%20%0A%20%20%20%20%20%20%20%20%20%20%20%20var%20popup_b2a9888355b0432e98f6de9837f72f2b%20%3D%20L.popup%28%7BmaxWidth%3A%20%27300%27%7D%29%3B%0A%0A%20%20%20%20%20%20%20%20%20%20%20%20%0A%20%20%20%20%20%20%20%20%20%20%20%20%20%20%20%20var%20html_ce8f393dc0294db3bc4ef61f25e1bd0e%20%3D%20%24%28%27%3Cdiv%20id%3D%22html_ce8f393dc0294db3bc4ef61f25e1bd0e%22%20style%3D%22width%3A%20100.0%25%3B%20height%3A%20100.0%25%3B%22%3ECarsibasi%3C/div%3E%27%29%5B0%5D%3B%0A%20%20%20%20%20%20%20%20%20%20%20%20%20%20%20%20popup_b2a9888355b0432e98f6de9837f72f2b.setContent%28html_ce8f393dc0294db3bc4ef61f25e1bd0e%29%3B%0A%20%20%20%20%20%20%20%20%20%20%20%20%0A%0A%20%20%20%20%20%20%20%20%20%20%20%20circle_marker_f9e23843516e4e698b0d3dabac9ad028.bindPopup%28popup_b2a9888355b0432e98f6de9837f72f2b%29%3B%0A%0A%20%20%20%20%20%20%20%20%20%20%20%20%0A%20%20%20%20%20%20%20%20%0A%20%20%20%20%0A%20%20%20%20%20%20%20%20%20%20%20%20var%20circle_marker_c5b50fcefc5e41dd85f4b786f1f18ea1%20%3D%20L.circleMarker%28%0A%20%20%20%20%20%20%20%20%20%20%20%20%20%20%20%20%5B40.65317495%2C40.24826784776805%5D%2C%0A%20%20%20%20%20%20%20%20%20%20%20%20%20%20%20%20%7B%0A%20%20%22bubblingMouseEvents%22%3A%20true%2C%0A%20%20%22color%22%3A%20%22red%22%2C%0A%20%20%22dashArray%22%3A%20null%2C%0A%20%20%22dashOffset%22%3A%20null%2C%0A%20%20%22fill%22%3A%20true%2C%0A%20%20%22fillColor%22%3A%20%22red%22%2C%0A%20%20%22fillOpacity%22%3A%200.7%2C%0A%20%20%22fillRule%22%3A%20%22evenodd%22%2C%0A%20%20%22lineCap%22%3A%20%22round%22%2C%0A%20%20%22lineJoin%22%3A%20%22round%22%2C%0A%20%20%22opacity%22%3A%201.0%2C%0A%20%20%22radius%22%3A%205%2C%0A%20%20%22stroke%22%3A%20true%2C%0A%20%20%22weight%22%3A%203%0A%7D%0A%20%20%20%20%20%20%20%20%20%20%20%20%20%20%20%20%29.addTo%28map_fb3b86602cee4bfcb7ddc05727ce5dbc%29%3B%0A%20%20%20%20%20%20%20%20%20%20%20%20%0A%20%20%20%20%0A%20%20%20%20%20%20%20%20%20%20%20%20var%20popup_ba81da533ca447ab9c599a3ce477f2a4%20%3D%20L.popup%28%7BmaxWidth%3A%20%27300%27%7D%29%3B%0A%0A%20%20%20%20%20%20%20%20%20%20%20%20%0A%20%20%20%20%20%20%20%20%20%20%20%20%20%20%20%20var%20html_64ff4a4d349846e19a53a296b0f66950%20%3D%20%24%28%27%3Cdiv%20id%3D%22html_64ff4a4d349846e19a53a296b0f66950%22%20style%3D%22width%3A%20100.0%25%3B%20height%3A%20100.0%25%3B%22%3ECaykara%3C/div%3E%27%29%5B0%5D%3B%0A%20%20%20%20%20%20%20%20%20%20%20%20%20%20%20%20popup_ba81da533ca447ab9c599a3ce477f2a4.setContent%28html_64ff4a4d349846e19a53a296b0f66950%29%3B%0A%20%20%20%20%20%20%20%20%20%20%20%20%0A%0A%20%20%20%20%20%20%20%20%20%20%20%20circle_marker_c5b50fcefc5e41dd85f4b786f1f18ea1.bindPopup%28popup_ba81da533ca447ab9c599a3ce477f2a4%29%3B%0A%0A%20%20%20%20%20%20%20%20%20%20%20%20%0A%20%20%20%20%20%20%20%20%0A%20%20%20%20%0A%20%20%20%20%20%20%20%20%20%20%20%20var%20circle_marker_976f10f944944b23bd72ddd69e9f3c9f%20%3D%20L.circleMarker%28%0A%20%20%20%20%20%20%20%20%20%20%20%20%20%20%20%20%5B40.77588395%2C40.19523282985675%5D%2C%0A%20%20%20%20%20%20%20%20%20%20%20%20%20%20%20%20%7B%0A%20%20%22bubblingMouseEvents%22%3A%20true%2C%0A%20%20%22color%22%3A%20%22red%22%2C%0A%20%20%22dashArray%22%3A%20null%2C%0A%20%20%22dashOffset%22%3A%20null%2C%0A%20%20%22fill%22%3A%20true%2C%0A%20%20%22fillColor%22%3A%20%22red%22%2C%0A%20%20%22fillOpacity%22%3A%200.7%2C%0A%20%20%22fillRule%22%3A%20%22evenodd%22%2C%0A%20%20%22lineCap%22%3A%20%22round%22%2C%0A%20%20%22lineJoin%22%3A%20%22round%22%2C%0A%20%20%22opacity%22%3A%201.0%2C%0A%20%20%22radius%22%3A%205%2C%0A%20%20%22stroke%22%3A%20true%2C%0A%20%20%22weight%22%3A%203%0A%7D%0A%20%20%20%20%20%20%20%20%20%20%20%20%20%20%20%20%29.addTo%28map_fb3b86602cee4bfcb7ddc05727ce5dbc%29%3B%0A%20%20%20%20%20%20%20%20%20%20%20%20%0A%20%20%20%20%0A%20%20%20%20%20%20%20%20%20%20%20%20var%20popup_0bfd04cc06f14130a1054474c9959511%20%3D%20L.popup%28%7BmaxWidth%3A%20%27300%27%7D%29%3B%0A%0A%20%20%20%20%20%20%20%20%20%20%20%20%0A%20%20%20%20%20%20%20%20%20%20%20%20%20%20%20%20var%20html_c8a5c677c6f34864ae307dc86029b163%20%3D%20%24%28%27%3Cdiv%20id%3D%22html_c8a5c677c6f34864ae307dc86029b163%22%20style%3D%22width%3A%20100.0%25%3B%20height%3A%20100.0%25%3B%22%3EDernekpazari%3C/div%3E%27%29%5B0%5D%3B%0A%20%20%20%20%20%20%20%20%20%20%20%20%20%20%20%20popup_0bfd04cc06f14130a1054474c9959511.setContent%28html_c8a5c677c6f34864ae307dc86029b163%29%3B%0A%20%20%20%20%20%20%20%20%20%20%20%20%0A%0A%20%20%20%20%20%20%20%20%20%20%20%20circle_marker_976f10f944944b23bd72ddd69e9f3c9f.bindPopup%28popup_0bfd04cc06f14130a1054474c9959511%29%3B%0A%0A%20%20%20%20%20%20%20%20%20%20%20%20%0A%20%20%20%20%20%20%20%20%0A%20%20%20%20%0A%20%20%20%20%20%20%20%20%20%20%20%20var%20circle_marker_3c6f363b06bc43cfbbb97284b7d17f0f%20%3D%20L.circleMarker%28%0A%20%20%20%20%20%20%20%20%20%20%20%20%20%20%20%20%5B40.837950750000005%2C39.38747995360616%5D%2C%0A%20%20%20%20%20%20%20%20%20%20%20%20%20%20%20%20%7B%0A%20%20%22bubblingMouseEvents%22%3A%20true%2C%0A%20%20%22color%22%3A%20%22red%22%2C%0A%20%20%22dashArray%22%3A%20null%2C%0A%20%20%22dashOffset%22%3A%20null%2C%0A%20%20%22fill%22%3A%20true%2C%0A%20%20%22fillColor%22%3A%20%22red%22%2C%0A%20%20%22fillOpacity%22%3A%200.7%2C%0A%20%20%22fillRule%22%3A%20%22evenodd%22%2C%0A%20%20%22lineCap%22%3A%20%22round%22%2C%0A%20%20%22lineJoin%22%3A%20%22round%22%2C%0A%20%20%22opacity%22%3A%201.0%2C%0A%20%20%22radius%22%3A%205%2C%0A%20%20%22stroke%22%3A%20true%2C%0A%20%20%22weight%22%3A%203%0A%7D%0A%20%20%20%20%20%20%20%20%20%20%20%20%20%20%20%20%29.addTo%28map_fb3b86602cee4bfcb7ddc05727ce5dbc%29%3B%0A%20%20%20%20%20%20%20%20%20%20%20%20%0A%20%20%20%20%0A%20%20%20%20%20%20%20%20%20%20%20%20var%20popup_1b1dffd9ced74991ad84a5e838d3210f%20%3D%20L.popup%28%7BmaxWidth%3A%20%27300%27%7D%29%3B%0A%0A%20%20%20%20%20%20%20%20%20%20%20%20%0A%20%20%20%20%20%20%20%20%20%20%20%20%20%20%20%20var%20html_749722ab81874d00a854cea12a866807%20%3D%20%24%28%27%3Cdiv%20id%3D%22html_749722ab81874d00a854cea12a866807%22%20style%3D%22width%3A%20100.0%25%3B%20height%3A%20100.0%25%3B%22%3EDuzkoy%3C/div%3E%27%29%5B0%5D%3B%0A%20%20%20%20%20%20%20%20%20%20%20%20%20%20%20%20popup_1b1dffd9ced74991ad84a5e838d3210f.setContent%28html_749722ab81874d00a854cea12a866807%29%3B%0A%20%20%20%20%20%20%20%20%20%20%20%20%0A%0A%20%20%20%20%20%20%20%20%20%20%20%20circle_marker_3c6f363b06bc43cfbbb97284b7d17f0f.bindPopup%28popup_1b1dffd9ced74991ad84a5e838d3210f%29%3B%0A%0A%20%20%20%20%20%20%20%20%20%20%20%20%0A%20%20%20%20%20%20%20%20%0A%20%20%20%20%0A%20%20%20%20%20%20%20%20%20%20%20%20var%20circle_marker_28304240ed1d4337b8605cf0f7faa8da%20%3D%20L.circleMarker%28%0A%20%20%20%20%20%20%20%20%20%20%20%20%20%20%20%20%5B40.77103125%2C40.406843160049114%5D%2C%0A%20%20%20%20%20%20%20%20%20%20%20%20%20%20%20%20%7B%0A%20%20%22bubblingMouseEvents%22%3A%20true%2C%0A%20%20%22color%22%3A%20%22red%22%2C%0A%20%20%22dashArray%22%3A%20null%2C%0A%20%20%22dashOffset%22%3A%20null%2C%0A%20%20%22fill%22%3A%20true%2C%0A%20%20%22fillColor%22%3A%20%22red%22%2C%0A%20%20%22fillOpacity%22%3A%200.7%2C%0A%20%20%22fillRule%22%3A%20%22evenodd%22%2C%0A%20%20%22lineCap%22%3A%20%22round%22%2C%0A%20%20%22lineJoin%22%3A%20%22round%22%2C%0A%20%20%22opacity%22%3A%201.0%2C%0A%20%20%22radius%22%3A%205%2C%0A%20%20%22stroke%22%3A%20true%2C%0A%20%20%22weight%22%3A%203%0A%7D%0A%20%20%20%20%20%20%20%20%20%20%20%20%20%20%20%20%29.addTo%28map_fb3b86602cee4bfcb7ddc05727ce5dbc%29%3B%0A%20%20%20%20%20%20%20%20%20%20%20%20%0A%20%20%20%20%0A%20%20%20%20%20%20%20%20%20%20%20%20var%20popup_0b8ab6abd23c443f99ce8b87d499f95c%20%3D%20L.popup%28%7BmaxWidth%3A%20%27300%27%7D%29%3B%0A%0A%20%20%20%20%20%20%20%20%20%20%20%20%0A%20%20%20%20%20%20%20%20%20%20%20%20%20%20%20%20var%20html_a4be97b0603f43869f93c047322eaa71%20%3D%20%24%28%27%3Cdiv%20id%3D%22html_a4be97b0603f43869f93c047322eaa71%22%20style%3D%22width%3A%20100.0%25%3B%20height%3A%20100.0%25%3B%22%3EHayrat%3C/div%3E%27%29%5B0%5D%3B%0A%20%20%20%20%20%20%20%20%20%20%20%20%20%20%20%20popup_0b8ab6abd23c443f99ce8b87d499f95c.setContent%28html_a4be97b0603f43869f93c047322eaa71%29%3B%0A%20%20%20%20%20%20%20%20%20%20%20%20%0A%0A%20%20%20%20%20%20%20%20%20%20%20%20circle_marker_28304240ed1d4337b8605cf0f7faa8da.bindPopup%28popup_0b8ab6abd23c443f99ce8b87d499f95c%29%3B%0A%0A%20%20%20%20%20%20%20%20%20%20%20%20%0A%20%20%20%20%20%20%20%20%0A%20%20%20%20%0A%20%20%20%20%20%20%20%20%20%20%20%20var%20circle_marker_6efaf810d1dc424dac2f65928c6ed2a2%20%3D%20L.circleMarker%28%0A%20%20%20%20%20%20%20%20%20%20%20%20%20%20%20%20%5B40.700683850000004%2C40.119919684207076%5D%2C%0A%20%20%20%20%20%20%20%20%20%20%20%20%20%20%20%20%7B%0A%20%20%22bubblingMouseEvents%22%3A%20true%2C%0A%20%20%22color%22%3A%20%22red%22%2C%0A%20%20%22dashArray%22%3A%20null%2C%0A%20%20%22dashOffset%22%3A%20null%2C%0A%20%20%22fill%22%3A%20true%2C%0A%20%20%22fillColor%22%3A%20%22red%22%2C%0A%20%20%22fillOpacity%22%3A%200.7%2C%0A%20%20%22fillRule%22%3A%20%22evenodd%22%2C%0A%20%20%22lineCap%22%3A%20%22round%22%2C%0A%20%20%22lineJoin%22%3A%20%22round%22%2C%0A%20%20%22opacity%22%3A%201.0%2C%0A%20%20%22radius%22%3A%205%2C%0A%20%20%22stroke%22%3A%20true%2C%0A%20%20%22weight%22%3A%203%0A%7D%0A%20%20%20%20%20%20%20%20%20%20%20%20%20%20%20%20%29.addTo%28map_fb3b86602cee4bfcb7ddc05727ce5dbc%29%3B%0A%20%20%20%20%20%20%20%20%20%20%20%20%0A%20%20%20%20%0A%20%20%20%20%20%20%20%20%20%20%20%20var%20popup_724bef0b81cb4732983c29f0f27644d1%20%3D%20L.popup%28%7BmaxWidth%3A%20%27300%27%7D%29%3B%0A%0A%20%20%20%20%20%20%20%20%20%20%20%20%0A%20%20%20%20%20%20%20%20%20%20%20%20%20%20%20%20var%20html_7d636d497f8a4045be5d97bc65021b09%20%3D%20%24%28%27%3Cdiv%20id%3D%22html_7d636d497f8a4045be5d97bc65021b09%22%20style%3D%22width%3A%20100.0%25%3B%20height%3A%20100.0%25%3B%22%3EKoprubasi%3C/div%3E%27%29%5B0%5D%3B%0A%20%20%20%20%20%20%20%20%20%20%20%20%20%20%20%20popup_724bef0b81cb4732983c29f0f27644d1.setContent%28html_7d636d497f8a4045be5d97bc65021b09%29%3B%0A%20%20%20%20%20%20%20%20%20%20%20%20%0A%0A%20%20%20%20%20%20%20%20%20%20%20%20circle_marker_6efaf810d1dc424dac2f65928c6ed2a2.bindPopup%28popup_724bef0b81cb4732983c29f0f27644d1%29%3B%0A%0A%20%20%20%20%20%20%20%20%20%20%20%20%0A%20%20%20%20%20%20%20%20%0A%20%20%20%20%0A%20%20%20%20%20%20%20%20%20%20%20%20var%20circle_marker_9ab8ce6f9d2948d0993e96ff25f5c056%20%3D%20L.circleMarker%28%0A%20%20%20%20%20%20%20%20%20%20%20%20%20%20%20%20%5B40.76016175%2C39.57144340541163%5D%2C%0A%20%20%20%20%20%20%20%20%20%20%20%20%20%20%20%20%7B%0A%20%20%22bubblingMouseEvents%22%3A%20true%2C%0A%20%20%22color%22%3A%20%22red%22%2C%0A%20%20%22dashArray%22%3A%20null%2C%0A%20%20%22dashOffset%22%3A%20null%2C%0A%20%20%22fill%22%3A%20true%2C%0A%20%20%22fillColor%22%3A%20%22red%22%2C%0A%20%20%22fillOpacity%22%3A%200.7%2C%0A%20%20%22fillRule%22%3A%20%22evenodd%22%2C%0A%20%20%22lineCap%22%3A%20%22round%22%2C%0A%20%20%22lineJoin%22%3A%20%22round%22%2C%0A%20%20%22opacity%22%3A%201.0%2C%0A%20%20%22radius%22%3A%205%2C%0A%20%20%22stroke%22%3A%20true%2C%0A%20%20%22weight%22%3A%203%0A%7D%0A%20%20%20%20%20%20%20%20%20%20%20%20%20%20%20%20%29.addTo%28map_fb3b86602cee4bfcb7ddc05727ce5dbc%29%3B%0A%20%20%20%20%20%20%20%20%20%20%20%20%0A%20%20%20%20%0A%20%20%20%20%20%20%20%20%20%20%20%20var%20popup_695c94054d184f89997f460c707c47ad%20%3D%20L.popup%28%7BmaxWidth%3A%20%27300%27%7D%29%3B%0A%0A%20%20%20%20%20%20%20%20%20%20%20%20%0A%20%20%20%20%20%20%20%20%20%20%20%20%20%20%20%20var%20html_345ab3af32044cd1be104fc033f52b51%20%3D%20%24%28%27%3Cdiv%20id%3D%22html_345ab3af32044cd1be104fc033f52b51%22%20style%3D%22width%3A%20100.0%25%3B%20height%3A%20100.0%25%3B%22%3EMacka%3C/div%3E%27%29%5B0%5D%3B%0A%20%20%20%20%20%20%20%20%20%20%20%20%20%20%20%20popup_695c94054d184f89997f460c707c47ad.setContent%28html_345ab3af32044cd1be104fc033f52b51%29%3B%0A%20%20%20%20%20%20%20%20%20%20%20%20%0A%0A%20%20%20%20%20%20%20%20%20%20%20%20circle_marker_9ab8ce6f9d2948d0993e96ff25f5c056.bindPopup%28popup_695c94054d184f89997f460c707c47ad%29%3B%0A%0A%20%20%20%20%20%20%20%20%20%20%20%20%0A%20%20%20%20%20%20%20%20%0A%20%20%20%20%0A%20%20%20%20%20%20%20%20%20%20%20%20var%20circle_marker_48c78b8a48364dbc8d6fc082d0522a1a%20%3D%20L.circleMarker%28%0A%20%20%20%20%20%20%20%20%20%20%20%20%20%20%20%20%5B40.881735899999995%2C40.27544376928809%5D%2C%0A%20%20%20%20%20%20%20%20%20%20%20%20%20%20%20%20%7B%0A%20%20%22bubblingMouseEvents%22%3A%20true%2C%0A%20%20%22color%22%3A%20%22red%22%2C%0A%20%20%22dashArray%22%3A%20null%2C%0A%20%20%22dashOffset%22%3A%20null%2C%0A%20%20%22fill%22%3A%20true%2C%0A%20%20%22fillColor%22%3A%20%22red%22%2C%0A%20%20%22fillOpacity%22%3A%200.7%2C%0A%20%20%22fillRule%22%3A%20%22evenodd%22%2C%0A%20%20%22lineCap%22%3A%20%22round%22%2C%0A%20%20%22lineJoin%22%3A%20%22round%22%2C%0A%20%20%22opacity%22%3A%201.0%2C%0A%20%20%22radius%22%3A%205%2C%0A%20%20%22stroke%22%3A%20true%2C%0A%20%20%22weight%22%3A%203%0A%7D%0A%20%20%20%20%20%20%20%20%20%20%20%20%20%20%20%20%29.addTo%28map_fb3b86602cee4bfcb7ddc05727ce5dbc%29%3B%0A%20%20%20%20%20%20%20%20%20%20%20%20%0A%20%20%20%20%0A%20%20%20%20%20%20%20%20%20%20%20%20var%20popup_840caf48c7244844bd580e903637e337%20%3D%20L.popup%28%7BmaxWidth%3A%20%27300%27%7D%29%3B%0A%0A%20%20%20%20%20%20%20%20%20%20%20%20%0A%20%20%20%20%20%20%20%20%20%20%20%20%20%20%20%20var%20html_0ae6b69b82ba49fcb32fbe7eadf4d417%20%3D%20%24%28%27%3Cdiv%20id%3D%22html_0ae6b69b82ba49fcb32fbe7eadf4d417%22%20style%3D%22width%3A%20100.0%25%3B%20height%3A%20100.0%25%3B%22%3EOf%3C/div%3E%27%29%5B0%5D%3B%0A%20%20%20%20%20%20%20%20%20%20%20%20%20%20%20%20popup_840caf48c7244844bd580e903637e337.setContent%28html_0ae6b69b82ba49fcb32fbe7eadf4d417%29%3B%0A%20%20%20%20%20%20%20%20%20%20%20%20%0A%0A%20%20%20%20%20%20%20%20%20%20%20%20circle_marker_48c78b8a48364dbc8d6fc082d0522a1a.bindPopup%28popup_840caf48c7244844bd580e903637e337%29%3B%0A%0A%20%20%20%20%20%20%20%20%20%20%20%20%0A%20%20%20%20%20%20%20%20%0A%20%20%20%20%0A%20%20%20%20%20%20%20%20%20%20%20%20var%20circle_marker_6cc47c6da2ff4bf2b1bf389ce0520544%20%3D%20L.circleMarker%28%0A%20%20%20%20%20%20%20%20%20%20%20%20%20%20%20%20%5B41.0013246%2C39.706678%5D%2C%0A%20%20%20%20%20%20%20%20%20%20%20%20%20%20%20%20%7B%0A%20%20%22bubblingMouseEvents%22%3A%20true%2C%0A%20%20%22color%22%3A%20%22red%22%2C%0A%20%20%22dashArray%22%3A%20null%2C%0A%20%20%22dashOffset%22%3A%20null%2C%0A%20%20%22fill%22%3A%20true%2C%0A%20%20%22fillColor%22%3A%20%22red%22%2C%0A%20%20%22fillOpacity%22%3A%200.7%2C%0A%20%20%22fillRule%22%3A%20%22evenodd%22%2C%0A%20%20%22lineCap%22%3A%20%22round%22%2C%0A%20%20%22lineJoin%22%3A%20%22round%22%2C%0A%20%20%22opacity%22%3A%201.0%2C%0A%20%20%22radius%22%3A%205%2C%0A%20%20%22stroke%22%3A%20true%2C%0A%20%20%22weight%22%3A%203%0A%7D%0A%20%20%20%20%20%20%20%20%20%20%20%20%20%20%20%20%29.addTo%28map_fb3b86602cee4bfcb7ddc05727ce5dbc%29%3B%0A%20%20%20%20%20%20%20%20%20%20%20%20%0A%20%20%20%20%0A%20%20%20%20%20%20%20%20%20%20%20%20var%20popup_8f8c590de860422eac5483b65a934246%20%3D%20L.popup%28%7BmaxWidth%3A%20%27300%27%7D%29%3B%0A%0A%20%20%20%20%20%20%20%20%20%20%20%20%0A%20%20%20%20%20%20%20%20%20%20%20%20%20%20%20%20var%20html_e38d6a75d6874d5eb50a4370e985afd4%20%3D%20%24%28%27%3Cdiv%20id%3D%22html_e38d6a75d6874d5eb50a4370e985afd4%22%20style%3D%22width%3A%20100.0%25%3B%20height%3A%20100.0%25%3B%22%3EOrtahisar%3C/div%3E%27%29%5B0%5D%3B%0A%20%20%20%20%20%20%20%20%20%20%20%20%20%20%20%20popup_8f8c590de860422eac5483b65a934246.setContent%28html_e38d6a75d6874d5eb50a4370e985afd4%29%3B%0A%20%20%20%20%20%20%20%20%20%20%20%20%0A%0A%20%20%20%20%20%20%20%20%20%20%20%20circle_marker_6cc47c6da2ff4bf2b1bf389ce0520544.bindPopup%28popup_8f8c590de860422eac5483b65a934246%29%3B%0A%0A%20%20%20%20%20%20%20%20%20%20%20%20%0A%20%20%20%20%20%20%20%20%0A%20%20%20%20%0A%20%20%20%20%20%20%20%20%20%20%20%20var%20circle_marker_30c55c09b84b4f0889324aaf13b53c78%20%3D%20L.circleMarker%28%0A%20%20%20%20%20%20%20%20%20%20%20%20%20%20%20%20%5B40.80381275%2C40.05926799999738%5D%2C%0A%20%20%20%20%20%20%20%20%20%20%20%20%20%20%20%20%7B%0A%20%20%22bubblingMouseEvents%22%3A%20true%2C%0A%20%20%22color%22%3A%20%22red%22%2C%0A%20%20%22dashArray%22%3A%20null%2C%0A%20%20%22dashOffset%22%3A%20null%2C%0A%20%20%22fill%22%3A%20true%2C%0A%20%20%22fillColor%22%3A%20%22red%22%2C%0A%20%20%22fillOpacity%22%3A%200.7%2C%0A%20%20%22fillRule%22%3A%20%22evenodd%22%2C%0A%20%20%22lineCap%22%3A%20%22round%22%2C%0A%20%20%22lineJoin%22%3A%20%22round%22%2C%0A%20%20%22opacity%22%3A%201.0%2C%0A%20%20%22radius%22%3A%205%2C%0A%20%20%22stroke%22%3A%20true%2C%0A%20%20%22weight%22%3A%203%0A%7D%0A%20%20%20%20%20%20%20%20%20%20%20%20%20%20%20%20%29.addTo%28map_fb3b86602cee4bfcb7ddc05727ce5dbc%29%3B%0A%20%20%20%20%20%20%20%20%20%20%20%20%0A%20%20%20%20%0A%20%20%20%20%20%20%20%20%20%20%20%20var%20popup_1248f0a1f84e4754a0fb74e7d95c105c%20%3D%20L.popup%28%7BmaxWidth%3A%20%27300%27%7D%29%3B%0A%0A%20%20%20%20%20%20%20%20%20%20%20%20%0A%20%20%20%20%20%20%20%20%20%20%20%20%20%20%20%20var%20html_a8bf0fe628674817a1418fa6d238a39d%20%3D%20%24%28%27%3Cdiv%20id%3D%22html_a8bf0fe628674817a1418fa6d238a39d%22%20style%3D%22width%3A%20100.0%25%3B%20height%3A%20100.0%25%3B%22%3ESurmene%3C/div%3E%27%29%5B0%5D%3B%0A%20%20%20%20%20%20%20%20%20%20%20%20%20%20%20%20popup_1248f0a1f84e4754a0fb74e7d95c105c.setContent%28html_a8bf0fe628674817a1418fa6d238a39d%29%3B%0A%20%20%20%20%20%20%20%20%20%20%20%20%0A%0A%20%20%20%20%20%20%20%20%20%20%20%20circle_marker_30c55c09b84b4f0889324aaf13b53c78.bindPopup%28popup_1248f0a1f84e4754a0fb74e7d95c105c%29%3B%0A%0A%20%20%20%20%20%20%20%20%20%20%20%20%0A%20%20%20%20%20%20%20%20%0A%20%20%20%20%0A%20%20%20%20%20%20%20%20%20%20%20%20var%20circle_marker_848f2a59eebd45cea4bb6f9c469a180d%20%3D%20L.circleMarker%28%0A%20%20%20%20%20%20%20%20%20%20%20%20%20%20%20%20%5B40.8629768%2C39.196401370242995%5D%2C%0A%20%20%20%20%20%20%20%20%20%20%20%20%20%20%20%20%7B%0A%20%20%22bubblingMouseEvents%22%3A%20true%2C%0A%20%20%22color%22%3A%20%22red%22%2C%0A%20%20%22dashArray%22%3A%20null%2C%0A%20%20%22dashOffset%22%3A%20null%2C%0A%20%20%22fill%22%3A%20true%2C%0A%20%20%22fillColor%22%3A%20%22red%22%2C%0A%20%20%22fillOpacity%22%3A%200.7%2C%0A%20%20%22fillRule%22%3A%20%22evenodd%22%2C%0A%20%20%22lineCap%22%3A%20%22round%22%2C%0A%20%20%22lineJoin%22%3A%20%22round%22%2C%0A%20%20%22opacity%22%3A%201.0%2C%0A%20%20%22radius%22%3A%205%2C%0A%20%20%22stroke%22%3A%20true%2C%0A%20%20%22weight%22%3A%203%0A%7D%0A%20%20%20%20%20%20%20%20%20%20%20%20%20%20%20%20%29.addTo%28map_fb3b86602cee4bfcb7ddc05727ce5dbc%29%3B%0A%20%20%20%20%20%20%20%20%20%20%20%20%0A%20%20%20%20%0A%20%20%20%20%20%20%20%20%20%20%20%20var%20popup_2e4f03b237c74b9082603cb4f4416ec8%20%3D%20L.popup%28%7BmaxWidth%3A%20%27300%27%7D%29%3B%0A%0A%20%20%20%20%20%20%20%20%20%20%20%20%0A%20%20%20%20%20%20%20%20%20%20%20%20%20%20%20%20var%20html_adfb8f774e4442ce80de49f991e8a648%20%3D%20%24%28%27%3Cdiv%20id%3D%22html_adfb8f774e4442ce80de49f991e8a648%22%20style%3D%22width%3A%20100.0%25%3B%20height%3A%20100.0%25%3B%22%3ESalpazari%3C/div%3E%27%29%5B0%5D%3B%0A%20%20%20%20%20%20%20%20%20%20%20%20%20%20%20%20popup_2e4f03b237c74b9082603cb4f4416ec8.setContent%28html_adfb8f774e4442ce80de49f991e8a648%29%3B%0A%20%20%20%20%20%20%20%20%20%20%20%20%0A%0A%20%20%20%20%20%20%20%20%20%20%20%20circle_marker_848f2a59eebd45cea4bb6f9c469a180d.bindPopup%28popup_2e4f03b237c74b9082603cb4f4416ec8%29%3B%0A%0A%20%20%20%20%20%20%20%20%20%20%20%20%0A%20%20%20%20%20%20%20%20%0A%20%20%20%20%0A%20%20%20%20%20%20%20%20%20%20%20%20var%20circle_marker_7cb5cd0809bc498889b3a278dc6cb20a%20%3D%20L.circleMarker%28%0A%20%20%20%20%20%20%20%20%20%20%20%20%20%20%20%20%5B40.84315599999999%2C39.28876204586938%5D%2C%0A%20%20%20%20%20%20%20%20%20%20%20%20%20%20%20%20%7B%0A%20%20%22bubblingMouseEvents%22%3A%20true%2C%0A%20%20%22color%22%3A%20%22red%22%2C%0A%20%20%22dashArray%22%3A%20null%2C%0A%20%20%22dashOffset%22%3A%20null%2C%0A%20%20%22fill%22%3A%20true%2C%0A%20%20%22fillColor%22%3A%20%22red%22%2C%0A%20%20%22fillOpacity%22%3A%200.7%2C%0A%20%20%22fillRule%22%3A%20%22evenodd%22%2C%0A%20%20%22lineCap%22%3A%20%22round%22%2C%0A%20%20%22lineJoin%22%3A%20%22round%22%2C%0A%20%20%22opacity%22%3A%201.0%2C%0A%20%20%22radius%22%3A%205%2C%0A%20%20%22stroke%22%3A%20true%2C%0A%20%20%22weight%22%3A%203%0A%7D%0A%20%20%20%20%20%20%20%20%20%20%20%20%20%20%20%20%29.addTo%28map_fb3b86602cee4bfcb7ddc05727ce5dbc%29%3B%0A%20%20%20%20%20%20%20%20%20%20%20%20%0A%20%20%20%20%0A%20%20%20%20%20%20%20%20%20%20%20%20var%20popup_6c768ad8fd774cbaa69f6d801fef03d1%20%3D%20L.popup%28%7BmaxWidth%3A%20%27300%27%7D%29%3B%0A%0A%20%20%20%20%20%20%20%20%20%20%20%20%0A%20%20%20%20%20%20%20%20%20%20%20%20%20%20%20%20var%20html_4134935802d745aa931241f3e3d6bd0a%20%3D%20%24%28%27%3Cdiv%20id%3D%22html_4134935802d745aa931241f3e3d6bd0a%22%20style%3D%22width%3A%20100.0%25%3B%20height%3A%20100.0%25%3B%22%3ETonya%3C/div%3E%27%29%5B0%5D%3B%0A%20%20%20%20%20%20%20%20%20%20%20%20%20%20%20%20popup_6c768ad8fd774cbaa69f6d801fef03d1.setContent%28html_4134935802d745aa931241f3e3d6bd0a%29%3B%0A%20%20%20%20%20%20%20%20%20%20%20%20%0A%0A%20%20%20%20%20%20%20%20%20%20%20%20circle_marker_7cb5cd0809bc498889b3a278dc6cb20a.bindPopup%28popup_6c768ad8fd774cbaa69f6d801fef03d1%29%3B%0A%0A%20%20%20%20%20%20%20%20%20%20%20%20%0A%20%20%20%20%20%20%20%20%0A%20%20%20%20%0A%20%20%20%20%20%20%20%20%20%20%20%20var%20circle_marker_d35015a3650e4159a05283f252caae9d%20%3D%20L.circleMarker%28%0A%20%20%20%20%20%20%20%20%20%20%20%20%20%20%20%20%5B40.9940658%2C39.313662610276964%5D%2C%0A%20%20%20%20%20%20%20%20%20%20%20%20%20%20%20%20%7B%0A%20%20%22bubblingMouseEvents%22%3A%20true%2C%0A%20%20%22color%22%3A%20%22red%22%2C%0A%20%20%22dashArray%22%3A%20null%2C%0A%20%20%22dashOffset%22%3A%20null%2C%0A%20%20%22fill%22%3A%20true%2C%0A%20%20%22fillColor%22%3A%20%22red%22%2C%0A%20%20%22fillOpacity%22%3A%200.7%2C%0A%20%20%22fillRule%22%3A%20%22evenodd%22%2C%0A%20%20%22lineCap%22%3A%20%22round%22%2C%0A%20%20%22lineJoin%22%3A%20%22round%22%2C%0A%20%20%22opacity%22%3A%201.0%2C%0A%20%20%22radius%22%3A%205%2C%0A%20%20%22stroke%22%3A%20true%2C%0A%20%20%22weight%22%3A%203%0A%7D%0A%20%20%20%20%20%20%20%20%20%20%20%20%20%20%20%20%29.addTo%28map_fb3b86602cee4bfcb7ddc05727ce5dbc%29%3B%0A%20%20%20%20%20%20%20%20%20%20%20%20%0A%20%20%20%20%0A%20%20%20%20%20%20%20%20%20%20%20%20var%20popup_f79f1975fdf4488db77a4256991e1366%20%3D%20L.popup%28%7BmaxWidth%3A%20%27300%27%7D%29%3B%0A%0A%20%20%20%20%20%20%20%20%20%20%20%20%0A%20%20%20%20%20%20%20%20%20%20%20%20%20%20%20%20var%20html_66c80cb109dd4be29cf50775025b4eda%20%3D%20%24%28%27%3Cdiv%20id%3D%22html_66c80cb109dd4be29cf50775025b4eda%22%20style%3D%22width%3A%20100.0%25%3B%20height%3A%20100.0%25%3B%22%3EVakfikebir%3C/div%3E%27%29%5B0%5D%3B%0A%20%20%20%20%20%20%20%20%20%20%20%20%20%20%20%20popup_f79f1975fdf4488db77a4256991e1366.setContent%28html_66c80cb109dd4be29cf50775025b4eda%29%3B%0A%20%20%20%20%20%20%20%20%20%20%20%20%0A%0A%20%20%20%20%20%20%20%20%20%20%20%20circle_marker_d35015a3650e4159a05283f252caae9d.bindPopup%28popup_f79f1975fdf4488db77a4256991e1366%29%3B%0A%0A%20%20%20%20%20%20%20%20%20%20%20%20%0A%20%20%20%20%20%20%20%20%0A%20%20%20%20%0A%20%20%20%20%20%20%20%20%20%20%20%20var%20circle_marker_d577637941164e2ebd59ab4a3feb2739%20%3D%20L.circleMarker%28%0A%20%20%20%20%20%20%20%20%20%20%20%20%20%20%20%20%5B40.8471281%2C39.84282211193375%5D%2C%0A%20%20%20%20%20%20%20%20%20%20%20%20%20%20%20%20%7B%0A%20%20%22bubblingMouseEvents%22%3A%20true%2C%0A%20%20%22color%22%3A%20%22red%22%2C%0A%20%20%22dashArray%22%3A%20null%2C%0A%20%20%22dashOffset%22%3A%20null%2C%0A%20%20%22fill%22%3A%20true%2C%0A%20%20%22fillColor%22%3A%20%22red%22%2C%0A%20%20%22fillOpacity%22%3A%200.7%2C%0A%20%20%22fillRule%22%3A%20%22evenodd%22%2C%0A%20%20%22lineCap%22%3A%20%22round%22%2C%0A%20%20%22lineJoin%22%3A%20%22round%22%2C%0A%20%20%22opacity%22%3A%201.0%2C%0A%20%20%22radius%22%3A%205%2C%0A%20%20%22stroke%22%3A%20true%2C%0A%20%20%22weight%22%3A%203%0A%7D%0A%20%20%20%20%20%20%20%20%20%20%20%20%20%20%20%20%29.addTo%28map_fb3b86602cee4bfcb7ddc05727ce5dbc%29%3B%0A%20%20%20%20%20%20%20%20%20%20%20%20%0A%20%20%20%20%0A%20%20%20%20%20%20%20%20%20%20%20%20var%20popup_0e22f813265641ee9060141021817eae%20%3D%20L.popup%28%7BmaxWidth%3A%20%27300%27%7D%29%3B%0A%0A%20%20%20%20%20%20%20%20%20%20%20%20%0A%20%20%20%20%20%20%20%20%20%20%20%20%20%20%20%20var%20html_fc276e3b9f014bde922ba399bdc726c8%20%3D%20%24%28%27%3Cdiv%20id%3D%22html_fc276e3b9f014bde922ba399bdc726c8%22%20style%3D%22width%3A%20100.0%25%3B%20height%3A%20100.0%25%3B%22%3EYomra%3C/div%3E%27%29%5B0%5D%3B%0A%20%20%20%20%20%20%20%20%20%20%20%20%20%20%20%20popup_0e22f813265641ee9060141021817eae.setContent%28html_fc276e3b9f014bde922ba399bdc726c8%29%3B%0A%20%20%20%20%20%20%20%20%20%20%20%20%0A%0A%20%20%20%20%20%20%20%20%20%20%20%20circle_marker_d577637941164e2ebd59ab4a3feb2739.bindPopup%28popup_0e22f813265641ee9060141021817eae%29%3B%0A%0A%20%20%20%20%20%20%20%20%20%20%20%20%0A%20%20%20%20%20%20%20%20%0A%3C/script%3E onload=\"this.contentDocument.open();this.contentDocument.write(    decodeURIComponent(this.getAttribute('data-html')));this.contentDocument.close();\" allowfullscreen webkitallowfullscreen mozallowfullscreen></iframe></div></div>"
     },
     "metadata": {},
     "execution_count": 110
    }
   ],
   "source": [
    "map_trabzon = folium.Map(location=[latitude,longitude],zoom_start=10)\n",
    "\n",
    "for lat, lng, city in zip(df['lats'],df['longs'],df['cities']):\n",
    "    label = '{}'.format(city)\n",
    "    label = folium.Popup(label,parse_html=True)\n",
    "    folium.CircleMarker([lat,lng],radius=5,popup=label,color='red',fill=True,fill_opacity = 0.7,parse_html=False).add_to(map_trabzon)\n",
    "map_trabzon"
   ]
  },
  {
   "cell_type": "code",
   "execution_count": 112,
   "metadata": {},
   "outputs": [
    {
     "output_type": "stream",
     "name": "stdout",
     "text": [
      "Imported\n"
     ]
    }
   ],
   "source": [
    "from Credentials import CLIENT_ID\n",
    "from Credentials import CLIENT_SECRET\n",
    "from Credentials import ACCESS_TOKEN\n",
    "VERSION = '20180605'\n",
    "LIMIT = 100\n",
    "print(\"Imported\")"
   ]
  },
  {
   "cell_type": "code",
   "execution_count": 117,
   "metadata": {},
   "outputs": [],
   "source": [
    "borough_latitude = df.loc[0,'lats']\n",
    "borough_longitude = df.loc[0,'longs']\n",
    "borough_name = df.loc[0,'cities']"
   ]
  },
  {
   "cell_type": "code",
   "execution_count": 119,
   "metadata": {},
   "outputs": [],
   "source": [
    "LIMIT = 100 # limit of number of venues returned by Foursquare API\n",
    "\n",
    "radius = 500 # define radius\n",
    "\n",
    "url = 'https://api.foursquare.com/v2/venues/explore?&client_id={}&client_secret={}&v={}&ll={},{}&radius={}&limit={}'.format(\n",
    "    CLIENT_ID, \n",
    "    CLIENT_SECRET, \n",
    "    VERSION, \n",
    "    borough_latitude, \n",
    "    borough_longitude, \n",
    "    radius, \n",
    "    LIMIT)\n"
   ]
  },
  {
   "cell_type": "code",
   "execution_count": 120,
   "metadata": {},
   "outputs": [],
   "source": [
    "results= requests.get(url).json()"
   ]
  },
  {
   "cell_type": "code",
   "execution_count": 121,
   "metadata": {},
   "outputs": [],
   "source": [
    "def get_category_type(row):\n",
    "    try:\n",
    "        categories_list= row['categories']\n",
    "    except:\n",
    "        categories_list=row['venue.categories']\n",
    "    if len(categories_list)==0:\n",
    "        return None\n",
    "    else:\n",
    "        return categories_list[0]['name']"
   ]
  },
  {
   "cell_type": "code",
   "execution_count": 122,
   "metadata": {},
   "outputs": [
    {
     "output_type": "execute_result",
     "data": {
      "text/plain": [
       "                                        name  \\\n",
       "0                                 Vazıl Köyü   \n",
       "1           Umut Mobilya Ve Doğrama Atölyesi   \n",
       "2                 Big Balloon Yeşiltepe Köyü   \n",
       "3                           Şenol'un Kahvesi   \n",
       "4  Zafer Restorasyon / Ahşap İşleme Atölyesi   \n",
       "\n",
       "                                          categories        lat        lng  \n",
       "0  [{'id': '4eb1d4d54b900d56c88a45fc', 'name': 'M...  40.966583  39.509335  \n",
       "1  [{'id': '4bf58dd8d48988d1f8941735', 'name': 'F...  40.962168  39.514170  \n",
       "2  [{'id': '4eb1d4d54b900d56c88a45fc', 'name': 'M...  40.966414  39.514532  \n",
       "3  [{'id': '56aa371be4b08b9a8d5734c1', 'name': 'T...  40.963162  39.515226  \n",
       "4  [{'id': '4bf58dd8d48988d127951735', 'name': 'A...  40.963033  39.515163  "
      ],
      "text/html": "<div>\n<style scoped>\n    .dataframe tbody tr th:only-of-type {\n        vertical-align: middle;\n    }\n\n    .dataframe tbody tr th {\n        vertical-align: top;\n    }\n\n    .dataframe thead th {\n        text-align: right;\n    }\n</style>\n<table border=\"1\" class=\"dataframe\">\n  <thead>\n    <tr style=\"text-align: right;\">\n      <th></th>\n      <th>name</th>\n      <th>categories</th>\n      <th>lat</th>\n      <th>lng</th>\n    </tr>\n  </thead>\n  <tbody>\n    <tr>\n      <th>0</th>\n      <td>Vazıl Köyü</td>\n      <td>[{'id': '4eb1d4d54b900d56c88a45fc', 'name': 'M...</td>\n      <td>40.966583</td>\n      <td>39.509335</td>\n    </tr>\n    <tr>\n      <th>1</th>\n      <td>Umut Mobilya Ve Doğrama Atölyesi</td>\n      <td>[{'id': '4bf58dd8d48988d1f8941735', 'name': 'F...</td>\n      <td>40.962168</td>\n      <td>39.514170</td>\n    </tr>\n    <tr>\n      <th>2</th>\n      <td>Big Balloon Yeşiltepe Köyü</td>\n      <td>[{'id': '4eb1d4d54b900d56c88a45fc', 'name': 'M...</td>\n      <td>40.966414</td>\n      <td>39.514532</td>\n    </tr>\n    <tr>\n      <th>3</th>\n      <td>Şenol'un Kahvesi</td>\n      <td>[{'id': '56aa371be4b08b9a8d5734c1', 'name': 'T...</td>\n      <td>40.963162</td>\n      <td>39.515226</td>\n    </tr>\n    <tr>\n      <th>4</th>\n      <td>Zafer Restorasyon / Ahşap İşleme Atölyesi</td>\n      <td>[{'id': '4bf58dd8d48988d127951735', 'name': 'A...</td>\n      <td>40.963033</td>\n      <td>39.515163</td>\n    </tr>\n  </tbody>\n</table>\n</div>"
     },
     "metadata": {},
     "execution_count": 122
    }
   ],
   "source": [
    "venues = results['response']['groups'][0]['items']\n",
    "    \n",
    "nearby_venues = json_normalize(venues)\n",
    "\n",
    "filtered_columns= ['venue.name','venue.categories','venue.location.lat','venue.location.lng']\n",
    "nearby_venues = nearby_venues.loc[:,filtered_columns]\n",
    "\n",
    "nearby_venues.columns = [col.split(\".\")[-1] for col in nearby_venues.columns] \n",
    "nearby_venues.head()"
   ]
  },
  {
   "cell_type": "code",
   "execution_count": 123,
   "metadata": {},
   "outputs": [
    {
     "output_type": "stream",
     "name": "stdout",
     "text": [
      "5 venues were returned by Foursquare.\n"
     ]
    }
   ],
   "source": [
    "print('{} venues were returned by Foursquare.'.format(nearby_venues.shape[0]))"
   ]
  },
  {
   "cell_type": "code",
   "execution_count": 124,
   "metadata": {},
   "outputs": [],
   "source": [
    "def getNearbyVenues(names, latitudes, longitudes, radius=500):\n",
    "    \n",
    "    venues_list=[]\n",
    "    for name, lat, lng in zip(names, latitudes, longitudes):\n",
    "        print(name)\n",
    "            \n",
    "        # create the API request URL\n",
    "        url = 'https://api.foursquare.com/v2/venues/explore?&client_id={}&client_secret={}&v={}&ll={},{}&radius={}&limit={}'.format(\n",
    "            CLIENT_ID, \n",
    "            CLIENT_SECRET, \n",
    "            VERSION, \n",
    "            lat, \n",
    "            lng, \n",
    "            radius, \n",
    "            LIMIT)\n",
    "            \n",
    "        # make the GET request\n",
    "        results = requests.get(url).json()[\"response\"]['groups'][0]['items']\n",
    "        \n",
    "        # return only relevant information for each nearby venue\n",
    "        venues_list.append([(\n",
    "            name, \n",
    "            lat, \n",
    "            lng, \n",
    "            v['venue']['name'], \n",
    "            v['venue']['location']['lat'], \n",
    "            v['venue']['location']['lng'],  \n",
    "            v['venue']['categories'][0]['name']) for v in results])\n",
    "\n",
    "    nearby_venues = pd.DataFrame([item for venue_list in venues_list for item in venue_list])\n",
    "    nearby_venues.columns = ['Neighborhood', \n",
    "                  'Neighborhood Latitude', \n",
    "                  'Neighborhood Longitude', \n",
    "                  'Venue', \n",
    "                  'Venue Latitude', \n",
    "                  'Venue Longitude', \n",
    "                  'Venue Category']\n",
    "    \n",
    "    return(nearby_venues)"
   ]
  },
  {
   "cell_type": "code",
   "execution_count": 126,
   "metadata": {},
   "outputs": [
    {
     "output_type": "stream",
     "name": "stdout",
     "text": [
      "Akcaabat\n",
      "Arakli\n",
      "Arsin\n",
      "Besikduzu\n",
      "Carsibasi\n",
      "Caykara\n",
      "Dernekpazari\n",
      "Duzkoy\n",
      "Hayrat\n",
      "Koprubasi\n",
      "Macka\n",
      "Of\n",
      "Ortahisar\n",
      "Surmene\n",
      "Salpazari\n",
      "Tonya\n",
      "Vakfikebir\n",
      "Yomra\n"
     ]
    }
   ],
   "source": [
    "trabzon_venues = getNearbyVenues(names = df['cities'],\n",
    "                                    latitudes =df['lats'],\n",
    "                                    longitudes = df['longs'])\n"
   ]
  },
  {
   "cell_type": "code",
   "execution_count": 128,
   "metadata": {},
   "outputs": [
    {
     "output_type": "stream",
     "name": "stdout",
     "text": [
      "(78, 7)\n"
     ]
    }
   ],
   "source": [
    "#size\n",
    "print(trabzon_venues.shape)"
   ]
  },
  {
   "cell_type": "code",
   "execution_count": 133,
   "metadata": {},
   "outputs": [
    {
     "output_type": "execute_result",
     "data": {
      "text/plain": [
       "              Neighborhood Latitude  Neighborhood Longitude  Venue  \\\n",
       "Neighborhood                                                         \n",
       "Akcaabat                          5                       5      5   \n",
       "Arakli                           33                      33     33   \n",
       "Arsin                             2                       2      2   \n",
       "Besikduzu                         1                       1      1   \n",
       "Carsibasi                         2                       2      2   \n",
       "Duzkoy                            1                       1      1   \n",
       "Hayrat                            1                       1      1   \n",
       "Macka                             1                       1      1   \n",
       "Of                                5                       5      5   \n",
       "Ortahisar                        24                      24     24   \n",
       "Vakfikebir                        1                       1      1   \n",
       "Yomra                             2                       2      2   \n",
       "\n",
       "              Venue Latitude  Venue Longitude  Venue Category  \n",
       "Neighborhood                                                   \n",
       "Akcaabat                   5                5               5  \n",
       "Arakli                    33               33              33  \n",
       "Arsin                      2                2               2  \n",
       "Besikduzu                  1                1               1  \n",
       "Carsibasi                  2                2               2  \n",
       "Duzkoy                     1                1               1  \n",
       "Hayrat                     1                1               1  \n",
       "Macka                      1                1               1  \n",
       "Of                         5                5               5  \n",
       "Ortahisar                 24               24              24  \n",
       "Vakfikebir                 1                1               1  \n",
       "Yomra                      2                2               2  "
      ],
      "text/html": "<div>\n<style scoped>\n    .dataframe tbody tr th:only-of-type {\n        vertical-align: middle;\n    }\n\n    .dataframe tbody tr th {\n        vertical-align: top;\n    }\n\n    .dataframe thead th {\n        text-align: right;\n    }\n</style>\n<table border=\"1\" class=\"dataframe\">\n  <thead>\n    <tr style=\"text-align: right;\">\n      <th></th>\n      <th>Neighborhood Latitude</th>\n      <th>Neighborhood Longitude</th>\n      <th>Venue</th>\n      <th>Venue Latitude</th>\n      <th>Venue Longitude</th>\n      <th>Venue Category</th>\n    </tr>\n    <tr>\n      <th>Neighborhood</th>\n      <th></th>\n      <th></th>\n      <th></th>\n      <th></th>\n      <th></th>\n      <th></th>\n    </tr>\n  </thead>\n  <tbody>\n    <tr>\n      <th>Akcaabat</th>\n      <td>5</td>\n      <td>5</td>\n      <td>5</td>\n      <td>5</td>\n      <td>5</td>\n      <td>5</td>\n    </tr>\n    <tr>\n      <th>Arakli</th>\n      <td>33</td>\n      <td>33</td>\n      <td>33</td>\n      <td>33</td>\n      <td>33</td>\n      <td>33</td>\n    </tr>\n    <tr>\n      <th>Arsin</th>\n      <td>2</td>\n      <td>2</td>\n      <td>2</td>\n      <td>2</td>\n      <td>2</td>\n      <td>2</td>\n    </tr>\n    <tr>\n      <th>Besikduzu</th>\n      <td>1</td>\n      <td>1</td>\n      <td>1</td>\n      <td>1</td>\n      <td>1</td>\n      <td>1</td>\n    </tr>\n    <tr>\n      <th>Carsibasi</th>\n      <td>2</td>\n      <td>2</td>\n      <td>2</td>\n      <td>2</td>\n      <td>2</td>\n      <td>2</td>\n    </tr>\n    <tr>\n      <th>Duzkoy</th>\n      <td>1</td>\n      <td>1</td>\n      <td>1</td>\n      <td>1</td>\n      <td>1</td>\n      <td>1</td>\n    </tr>\n    <tr>\n      <th>Hayrat</th>\n      <td>1</td>\n      <td>1</td>\n      <td>1</td>\n      <td>1</td>\n      <td>1</td>\n      <td>1</td>\n    </tr>\n    <tr>\n      <th>Macka</th>\n      <td>1</td>\n      <td>1</td>\n      <td>1</td>\n      <td>1</td>\n      <td>1</td>\n      <td>1</td>\n    </tr>\n    <tr>\n      <th>Of</th>\n      <td>5</td>\n      <td>5</td>\n      <td>5</td>\n      <td>5</td>\n      <td>5</td>\n      <td>5</td>\n    </tr>\n    <tr>\n      <th>Ortahisar</th>\n      <td>24</td>\n      <td>24</td>\n      <td>24</td>\n      <td>24</td>\n      <td>24</td>\n      <td>24</td>\n    </tr>\n    <tr>\n      <th>Vakfikebir</th>\n      <td>1</td>\n      <td>1</td>\n      <td>1</td>\n      <td>1</td>\n      <td>1</td>\n      <td>1</td>\n    </tr>\n    <tr>\n      <th>Yomra</th>\n      <td>2</td>\n      <td>2</td>\n      <td>2</td>\n      <td>2</td>\n      <td>2</td>\n      <td>2</td>\n    </tr>\n  </tbody>\n</table>\n</div>"
     },
     "metadata": {},
     "execution_count": 133
    }
   ],
   "source": [
    "trabzon_venues.groupby('Neighborhood').count()"
   ]
  },
  {
   "cell_type": "code",
   "execution_count": 136,
   "metadata": {},
   "outputs": [
    {
     "output_type": "execute_result",
     "data": {
      "text/plain": [
       "  Neighborhood  African Restaurant  Antique Shop  Arcade  Art Gallery  \\\n",
       "0     Akcaabat                   0             0       0            0   \n",
       "1     Akcaabat                   0             0       0            0   \n",
       "2     Akcaabat                   0             0       0            0   \n",
       "3     Akcaabat                   0             0       0            0   \n",
       "4     Akcaabat                   0             0       0            0   \n",
       "\n",
       "   Arts & Crafts Store  Auto Garage  Bay  Big Box Store  Breakfast Spot  \\\n",
       "0                    0            0    0              0               0   \n",
       "1                    0            0    0              0               0   \n",
       "2                    0            0    0              0               0   \n",
       "3                    0            0    0              0               0   \n",
       "4                    1            0    0              0               0   \n",
       "\n",
       "   Burger Joint  Bus Station  Café  Campground  Cigkofte Place  \\\n",
       "0             0            0     0           0               0   \n",
       "1             0            0     0           0               0   \n",
       "2             0            0     0           0               0   \n",
       "3             0            0     0           0               0   \n",
       "4             0            0     0           0               0   \n",
       "\n",
       "   Clothing Store  Comfort Food Restaurant  Department Store  Donut Shop  \\\n",
       "0               0                        0                 0           0   \n",
       "1               0                        0                 0           0   \n",
       "2               0                        0                 0           0   \n",
       "3               0                        0                 0           0   \n",
       "4               0                        0                 0           0   \n",
       "\n",
       "   Electronics Store  Farm  Fast Food Restaurant  Fish & Chips Shop  \\\n",
       "0                  0     0                     0                  0   \n",
       "1                  0     0                     0                  0   \n",
       "2                  0     0                     0                  0   \n",
       "3                  0     0                     0                  0   \n",
       "4                  0     0                     0                  0   \n",
       "\n",
       "   Fishing Spot  Forest  Furniture / Home Store  Garden  Kofte Place  \\\n",
       "0             0       0                       0       0            0   \n",
       "1             0       0                       1       0            0   \n",
       "2             0       0                       0       0            0   \n",
       "3             0       0                       0       0            0   \n",
       "4             0       0                       0       0            0   \n",
       "\n",
       "   Locksmith  Market  Mosque  Mountain  Movie Theater  Other Great Outdoors  \\\n",
       "0          0       0       0         1              0                     0   \n",
       "1          0       0       0         0              0                     0   \n",
       "2          0       0       0         1              0                     0   \n",
       "3          0       0       0         0              0                     0   \n",
       "4          0       0       0         0              0                     0   \n",
       "\n",
       "   Park  Pastry Shop  Pide Place  Pizza Place  Plaza  Pool  Pub  Rest Area  \\\n",
       "0     0            0           0            0      0     0    0          0   \n",
       "1     0            0           0            0      0     0    0          0   \n",
       "2     0            0           0            0      0     0    0          0   \n",
       "3     0            0           0            0      0     0    0          0   \n",
       "4     0            0           0            0      0     0    0          0   \n",
       "\n",
       "   Restaurant  River  Smoke Shop  Snack Place  Soccer Stadium  Stadium  \\\n",
       "0           0      0           0            0               0        0   \n",
       "1           0      0           0            0               0        0   \n",
       "2           0      0           0            0               0        0   \n",
       "3           0      0           0            0               0        0   \n",
       "4           0      0           0            0               0        0   \n",
       "\n",
       "   Stationery Store  Tea Room  Trail  Turkish Coffeehouse  \\\n",
       "0                 0         0      0                    0   \n",
       "1                 0         0      0                    0   \n",
       "2                 0         0      0                    0   \n",
       "3                 0         0      0                    1   \n",
       "4                 0         0      0                    0   \n",
       "\n",
       "   Turkish Home Cooking Restaurant  Turkish Restaurant  Water Park  \n",
       "0                                0                   0           0  \n",
       "1                                0                   0           0  \n",
       "2                                0                   0           0  \n",
       "3                                0                   0           0  \n",
       "4                                0                   0           0  "
      ],
      "text/html": "<div>\n<style scoped>\n    .dataframe tbody tr th:only-of-type {\n        vertical-align: middle;\n    }\n\n    .dataframe tbody tr th {\n        vertical-align: top;\n    }\n\n    .dataframe thead th {\n        text-align: right;\n    }\n</style>\n<table border=\"1\" class=\"dataframe\">\n  <thead>\n    <tr style=\"text-align: right;\">\n      <th></th>\n      <th>Neighborhood</th>\n      <th>African Restaurant</th>\n      <th>Antique Shop</th>\n      <th>Arcade</th>\n      <th>Art Gallery</th>\n      <th>Arts &amp; Crafts Store</th>\n      <th>Auto Garage</th>\n      <th>Bay</th>\n      <th>Big Box Store</th>\n      <th>Breakfast Spot</th>\n      <th>Burger Joint</th>\n      <th>Bus Station</th>\n      <th>Café</th>\n      <th>Campground</th>\n      <th>Cigkofte Place</th>\n      <th>Clothing Store</th>\n      <th>Comfort Food Restaurant</th>\n      <th>Department Store</th>\n      <th>Donut Shop</th>\n      <th>Electronics Store</th>\n      <th>Farm</th>\n      <th>Fast Food Restaurant</th>\n      <th>Fish &amp; Chips Shop</th>\n      <th>Fishing Spot</th>\n      <th>Forest</th>\n      <th>Furniture / Home Store</th>\n      <th>Garden</th>\n      <th>Kofte Place</th>\n      <th>Locksmith</th>\n      <th>Market</th>\n      <th>Mosque</th>\n      <th>Mountain</th>\n      <th>Movie Theater</th>\n      <th>Other Great Outdoors</th>\n      <th>Park</th>\n      <th>Pastry Shop</th>\n      <th>Pide Place</th>\n      <th>Pizza Place</th>\n      <th>Plaza</th>\n      <th>Pool</th>\n      <th>Pub</th>\n      <th>Rest Area</th>\n      <th>Restaurant</th>\n      <th>River</th>\n      <th>Smoke Shop</th>\n      <th>Snack Place</th>\n      <th>Soccer Stadium</th>\n      <th>Stadium</th>\n      <th>Stationery Store</th>\n      <th>Tea Room</th>\n      <th>Trail</th>\n      <th>Turkish Coffeehouse</th>\n      <th>Turkish Home Cooking Restaurant</th>\n      <th>Turkish Restaurant</th>\n      <th>Water Park</th>\n    </tr>\n  </thead>\n  <tbody>\n    <tr>\n      <th>0</th>\n      <td>Akcaabat</td>\n      <td>0</td>\n      <td>0</td>\n      <td>0</td>\n      <td>0</td>\n      <td>0</td>\n      <td>0</td>\n      <td>0</td>\n      <td>0</td>\n      <td>0</td>\n      <td>0</td>\n      <td>0</td>\n      <td>0</td>\n      <td>0</td>\n      <td>0</td>\n      <td>0</td>\n      <td>0</td>\n      <td>0</td>\n      <td>0</td>\n      <td>0</td>\n      <td>0</td>\n      <td>0</td>\n      <td>0</td>\n      <td>0</td>\n      <td>0</td>\n      <td>0</td>\n      <td>0</td>\n      <td>0</td>\n      <td>0</td>\n      <td>0</td>\n      <td>0</td>\n      <td>1</td>\n      <td>0</td>\n      <td>0</td>\n      <td>0</td>\n      <td>0</td>\n      <td>0</td>\n      <td>0</td>\n      <td>0</td>\n      <td>0</td>\n      <td>0</td>\n      <td>0</td>\n      <td>0</td>\n      <td>0</td>\n      <td>0</td>\n      <td>0</td>\n      <td>0</td>\n      <td>0</td>\n      <td>0</td>\n      <td>0</td>\n      <td>0</td>\n      <td>0</td>\n      <td>0</td>\n      <td>0</td>\n      <td>0</td>\n    </tr>\n    <tr>\n      <th>1</th>\n      <td>Akcaabat</td>\n      <td>0</td>\n      <td>0</td>\n      <td>0</td>\n      <td>0</td>\n      <td>0</td>\n      <td>0</td>\n      <td>0</td>\n      <td>0</td>\n      <td>0</td>\n      <td>0</td>\n      <td>0</td>\n      <td>0</td>\n      <td>0</td>\n      <td>0</td>\n      <td>0</td>\n      <td>0</td>\n      <td>0</td>\n      <td>0</td>\n      <td>0</td>\n      <td>0</td>\n      <td>0</td>\n      <td>0</td>\n      <td>0</td>\n      <td>0</td>\n      <td>1</td>\n      <td>0</td>\n      <td>0</td>\n      <td>0</td>\n      <td>0</td>\n      <td>0</td>\n      <td>0</td>\n      <td>0</td>\n      <td>0</td>\n      <td>0</td>\n      <td>0</td>\n      <td>0</td>\n      <td>0</td>\n      <td>0</td>\n      <td>0</td>\n      <td>0</td>\n      <td>0</td>\n      <td>0</td>\n      <td>0</td>\n      <td>0</td>\n      <td>0</td>\n      <td>0</td>\n      <td>0</td>\n      <td>0</td>\n      <td>0</td>\n      <td>0</td>\n      <td>0</td>\n      <td>0</td>\n      <td>0</td>\n      <td>0</td>\n    </tr>\n    <tr>\n      <th>2</th>\n      <td>Akcaabat</td>\n      <td>0</td>\n      <td>0</td>\n      <td>0</td>\n      <td>0</td>\n      <td>0</td>\n      <td>0</td>\n      <td>0</td>\n      <td>0</td>\n      <td>0</td>\n      <td>0</td>\n      <td>0</td>\n      <td>0</td>\n      <td>0</td>\n      <td>0</td>\n      <td>0</td>\n      <td>0</td>\n      <td>0</td>\n      <td>0</td>\n      <td>0</td>\n      <td>0</td>\n      <td>0</td>\n      <td>0</td>\n      <td>0</td>\n      <td>0</td>\n      <td>0</td>\n      <td>0</td>\n      <td>0</td>\n      <td>0</td>\n      <td>0</td>\n      <td>0</td>\n      <td>1</td>\n      <td>0</td>\n      <td>0</td>\n      <td>0</td>\n      <td>0</td>\n      <td>0</td>\n      <td>0</td>\n      <td>0</td>\n      <td>0</td>\n      <td>0</td>\n      <td>0</td>\n      <td>0</td>\n      <td>0</td>\n      <td>0</td>\n      <td>0</td>\n      <td>0</td>\n      <td>0</td>\n      <td>0</td>\n      <td>0</td>\n      <td>0</td>\n      <td>0</td>\n      <td>0</td>\n      <td>0</td>\n      <td>0</td>\n    </tr>\n    <tr>\n      <th>3</th>\n      <td>Akcaabat</td>\n      <td>0</td>\n      <td>0</td>\n      <td>0</td>\n      <td>0</td>\n      <td>0</td>\n      <td>0</td>\n      <td>0</td>\n      <td>0</td>\n      <td>0</td>\n      <td>0</td>\n      <td>0</td>\n      <td>0</td>\n      <td>0</td>\n      <td>0</td>\n      <td>0</td>\n      <td>0</td>\n      <td>0</td>\n      <td>0</td>\n      <td>0</td>\n      <td>0</td>\n      <td>0</td>\n      <td>0</td>\n      <td>0</td>\n      <td>0</td>\n      <td>0</td>\n      <td>0</td>\n      <td>0</td>\n      <td>0</td>\n      <td>0</td>\n      <td>0</td>\n      <td>0</td>\n      <td>0</td>\n      <td>0</td>\n      <td>0</td>\n      <td>0</td>\n      <td>0</td>\n      <td>0</td>\n      <td>0</td>\n      <td>0</td>\n      <td>0</td>\n      <td>0</td>\n      <td>0</td>\n      <td>0</td>\n      <td>0</td>\n      <td>0</td>\n      <td>0</td>\n      <td>0</td>\n      <td>0</td>\n      <td>0</td>\n      <td>0</td>\n      <td>1</td>\n      <td>0</td>\n      <td>0</td>\n      <td>0</td>\n    </tr>\n    <tr>\n      <th>4</th>\n      <td>Akcaabat</td>\n      <td>0</td>\n      <td>0</td>\n      <td>0</td>\n      <td>0</td>\n      <td>1</td>\n      <td>0</td>\n      <td>0</td>\n      <td>0</td>\n      <td>0</td>\n      <td>0</td>\n      <td>0</td>\n      <td>0</td>\n      <td>0</td>\n      <td>0</td>\n      <td>0</td>\n      <td>0</td>\n      <td>0</td>\n      <td>0</td>\n      <td>0</td>\n      <td>0</td>\n      <td>0</td>\n      <td>0</td>\n      <td>0</td>\n      <td>0</td>\n      <td>0</td>\n      <td>0</td>\n      <td>0</td>\n      <td>0</td>\n      <td>0</td>\n      <td>0</td>\n      <td>0</td>\n      <td>0</td>\n      <td>0</td>\n      <td>0</td>\n      <td>0</td>\n      <td>0</td>\n      <td>0</td>\n      <td>0</td>\n      <td>0</td>\n      <td>0</td>\n      <td>0</td>\n      <td>0</td>\n      <td>0</td>\n      <td>0</td>\n      <td>0</td>\n      <td>0</td>\n      <td>0</td>\n      <td>0</td>\n      <td>0</td>\n      <td>0</td>\n      <td>0</td>\n      <td>0</td>\n      <td>0</td>\n      <td>0</td>\n    </tr>\n  </tbody>\n</table>\n</div>"
     },
     "metadata": {},
     "execution_count": 136
    }
   ],
   "source": [
    "trabzon_onehot = pd.get_dummies(trabzon_venues[['Venue Category']],prefix=\"\",prefix_sep=\"\")\n",
    "\n",
    "trabzon_onehot['Neighborhood'] = trabzon_venues['Neighborhood']\n",
    "\n",
    "fixed_columns = [trabzon_onehot.columns[-1]]+ list(trabzon_onehot.columns[:-1])\n",
    "trabzon_onehot = trabzon_onehot[fixed_columns]\n",
    "\n",
    "trabzon_onehot.head()"
   ]
  },
  {
   "cell_type": "code",
   "execution_count": 137,
   "metadata": {},
   "outputs": [
    {
     "output_type": "execute_result",
     "data": {
      "text/plain": [
       "(78, 55)"
      ]
     },
     "metadata": {},
     "execution_count": 137
    }
   ],
   "source": [
    "trabzon_onehot.shape"
   ]
  },
  {
   "cell_type": "code",
   "execution_count": 138,
   "metadata": {},
   "outputs": [
    {
     "output_type": "execute_result",
     "data": {
      "text/plain": [
       "   Neighborhood  African Restaurant  Antique Shop    Arcade  Art Gallery  \\\n",
       "0      Akcaabat            0.000000           0.0  0.000000     0.000000   \n",
       "1        Arakli            0.030303           0.0  0.000000     0.030303   \n",
       "2         Arsin            0.000000           0.5  0.000000     0.000000   \n",
       "3     Besikduzu            0.000000           0.0  0.000000     0.000000   \n",
       "4     Carsibasi            0.000000           0.0  0.000000     0.000000   \n",
       "5        Duzkoy            0.000000           0.0  0.000000     0.000000   \n",
       "6        Hayrat            0.000000           0.0  0.000000     0.000000   \n",
       "7         Macka            0.000000           0.0  0.000000     0.000000   \n",
       "8            Of            0.000000           0.0  0.000000     0.000000   \n",
       "9     Ortahisar            0.000000           0.0  0.041667     0.000000   \n",
       "10   Vakfikebir            0.000000           0.0  0.000000     0.000000   \n",
       "11        Yomra            0.000000           0.0  0.000000     0.000000   \n",
       "\n",
       "    Arts & Crafts Store  Auto Garage  Bay  Big Box Store  Breakfast Spot  \\\n",
       "0                   0.2     0.000000  0.0       0.000000        0.000000   \n",
       "1                   0.0     0.060606  0.0       0.030303        0.030303   \n",
       "2                   0.0     0.000000  0.0       0.000000        0.000000   \n",
       "3                   0.0     0.000000  0.0       0.000000        0.000000   \n",
       "4                   0.0     0.000000  0.0       0.000000        0.000000   \n",
       "5                   0.0     0.000000  0.0       0.000000        0.000000   \n",
       "6                   0.0     0.000000  0.0       0.000000        0.000000   \n",
       "7                   0.0     0.000000  0.0       0.000000        0.000000   \n",
       "8                   0.0     0.000000  0.2       0.000000        0.000000   \n",
       "9                   0.0     0.000000  0.0       0.000000        0.000000   \n",
       "10                  0.0     0.000000  0.0       0.000000        0.000000   \n",
       "11                  0.0     0.000000  0.0       0.000000        0.000000   \n",
       "\n",
       "    Burger Joint  Bus Station      Café  Campground  Cigkofte Place  \\\n",
       "0       0.000000     0.000000  0.000000         0.0        0.000000   \n",
       "1       0.030303     0.030303  0.151515         0.0        0.030303   \n",
       "2       0.000000     0.000000  0.000000         0.0        0.000000   \n",
       "3       0.000000     0.000000  0.000000         0.0        0.000000   \n",
       "4       0.000000     0.000000  0.000000         0.0        0.000000   \n",
       "5       0.000000     0.000000  0.000000         0.0        0.000000   \n",
       "6       0.000000     0.000000  0.000000         0.0        0.000000   \n",
       "7       0.000000     0.000000  0.000000         1.0        0.000000   \n",
       "8       0.000000     0.000000  0.000000         0.0        0.000000   \n",
       "9       0.000000     0.000000  0.041667         0.0        0.000000   \n",
       "10      0.000000     0.000000  0.000000         0.0        0.000000   \n",
       "11      0.000000     0.000000  0.000000         0.0        0.000000   \n",
       "\n",
       "    Clothing Store  Comfort Food Restaurant  Department Store  Donut Shop  \\\n",
       "0         0.000000                 0.000000          0.000000    0.000000   \n",
       "1         0.000000                 0.030303          0.030303    0.030303   \n",
       "2         0.000000                 0.000000          0.000000    0.000000   \n",
       "3         0.000000                 0.000000          0.000000    0.000000   \n",
       "4         0.000000                 0.000000          0.000000    0.000000   \n",
       "5         0.000000                 0.000000          0.000000    0.000000   \n",
       "6         0.000000                 0.000000          0.000000    0.000000   \n",
       "7         0.000000                 0.000000          0.000000    0.000000   \n",
       "8         0.000000                 0.000000          0.000000    0.000000   \n",
       "9         0.041667                 0.000000          0.000000    0.000000   \n",
       "10        0.000000                 0.000000          0.000000    0.000000   \n",
       "11        0.000000                 0.000000          0.000000    0.000000   \n",
       "\n",
       "    Electronics Store  Farm  Fast Food Restaurant  Fish & Chips Shop  \\\n",
       "0            0.000000   0.0              0.000000           0.000000   \n",
       "1            0.030303   0.0              0.060606           0.000000   \n",
       "2            0.000000   0.0              0.000000           0.000000   \n",
       "3            0.000000   0.0              0.000000           0.000000   \n",
       "4            0.000000   0.0              0.000000           0.000000   \n",
       "5            0.000000   1.0              0.000000           0.000000   \n",
       "6            0.000000   0.0              0.000000           0.000000   \n",
       "7            0.000000   0.0              0.000000           0.000000   \n",
       "8            0.000000   0.2              0.000000           0.000000   \n",
       "9            0.083333   0.0              0.000000           0.041667   \n",
       "10           0.000000   0.0              0.000000           0.000000   \n",
       "11           0.000000   0.0              0.000000           0.000000   \n",
       "\n",
       "    Fishing Spot  Forest  Furniture / Home Store    Garden  Kofte Place  \\\n",
       "0            0.0     0.0                     0.2  0.000000     0.000000   \n",
       "1            0.0     0.0                     0.0  0.000000     0.000000   \n",
       "2            0.0     0.5                     0.0  0.000000     0.000000   \n",
       "3            1.0     0.0                     0.0  0.000000     0.000000   \n",
       "4            0.0     0.5                     0.0  0.000000     0.000000   \n",
       "5            0.0     0.0                     0.0  0.000000     0.000000   \n",
       "6            0.0     0.0                     0.0  0.000000     0.000000   \n",
       "7            0.0     0.0                     0.0  0.000000     0.000000   \n",
       "8            0.0     0.0                     0.0  0.000000     0.000000   \n",
       "9            0.0     0.0                     0.0  0.041667     0.041667   \n",
       "10           0.0     0.0                     0.0  0.000000     0.000000   \n",
       "11           0.0     0.0                     0.5  0.000000     0.000000   \n",
       "\n",
       "    Locksmith    Market    Mosque  Mountain  Movie Theater  \\\n",
       "0    0.000000  0.000000  0.000000       0.4            0.0   \n",
       "1    0.030303  0.030303  0.030303       0.0            0.0   \n",
       "2    0.000000  0.000000  0.000000       0.0            0.0   \n",
       "3    0.000000  0.000000  0.000000       0.0            0.0   \n",
       "4    0.000000  0.000000  0.000000       0.0            0.0   \n",
       "5    0.000000  0.000000  0.000000       0.0            0.0   \n",
       "6    0.000000  0.000000  0.000000       0.0            0.0   \n",
       "7    0.000000  0.000000  0.000000       0.0            0.0   \n",
       "8    0.000000  0.000000  0.000000       0.0            0.0   \n",
       "9    0.000000  0.000000  0.000000       0.0            0.0   \n",
       "10   0.000000  0.000000  0.000000       1.0            0.0   \n",
       "11   0.000000  0.000000  0.000000       0.0            0.5   \n",
       "\n",
       "    Other Great Outdoors      Park  Pastry Shop  Pide Place  Pizza Place  \\\n",
       "0               0.000000  0.000000     0.000000    0.000000     0.000000   \n",
       "1               0.000000  0.030303     0.000000    0.030303     0.030303   \n",
       "2               0.000000  0.000000     0.000000    0.000000     0.000000   \n",
       "3               0.000000  0.000000     0.000000    0.000000     0.000000   \n",
       "4               0.000000  0.000000     0.000000    0.000000     0.000000   \n",
       "5               0.000000  0.000000     0.000000    0.000000     0.000000   \n",
       "6               1.000000  0.000000     0.000000    0.000000     0.000000   \n",
       "7               0.000000  0.000000     0.000000    0.000000     0.000000   \n",
       "8               0.000000  0.200000     0.000000    0.000000     0.000000   \n",
       "9               0.041667  0.000000     0.041667    0.000000     0.000000   \n",
       "10              0.000000  0.000000     0.000000    0.000000     0.000000   \n",
       "11              0.000000  0.000000     0.000000    0.000000     0.000000   \n",
       "\n",
       "       Plaza  Pool  Pub  Rest Area  Restaurant     River  Smoke Shop  \\\n",
       "0   0.000000   0.0  0.0   0.000000    0.000000  0.000000    0.000000   \n",
       "1   0.030303   0.0  0.0   0.000000    0.000000  0.060606    0.000000   \n",
       "2   0.000000   0.0  0.0   0.000000    0.000000  0.000000    0.000000   \n",
       "3   0.000000   0.0  0.0   0.000000    0.000000  0.000000    0.000000   \n",
       "4   0.000000   0.0  0.5   0.000000    0.000000  0.000000    0.000000   \n",
       "5   0.000000   0.0  0.0   0.000000    0.000000  0.000000    0.000000   \n",
       "6   0.000000   0.0  0.0   0.000000    0.000000  0.000000    0.000000   \n",
       "7   0.000000   0.0  0.0   0.000000    0.000000  0.000000    0.000000   \n",
       "8   0.200000   0.2  0.0   0.000000    0.000000  0.000000    0.000000   \n",
       "9   0.041667   0.0  0.0   0.041667    0.083333  0.000000    0.041667   \n",
       "10  0.000000   0.0  0.0   0.000000    0.000000  0.000000    0.000000   \n",
       "11  0.000000   0.0  0.0   0.000000    0.000000  0.000000    0.000000   \n",
       "\n",
       "    Snack Place  Soccer Stadium   Stadium  Stationery Store  Tea Room  \\\n",
       "0      0.000000        0.000000  0.000000          0.000000  0.000000   \n",
       "1      0.030303        0.000000  0.000000          0.000000  0.060606   \n",
       "2      0.000000        0.000000  0.000000          0.000000  0.000000   \n",
       "3      0.000000        0.000000  0.000000          0.000000  0.000000   \n",
       "4      0.000000        0.000000  0.000000          0.000000  0.000000   \n",
       "5      0.000000        0.000000  0.000000          0.000000  0.000000   \n",
       "6      0.000000        0.000000  0.000000          0.000000  0.000000   \n",
       "7      0.000000        0.000000  0.000000          0.000000  0.000000   \n",
       "8      0.000000        0.000000  0.000000          0.000000  0.000000   \n",
       "9      0.000000        0.083333  0.041667          0.041667  0.041667   \n",
       "10     0.000000        0.000000  0.000000          0.000000  0.000000   \n",
       "11     0.000000        0.000000  0.000000          0.000000  0.000000   \n",
       "\n",
       "       Trail  Turkish Coffeehouse  Turkish Home Cooking Restaurant  \\\n",
       "0   0.000000             0.200000                         0.000000   \n",
       "1   0.030303             0.000000                         0.000000   \n",
       "2   0.000000             0.000000                         0.000000   \n",
       "3   0.000000             0.000000                         0.000000   \n",
       "4   0.000000             0.000000                         0.000000   \n",
       "5   0.000000             0.000000                         0.000000   \n",
       "6   0.000000             0.000000                         0.000000   \n",
       "7   0.000000             0.000000                         0.000000   \n",
       "8   0.000000             0.000000                         0.000000   \n",
       "9   0.000000             0.041667                         0.041667   \n",
       "10  0.000000             0.000000                         0.000000   \n",
       "11  0.000000             0.000000                         0.000000   \n",
       "\n",
       "    Turkish Restaurant  Water Park  \n",
       "0             0.000000    0.000000  \n",
       "1             0.000000    0.000000  \n",
       "2             0.000000    0.000000  \n",
       "3             0.000000    0.000000  \n",
       "4             0.000000    0.000000  \n",
       "5             0.000000    0.000000  \n",
       "6             0.000000    0.000000  \n",
       "7             0.000000    0.000000  \n",
       "8             0.000000    0.000000  \n",
       "9             0.041667    0.041667  \n",
       "10            0.000000    0.000000  \n",
       "11            0.000000    0.000000  "
      ],
      "text/html": "<div>\n<style scoped>\n    .dataframe tbody tr th:only-of-type {\n        vertical-align: middle;\n    }\n\n    .dataframe tbody tr th {\n        vertical-align: top;\n    }\n\n    .dataframe thead th {\n        text-align: right;\n    }\n</style>\n<table border=\"1\" class=\"dataframe\">\n  <thead>\n    <tr style=\"text-align: right;\">\n      <th></th>\n      <th>Neighborhood</th>\n      <th>African Restaurant</th>\n      <th>Antique Shop</th>\n      <th>Arcade</th>\n      <th>Art Gallery</th>\n      <th>Arts &amp; Crafts Store</th>\n      <th>Auto Garage</th>\n      <th>Bay</th>\n      <th>Big Box Store</th>\n      <th>Breakfast Spot</th>\n      <th>Burger Joint</th>\n      <th>Bus Station</th>\n      <th>Café</th>\n      <th>Campground</th>\n      <th>Cigkofte Place</th>\n      <th>Clothing Store</th>\n      <th>Comfort Food Restaurant</th>\n      <th>Department Store</th>\n      <th>Donut Shop</th>\n      <th>Electronics Store</th>\n      <th>Farm</th>\n      <th>Fast Food Restaurant</th>\n      <th>Fish &amp; Chips Shop</th>\n      <th>Fishing Spot</th>\n      <th>Forest</th>\n      <th>Furniture / Home Store</th>\n      <th>Garden</th>\n      <th>Kofte Place</th>\n      <th>Locksmith</th>\n      <th>Market</th>\n      <th>Mosque</th>\n      <th>Mountain</th>\n      <th>Movie Theater</th>\n      <th>Other Great Outdoors</th>\n      <th>Park</th>\n      <th>Pastry Shop</th>\n      <th>Pide Place</th>\n      <th>Pizza Place</th>\n      <th>Plaza</th>\n      <th>Pool</th>\n      <th>Pub</th>\n      <th>Rest Area</th>\n      <th>Restaurant</th>\n      <th>River</th>\n      <th>Smoke Shop</th>\n      <th>Snack Place</th>\n      <th>Soccer Stadium</th>\n      <th>Stadium</th>\n      <th>Stationery Store</th>\n      <th>Tea Room</th>\n      <th>Trail</th>\n      <th>Turkish Coffeehouse</th>\n      <th>Turkish Home Cooking Restaurant</th>\n      <th>Turkish Restaurant</th>\n      <th>Water Park</th>\n    </tr>\n  </thead>\n  <tbody>\n    <tr>\n      <th>0</th>\n      <td>Akcaabat</td>\n      <td>0.000000</td>\n      <td>0.0</td>\n      <td>0.000000</td>\n      <td>0.000000</td>\n      <td>0.2</td>\n      <td>0.000000</td>\n      <td>0.0</td>\n      <td>0.000000</td>\n      <td>0.000000</td>\n      <td>0.000000</td>\n      <td>0.000000</td>\n      <td>0.000000</td>\n      <td>0.0</td>\n      <td>0.000000</td>\n      <td>0.000000</td>\n      <td>0.000000</td>\n      <td>0.000000</td>\n      <td>0.000000</td>\n      <td>0.000000</td>\n      <td>0.0</td>\n      <td>0.000000</td>\n      <td>0.000000</td>\n      <td>0.0</td>\n      <td>0.0</td>\n      <td>0.2</td>\n      <td>0.000000</td>\n      <td>0.000000</td>\n      <td>0.000000</td>\n      <td>0.000000</td>\n      <td>0.000000</td>\n      <td>0.4</td>\n      <td>0.0</td>\n      <td>0.000000</td>\n      <td>0.000000</td>\n      <td>0.000000</td>\n      <td>0.000000</td>\n      <td>0.000000</td>\n      <td>0.000000</td>\n      <td>0.0</td>\n      <td>0.0</td>\n      <td>0.000000</td>\n      <td>0.000000</td>\n      <td>0.000000</td>\n      <td>0.000000</td>\n      <td>0.000000</td>\n      <td>0.000000</td>\n      <td>0.000000</td>\n      <td>0.000000</td>\n      <td>0.000000</td>\n      <td>0.000000</td>\n      <td>0.200000</td>\n      <td>0.000000</td>\n      <td>0.000000</td>\n      <td>0.000000</td>\n    </tr>\n    <tr>\n      <th>1</th>\n      <td>Arakli</td>\n      <td>0.030303</td>\n      <td>0.0</td>\n      <td>0.000000</td>\n      <td>0.030303</td>\n      <td>0.0</td>\n      <td>0.060606</td>\n      <td>0.0</td>\n      <td>0.030303</td>\n      <td>0.030303</td>\n      <td>0.030303</td>\n      <td>0.030303</td>\n      <td>0.151515</td>\n      <td>0.0</td>\n      <td>0.030303</td>\n      <td>0.000000</td>\n      <td>0.030303</td>\n      <td>0.030303</td>\n      <td>0.030303</td>\n      <td>0.030303</td>\n      <td>0.0</td>\n      <td>0.060606</td>\n      <td>0.000000</td>\n      <td>0.0</td>\n      <td>0.0</td>\n      <td>0.0</td>\n      <td>0.000000</td>\n      <td>0.000000</td>\n      <td>0.030303</td>\n      <td>0.030303</td>\n      <td>0.030303</td>\n      <td>0.0</td>\n      <td>0.0</td>\n      <td>0.000000</td>\n      <td>0.030303</td>\n      <td>0.000000</td>\n      <td>0.030303</td>\n      <td>0.030303</td>\n      <td>0.030303</td>\n      <td>0.0</td>\n      <td>0.0</td>\n      <td>0.000000</td>\n      <td>0.000000</td>\n      <td>0.060606</td>\n      <td>0.000000</td>\n      <td>0.030303</td>\n      <td>0.000000</td>\n      <td>0.000000</td>\n      <td>0.000000</td>\n      <td>0.060606</td>\n      <td>0.030303</td>\n      <td>0.000000</td>\n      <td>0.000000</td>\n      <td>0.000000</td>\n      <td>0.000000</td>\n    </tr>\n    <tr>\n      <th>2</th>\n      <td>Arsin</td>\n      <td>0.000000</td>\n      <td>0.5</td>\n      <td>0.000000</td>\n      <td>0.000000</td>\n      <td>0.0</td>\n      <td>0.000000</td>\n      <td>0.0</td>\n      <td>0.000000</td>\n      <td>0.000000</td>\n      <td>0.000000</td>\n      <td>0.000000</td>\n      <td>0.000000</td>\n      <td>0.0</td>\n      <td>0.000000</td>\n      <td>0.000000</td>\n      <td>0.000000</td>\n      <td>0.000000</td>\n      <td>0.000000</td>\n      <td>0.000000</td>\n      <td>0.0</td>\n      <td>0.000000</td>\n      <td>0.000000</td>\n      <td>0.0</td>\n      <td>0.5</td>\n      <td>0.0</td>\n      <td>0.000000</td>\n      <td>0.000000</td>\n      <td>0.000000</td>\n      <td>0.000000</td>\n      <td>0.000000</td>\n      <td>0.0</td>\n      <td>0.0</td>\n      <td>0.000000</td>\n      <td>0.000000</td>\n      <td>0.000000</td>\n      <td>0.000000</td>\n      <td>0.000000</td>\n      <td>0.000000</td>\n      <td>0.0</td>\n      <td>0.0</td>\n      <td>0.000000</td>\n      <td>0.000000</td>\n      <td>0.000000</td>\n      <td>0.000000</td>\n      <td>0.000000</td>\n      <td>0.000000</td>\n      <td>0.000000</td>\n      <td>0.000000</td>\n      <td>0.000000</td>\n      <td>0.000000</td>\n      <td>0.000000</td>\n      <td>0.000000</td>\n      <td>0.000000</td>\n      <td>0.000000</td>\n    </tr>\n    <tr>\n      <th>3</th>\n      <td>Besikduzu</td>\n      <td>0.000000</td>\n      <td>0.0</td>\n      <td>0.000000</td>\n      <td>0.000000</td>\n      <td>0.0</td>\n      <td>0.000000</td>\n      <td>0.0</td>\n      <td>0.000000</td>\n      <td>0.000000</td>\n      <td>0.000000</td>\n      <td>0.000000</td>\n      <td>0.000000</td>\n      <td>0.0</td>\n      <td>0.000000</td>\n      <td>0.000000</td>\n      <td>0.000000</td>\n      <td>0.000000</td>\n      <td>0.000000</td>\n      <td>0.000000</td>\n      <td>0.0</td>\n      <td>0.000000</td>\n      <td>0.000000</td>\n      <td>1.0</td>\n      <td>0.0</td>\n      <td>0.0</td>\n      <td>0.000000</td>\n      <td>0.000000</td>\n      <td>0.000000</td>\n      <td>0.000000</td>\n      <td>0.000000</td>\n      <td>0.0</td>\n      <td>0.0</td>\n      <td>0.000000</td>\n      <td>0.000000</td>\n      <td>0.000000</td>\n      <td>0.000000</td>\n      <td>0.000000</td>\n      <td>0.000000</td>\n      <td>0.0</td>\n      <td>0.0</td>\n      <td>0.000000</td>\n      <td>0.000000</td>\n      <td>0.000000</td>\n      <td>0.000000</td>\n      <td>0.000000</td>\n      <td>0.000000</td>\n      <td>0.000000</td>\n      <td>0.000000</td>\n      <td>0.000000</td>\n      <td>0.000000</td>\n      <td>0.000000</td>\n      <td>0.000000</td>\n      <td>0.000000</td>\n      <td>0.000000</td>\n    </tr>\n    <tr>\n      <th>4</th>\n      <td>Carsibasi</td>\n      <td>0.000000</td>\n      <td>0.0</td>\n      <td>0.000000</td>\n      <td>0.000000</td>\n      <td>0.0</td>\n      <td>0.000000</td>\n      <td>0.0</td>\n      <td>0.000000</td>\n      <td>0.000000</td>\n      <td>0.000000</td>\n      <td>0.000000</td>\n      <td>0.000000</td>\n      <td>0.0</td>\n      <td>0.000000</td>\n      <td>0.000000</td>\n      <td>0.000000</td>\n      <td>0.000000</td>\n      <td>0.000000</td>\n      <td>0.000000</td>\n      <td>0.0</td>\n      <td>0.000000</td>\n      <td>0.000000</td>\n      <td>0.0</td>\n      <td>0.5</td>\n      <td>0.0</td>\n      <td>0.000000</td>\n      <td>0.000000</td>\n      <td>0.000000</td>\n      <td>0.000000</td>\n      <td>0.000000</td>\n      <td>0.0</td>\n      <td>0.0</td>\n      <td>0.000000</td>\n      <td>0.000000</td>\n      <td>0.000000</td>\n      <td>0.000000</td>\n      <td>0.000000</td>\n      <td>0.000000</td>\n      <td>0.0</td>\n      <td>0.5</td>\n      <td>0.000000</td>\n      <td>0.000000</td>\n      <td>0.000000</td>\n      <td>0.000000</td>\n      <td>0.000000</td>\n      <td>0.000000</td>\n      <td>0.000000</td>\n      <td>0.000000</td>\n      <td>0.000000</td>\n      <td>0.000000</td>\n      <td>0.000000</td>\n      <td>0.000000</td>\n      <td>0.000000</td>\n      <td>0.000000</td>\n    </tr>\n    <tr>\n      <th>5</th>\n      <td>Duzkoy</td>\n      <td>0.000000</td>\n      <td>0.0</td>\n      <td>0.000000</td>\n      <td>0.000000</td>\n      <td>0.0</td>\n      <td>0.000000</td>\n      <td>0.0</td>\n      <td>0.000000</td>\n      <td>0.000000</td>\n      <td>0.000000</td>\n      <td>0.000000</td>\n      <td>0.000000</td>\n      <td>0.0</td>\n      <td>0.000000</td>\n      <td>0.000000</td>\n      <td>0.000000</td>\n      <td>0.000000</td>\n      <td>0.000000</td>\n      <td>0.000000</td>\n      <td>1.0</td>\n      <td>0.000000</td>\n      <td>0.000000</td>\n      <td>0.0</td>\n      <td>0.0</td>\n      <td>0.0</td>\n      <td>0.000000</td>\n      <td>0.000000</td>\n      <td>0.000000</td>\n      <td>0.000000</td>\n      <td>0.000000</td>\n      <td>0.0</td>\n      <td>0.0</td>\n      <td>0.000000</td>\n      <td>0.000000</td>\n      <td>0.000000</td>\n      <td>0.000000</td>\n      <td>0.000000</td>\n      <td>0.000000</td>\n      <td>0.0</td>\n      <td>0.0</td>\n      <td>0.000000</td>\n      <td>0.000000</td>\n      <td>0.000000</td>\n      <td>0.000000</td>\n      <td>0.000000</td>\n      <td>0.000000</td>\n      <td>0.000000</td>\n      <td>0.000000</td>\n      <td>0.000000</td>\n      <td>0.000000</td>\n      <td>0.000000</td>\n      <td>0.000000</td>\n      <td>0.000000</td>\n      <td>0.000000</td>\n    </tr>\n    <tr>\n      <th>6</th>\n      <td>Hayrat</td>\n      <td>0.000000</td>\n      <td>0.0</td>\n      <td>0.000000</td>\n      <td>0.000000</td>\n      <td>0.0</td>\n      <td>0.000000</td>\n      <td>0.0</td>\n      <td>0.000000</td>\n      <td>0.000000</td>\n      <td>0.000000</td>\n      <td>0.000000</td>\n      <td>0.000000</td>\n      <td>0.0</td>\n      <td>0.000000</td>\n      <td>0.000000</td>\n      <td>0.000000</td>\n      <td>0.000000</td>\n      <td>0.000000</td>\n      <td>0.000000</td>\n      <td>0.0</td>\n      <td>0.000000</td>\n      <td>0.000000</td>\n      <td>0.0</td>\n      <td>0.0</td>\n      <td>0.0</td>\n      <td>0.000000</td>\n      <td>0.000000</td>\n      <td>0.000000</td>\n      <td>0.000000</td>\n      <td>0.000000</td>\n      <td>0.0</td>\n      <td>0.0</td>\n      <td>1.000000</td>\n      <td>0.000000</td>\n      <td>0.000000</td>\n      <td>0.000000</td>\n      <td>0.000000</td>\n      <td>0.000000</td>\n      <td>0.0</td>\n      <td>0.0</td>\n      <td>0.000000</td>\n      <td>0.000000</td>\n      <td>0.000000</td>\n      <td>0.000000</td>\n      <td>0.000000</td>\n      <td>0.000000</td>\n      <td>0.000000</td>\n      <td>0.000000</td>\n      <td>0.000000</td>\n      <td>0.000000</td>\n      <td>0.000000</td>\n      <td>0.000000</td>\n      <td>0.000000</td>\n      <td>0.000000</td>\n    </tr>\n    <tr>\n      <th>7</th>\n      <td>Macka</td>\n      <td>0.000000</td>\n      <td>0.0</td>\n      <td>0.000000</td>\n      <td>0.000000</td>\n      <td>0.0</td>\n      <td>0.000000</td>\n      <td>0.0</td>\n      <td>0.000000</td>\n      <td>0.000000</td>\n      <td>0.000000</td>\n      <td>0.000000</td>\n      <td>0.000000</td>\n      <td>1.0</td>\n      <td>0.000000</td>\n      <td>0.000000</td>\n      <td>0.000000</td>\n      <td>0.000000</td>\n      <td>0.000000</td>\n      <td>0.000000</td>\n      <td>0.0</td>\n      <td>0.000000</td>\n      <td>0.000000</td>\n      <td>0.0</td>\n      <td>0.0</td>\n      <td>0.0</td>\n      <td>0.000000</td>\n      <td>0.000000</td>\n      <td>0.000000</td>\n      <td>0.000000</td>\n      <td>0.000000</td>\n      <td>0.0</td>\n      <td>0.0</td>\n      <td>0.000000</td>\n      <td>0.000000</td>\n      <td>0.000000</td>\n      <td>0.000000</td>\n      <td>0.000000</td>\n      <td>0.000000</td>\n      <td>0.0</td>\n      <td>0.0</td>\n      <td>0.000000</td>\n      <td>0.000000</td>\n      <td>0.000000</td>\n      <td>0.000000</td>\n      <td>0.000000</td>\n      <td>0.000000</td>\n      <td>0.000000</td>\n      <td>0.000000</td>\n      <td>0.000000</td>\n      <td>0.000000</td>\n      <td>0.000000</td>\n      <td>0.000000</td>\n      <td>0.000000</td>\n      <td>0.000000</td>\n    </tr>\n    <tr>\n      <th>8</th>\n      <td>Of</td>\n      <td>0.000000</td>\n      <td>0.0</td>\n      <td>0.000000</td>\n      <td>0.000000</td>\n      <td>0.0</td>\n      <td>0.000000</td>\n      <td>0.2</td>\n      <td>0.000000</td>\n      <td>0.000000</td>\n      <td>0.000000</td>\n      <td>0.000000</td>\n      <td>0.000000</td>\n      <td>0.0</td>\n      <td>0.000000</td>\n      <td>0.000000</td>\n      <td>0.000000</td>\n      <td>0.000000</td>\n      <td>0.000000</td>\n      <td>0.000000</td>\n      <td>0.2</td>\n      <td>0.000000</td>\n      <td>0.000000</td>\n      <td>0.0</td>\n      <td>0.0</td>\n      <td>0.0</td>\n      <td>0.000000</td>\n      <td>0.000000</td>\n      <td>0.000000</td>\n      <td>0.000000</td>\n      <td>0.000000</td>\n      <td>0.0</td>\n      <td>0.0</td>\n      <td>0.000000</td>\n      <td>0.200000</td>\n      <td>0.000000</td>\n      <td>0.000000</td>\n      <td>0.000000</td>\n      <td>0.200000</td>\n      <td>0.2</td>\n      <td>0.0</td>\n      <td>0.000000</td>\n      <td>0.000000</td>\n      <td>0.000000</td>\n      <td>0.000000</td>\n      <td>0.000000</td>\n      <td>0.000000</td>\n      <td>0.000000</td>\n      <td>0.000000</td>\n      <td>0.000000</td>\n      <td>0.000000</td>\n      <td>0.000000</td>\n      <td>0.000000</td>\n      <td>0.000000</td>\n      <td>0.000000</td>\n    </tr>\n    <tr>\n      <th>9</th>\n      <td>Ortahisar</td>\n      <td>0.000000</td>\n      <td>0.0</td>\n      <td>0.041667</td>\n      <td>0.000000</td>\n      <td>0.0</td>\n      <td>0.000000</td>\n      <td>0.0</td>\n      <td>0.000000</td>\n      <td>0.000000</td>\n      <td>0.000000</td>\n      <td>0.000000</td>\n      <td>0.041667</td>\n      <td>0.0</td>\n      <td>0.000000</td>\n      <td>0.041667</td>\n      <td>0.000000</td>\n      <td>0.000000</td>\n      <td>0.000000</td>\n      <td>0.083333</td>\n      <td>0.0</td>\n      <td>0.000000</td>\n      <td>0.041667</td>\n      <td>0.0</td>\n      <td>0.0</td>\n      <td>0.0</td>\n      <td>0.041667</td>\n      <td>0.041667</td>\n      <td>0.000000</td>\n      <td>0.000000</td>\n      <td>0.000000</td>\n      <td>0.0</td>\n      <td>0.0</td>\n      <td>0.041667</td>\n      <td>0.000000</td>\n      <td>0.041667</td>\n      <td>0.000000</td>\n      <td>0.000000</td>\n      <td>0.041667</td>\n      <td>0.0</td>\n      <td>0.0</td>\n      <td>0.041667</td>\n      <td>0.083333</td>\n      <td>0.000000</td>\n      <td>0.041667</td>\n      <td>0.000000</td>\n      <td>0.083333</td>\n      <td>0.041667</td>\n      <td>0.041667</td>\n      <td>0.041667</td>\n      <td>0.000000</td>\n      <td>0.041667</td>\n      <td>0.041667</td>\n      <td>0.041667</td>\n      <td>0.041667</td>\n    </tr>\n    <tr>\n      <th>10</th>\n      <td>Vakfikebir</td>\n      <td>0.000000</td>\n      <td>0.0</td>\n      <td>0.000000</td>\n      <td>0.000000</td>\n      <td>0.0</td>\n      <td>0.000000</td>\n      <td>0.0</td>\n      <td>0.000000</td>\n      <td>0.000000</td>\n      <td>0.000000</td>\n      <td>0.000000</td>\n      <td>0.000000</td>\n      <td>0.0</td>\n      <td>0.000000</td>\n      <td>0.000000</td>\n      <td>0.000000</td>\n      <td>0.000000</td>\n      <td>0.000000</td>\n      <td>0.000000</td>\n      <td>0.0</td>\n      <td>0.000000</td>\n      <td>0.000000</td>\n      <td>0.0</td>\n      <td>0.0</td>\n      <td>0.0</td>\n      <td>0.000000</td>\n      <td>0.000000</td>\n      <td>0.000000</td>\n      <td>0.000000</td>\n      <td>0.000000</td>\n      <td>1.0</td>\n      <td>0.0</td>\n      <td>0.000000</td>\n      <td>0.000000</td>\n      <td>0.000000</td>\n      <td>0.000000</td>\n      <td>0.000000</td>\n      <td>0.000000</td>\n      <td>0.0</td>\n      <td>0.0</td>\n      <td>0.000000</td>\n      <td>0.000000</td>\n      <td>0.000000</td>\n      <td>0.000000</td>\n      <td>0.000000</td>\n      <td>0.000000</td>\n      <td>0.000000</td>\n      <td>0.000000</td>\n      <td>0.000000</td>\n      <td>0.000000</td>\n      <td>0.000000</td>\n      <td>0.000000</td>\n      <td>0.000000</td>\n      <td>0.000000</td>\n    </tr>\n    <tr>\n      <th>11</th>\n      <td>Yomra</td>\n      <td>0.000000</td>\n      <td>0.0</td>\n      <td>0.000000</td>\n      <td>0.000000</td>\n      <td>0.0</td>\n      <td>0.000000</td>\n      <td>0.0</td>\n      <td>0.000000</td>\n      <td>0.000000</td>\n      <td>0.000000</td>\n      <td>0.000000</td>\n      <td>0.000000</td>\n      <td>0.0</td>\n      <td>0.000000</td>\n      <td>0.000000</td>\n      <td>0.000000</td>\n      <td>0.000000</td>\n      <td>0.000000</td>\n      <td>0.000000</td>\n      <td>0.0</td>\n      <td>0.000000</td>\n      <td>0.000000</td>\n      <td>0.0</td>\n      <td>0.0</td>\n      <td>0.5</td>\n      <td>0.000000</td>\n      <td>0.000000</td>\n      <td>0.000000</td>\n      <td>0.000000</td>\n      <td>0.000000</td>\n      <td>0.0</td>\n      <td>0.5</td>\n      <td>0.000000</td>\n      <td>0.000000</td>\n      <td>0.000000</td>\n      <td>0.000000</td>\n      <td>0.000000</td>\n      <td>0.000000</td>\n      <td>0.0</td>\n      <td>0.0</td>\n      <td>0.000000</td>\n      <td>0.000000</td>\n      <td>0.000000</td>\n      <td>0.000000</td>\n      <td>0.000000</td>\n      <td>0.000000</td>\n      <td>0.000000</td>\n      <td>0.000000</td>\n      <td>0.000000</td>\n      <td>0.000000</td>\n      <td>0.000000</td>\n      <td>0.000000</td>\n      <td>0.000000</td>\n      <td>0.000000</td>\n    </tr>\n  </tbody>\n</table>\n</div>"
     },
     "metadata": {},
     "execution_count": 138
    }
   ],
   "source": [
    "trabzon_grouped = trabzon_onehot.groupby('Neighborhood').mean().reset_index()\n",
    "trabzon_grouped"
   ]
  },
  {
   "cell_type": "code",
   "execution_count": 139,
   "metadata": {},
   "outputs": [
    {
     "output_type": "stream",
     "name": "stdout",
     "text": [
      "***Akcaabat***\n                    venue  freq\n0                Mountain   0.4\n1     Arts & Crafts Store   0.2\n2     Turkish Coffeehouse   0.2\n3  Furniture / Home Store   0.2\n***Arakli***\n         venue  freq\n0         Café  0.15\n1     Tea Room  0.06\n2  Auto Garage  0.06\n3        River  0.06\n***Arsin***\n          venue  freq\n0  Antique Shop   0.5\n1        Forest   0.5\n2        Market   0.0\n3        Mosque   0.0\n***Besikduzu***\n                venue  freq\n0        Fishing Spot   1.0\n1  African Restaurant   0.0\n2           Rest Area   0.0\n3            Mountain   0.0\n***Carsibasi***\n                venue  freq\n0              Forest   0.5\n1                 Pub   0.5\n2  African Restaurant   0.0\n3           Rest Area   0.0\n***Duzkoy***\n                venue  freq\n0                Farm   1.0\n1  African Restaurant   0.0\n2           Rest Area   0.0\n3            Mountain   0.0\n***Hayrat***\n                  venue  freq\n0  Other Great Outdoors   1.0\n1    African Restaurant   0.0\n2             Rest Area   0.0\n3                Mosque   0.0\n***Macka***\n                venue  freq\n0          Campground   1.0\n1  African Restaurant   0.0\n2          Restaurant   0.0\n3            Mountain   0.0\n***Of***\n   venue  freq\n0   Park   0.2\n1    Bay   0.2\n2   Farm   0.2\n3  Plaza   0.2\n***Ortahisar***\n               venue  freq\n0  Electronics Store  0.08\n1         Restaurant  0.08\n2     Soccer Stadium  0.08\n3         Water Park  0.04\n***Vakfikebir***\n                venue  freq\n0            Mountain   1.0\n1  African Restaurant   0.0\n2           Rest Area   0.0\n3              Mosque   0.0\n***Yomra***\n                    venue  freq\n0  Furniture / Home Store   0.5\n1           Movie Theater   0.5\n2      African Restaurant   0.0\n3               Rest Area   0.0\n"
     ]
    }
   ],
   "source": [
    "num_top_venues = 4\n",
    "\n",
    "for hood in trabzon_grouped['Neighborhood']:\n",
    "    print('***' + hood+\"***\")\n",
    "    temp = trabzon_grouped[trabzon_grouped['Neighborhood']==hood].T.reset_index()\n",
    "    temp.columns = ['venue','freq']\n",
    "    temp=temp.iloc[1:]\n",
    "    temp['freq']= temp['freq'].astype(float)\n",
    "    temp=temp.round({'freq':2})\n",
    "    print(temp.sort_values('freq',ascending=False).reset_index(drop=True).head(num_top_venues))\n",
    "\n"
   ]
  },
  {
   "cell_type": "code",
   "execution_count": 143,
   "metadata": {},
   "outputs": [],
   "source": [
    "def return_most_common_venues(row,num_top_venues):\n",
    "    row_categories = row.iloc[1:]\n",
    "    row_categories_sorted = row_categories.sort_values(ascending =False)\n",
    "    return row_categories_sorted.index.values[0:num_top_venues]"
   ]
  },
  {
   "cell_type": "code",
   "execution_count": 174,
   "metadata": {},
   "outputs": [
    {
     "output_type": "execute_result",
     "data": {
      "text/plain": [
       "  Neighborhood 1st Most Common Venue   2nd Most Common Venue  \\\n",
       "0     Akcaabat              Mountain  Furniture / Home Store   \n",
       "1       Arakli                  Café             Auto Garage   \n",
       "2        Arsin          Antique Shop                  Forest   \n",
       "3    Besikduzu          Fishing Spot              Water Park   \n",
       "4    Carsibasi                   Pub                  Forest   \n",
       "\n",
       "  3rd Most Common Venue   4th Most Common Venue   5th Most Common Venue  \\\n",
       "0   Turkish Coffeehouse     Arts & Crafts Store          Cigkofte Place   \n",
       "1              Tea Room                   River    Fast Food Restaurant   \n",
       "2            Water Park          Cigkofte Place  Furniture / Home Store   \n",
       "3        Cigkofte Place  Furniture / Home Store                  Forest   \n",
       "4            Water Park            Fishing Spot       Fish & Chips Shop   \n",
       "\n",
       "  6th Most Common Venue    7th Most Common Venue 8th Most Common Venue  \\\n",
       "0                Forest             Fishing Spot     Fish & Chips Shop   \n",
       "1      Department Store  Comfort Food Restaurant             Locksmith   \n",
       "2          Fishing Spot        Fish & Chips Shop  Fast Food Restaurant   \n",
       "3     Fish & Chips Shop     Fast Food Restaurant                  Farm   \n",
       "4  Fast Food Restaurant                     Farm     Electronics Store   \n",
       "\n",
       "  9th Most Common Venue 10th Most Common Venue  \n",
       "0  Fast Food Restaurant                   Farm  \n",
       "1           Pizza Place                 Market  \n",
       "2                  Farm      Electronics Store  \n",
       "3     Electronics Store             Donut Shop  \n",
       "4            Donut Shop       Department Store  "
      ],
      "text/html": "<div>\n<style scoped>\n    .dataframe tbody tr th:only-of-type {\n        vertical-align: middle;\n    }\n\n    .dataframe tbody tr th {\n        vertical-align: top;\n    }\n\n    .dataframe thead th {\n        text-align: right;\n    }\n</style>\n<table border=\"1\" class=\"dataframe\">\n  <thead>\n    <tr style=\"text-align: right;\">\n      <th></th>\n      <th>Neighborhood</th>\n      <th>1st Most Common Venue</th>\n      <th>2nd Most Common Venue</th>\n      <th>3rd Most Common Venue</th>\n      <th>4th Most Common Venue</th>\n      <th>5th Most Common Venue</th>\n      <th>6th Most Common Venue</th>\n      <th>7th Most Common Venue</th>\n      <th>8th Most Common Venue</th>\n      <th>9th Most Common Venue</th>\n      <th>10th Most Common Venue</th>\n    </tr>\n  </thead>\n  <tbody>\n    <tr>\n      <th>0</th>\n      <td>Akcaabat</td>\n      <td>Mountain</td>\n      <td>Furniture / Home Store</td>\n      <td>Turkish Coffeehouse</td>\n      <td>Arts &amp; Crafts Store</td>\n      <td>Cigkofte Place</td>\n      <td>Forest</td>\n      <td>Fishing Spot</td>\n      <td>Fish &amp; Chips Shop</td>\n      <td>Fast Food Restaurant</td>\n      <td>Farm</td>\n    </tr>\n    <tr>\n      <th>1</th>\n      <td>Arakli</td>\n      <td>Café</td>\n      <td>Auto Garage</td>\n      <td>Tea Room</td>\n      <td>River</td>\n      <td>Fast Food Restaurant</td>\n      <td>Department Store</td>\n      <td>Comfort Food Restaurant</td>\n      <td>Locksmith</td>\n      <td>Pizza Place</td>\n      <td>Market</td>\n    </tr>\n    <tr>\n      <th>2</th>\n      <td>Arsin</td>\n      <td>Antique Shop</td>\n      <td>Forest</td>\n      <td>Water Park</td>\n      <td>Cigkofte Place</td>\n      <td>Furniture / Home Store</td>\n      <td>Fishing Spot</td>\n      <td>Fish &amp; Chips Shop</td>\n      <td>Fast Food Restaurant</td>\n      <td>Farm</td>\n      <td>Electronics Store</td>\n    </tr>\n    <tr>\n      <th>3</th>\n      <td>Besikduzu</td>\n      <td>Fishing Spot</td>\n      <td>Water Park</td>\n      <td>Cigkofte Place</td>\n      <td>Furniture / Home Store</td>\n      <td>Forest</td>\n      <td>Fish &amp; Chips Shop</td>\n      <td>Fast Food Restaurant</td>\n      <td>Farm</td>\n      <td>Electronics Store</td>\n      <td>Donut Shop</td>\n    </tr>\n    <tr>\n      <th>4</th>\n      <td>Carsibasi</td>\n      <td>Pub</td>\n      <td>Forest</td>\n      <td>Water Park</td>\n      <td>Fishing Spot</td>\n      <td>Fish &amp; Chips Shop</td>\n      <td>Fast Food Restaurant</td>\n      <td>Farm</td>\n      <td>Electronics Store</td>\n      <td>Donut Shop</td>\n      <td>Department Store</td>\n    </tr>\n  </tbody>\n</table>\n</div>"
     },
     "metadata": {},
     "execution_count": 174
    }
   ],
   "source": [
    "num_top_venues = 10\n",
    "\n",
    "indicators = ['st', 'nd', 'rd']\n",
    "\n",
    "# create columns according to number of top venues\n",
    "columns = ['Neighborhood']\n",
    "for ind in np.arange(num_top_venues):\n",
    "    try:\n",
    "        columns.append('{}{} Most Common Venue'.format(ind+1, indicators[ind]))\n",
    "    except:\n",
    "        columns.append('{}th Most Common Venue'.format(ind+1))\n",
    "\n",
    "# create a new dataframe\n",
    "neighborhoods_venues_sorted = pd.DataFrame(columns=columns)\n",
    "neighborhoods_venues_sorted['Neighborhood'] = trabzon_grouped['Neighborhood']\n",
    "\n",
    "for ind in np.arange(trabzon_grouped.shape[0]):\n",
    "    neighborhoods_venues_sorted.iloc[ind, 1:] = return_most_common_venues(trabzon_grouped.iloc[ind, :], num_top_venues)\n",
    "\n",
    "neighborhoods_venues_sorted.head()"
   ]
  },
  {
   "cell_type": "code",
   "execution_count": 192,
   "metadata": {},
   "outputs": [
    {
     "output_type": "execute_result",
     "data": {
      "text/plain": [
       "array([0, 0, 0, 2, 0, 0, 1, 3, 0, 0])"
      ]
     },
     "metadata": {},
     "execution_count": 192
    }
   ],
   "source": [
    "#number of clusters set\n",
    "kclusters= 4\n",
    "trabzon_grouped_clustering = trabzon_grouped.drop('Neighborhood',1)\n",
    "\n",
    "#run k-means clustering\n",
    "kmeans = KMeans(n_clusters=kclusters,random_state=4).fit(trabzon_grouped_clustering)\n",
    "\n",
    "#check cluster labels generated for each row in the dataframe\n",
    "kmeans.labels_[0:10]"
   ]
  },
  {
   "cell_type": "code",
   "execution_count": 193,
   "metadata": {},
   "outputs": [
    {
     "output_type": "execute_result",
     "data": {
      "text/plain": [
       "    cluster labels Neighborhood   1st Most Common Venue  \\\n",
       "0                1     Akcaabat                Mountain   \n",
       "1                1       Arakli                    Café   \n",
       "2                1        Arsin            Antique Shop   \n",
       "3                4    Besikduzu            Fishing Spot   \n",
       "4                1    Carsibasi                     Pub   \n",
       "5                2       Duzkoy                    Farm   \n",
       "6                3       Hayrat    Other Great Outdoors   \n",
       "7                0        Macka              Campground   \n",
       "8                1           Of                    Pool   \n",
       "9                1    Ortahisar       Electronics Store   \n",
       "10               1   Vakfikebir                Mountain   \n",
       "11               1        Yomra  Furniture / Home Store   \n",
       "\n",
       "     2nd Most Common Venue   3rd Most Common Venue   4th Most Common Venue  \\\n",
       "0   Furniture / Home Store     Turkish Coffeehouse     Arts & Crafts Store   \n",
       "1              Auto Garage                Tea Room                   River   \n",
       "2                   Forest              Water Park          Cigkofte Place   \n",
       "3               Water Park          Cigkofte Place  Furniture / Home Store   \n",
       "4                   Forest              Water Park            Fishing Spot   \n",
       "5               Water Park          Cigkofte Place  Furniture / Home Store   \n",
       "6               Water Park          Cigkofte Place                  Forest   \n",
       "7           Cigkofte Place  Furniture / Home Store                  Forest   \n",
       "8                     Farm                     Bay                    Park   \n",
       "9           Soccer Stadium              Restaurant              Water Park   \n",
       "10              Water Park          Cigkofte Place                  Forest   \n",
       "11           Movie Theater          Cigkofte Place                  Forest   \n",
       "\n",
       "     5th Most Common Venue 6th Most Common Venue    7th Most Common Venue  \\\n",
       "0           Cigkofte Place                Forest             Fishing Spot   \n",
       "1     Fast Food Restaurant      Department Store  Comfort Food Restaurant   \n",
       "2   Furniture / Home Store          Fishing Spot        Fish & Chips Shop   \n",
       "3                   Forest     Fish & Chips Shop     Fast Food Restaurant   \n",
       "4        Fish & Chips Shop  Fast Food Restaurant                     Farm   \n",
       "5                   Forest          Fishing Spot        Fish & Chips Shop   \n",
       "6             Fishing Spot     Fish & Chips Shop     Fast Food Restaurant   \n",
       "7             Fishing Spot     Fish & Chips Shop     Fast Food Restaurant   \n",
       "8                    Plaza            Water Park             Fishing Spot   \n",
       "9                    Plaza                Arcade                     Café   \n",
       "10            Fishing Spot     Fish & Chips Shop     Fast Food Restaurant   \n",
       "11            Fishing Spot     Fish & Chips Shop     Fast Food Restaurant   \n",
       "\n",
       "   8th Most Common Venue 9th Most Common Venue 10th Most Common Venue  \n",
       "0      Fish & Chips Shop  Fast Food Restaurant                   Farm  \n",
       "1              Locksmith           Pizza Place                 Market  \n",
       "2   Fast Food Restaurant                  Farm      Electronics Store  \n",
       "3                   Farm     Electronics Store             Donut Shop  \n",
       "4      Electronics Store            Donut Shop       Department Store  \n",
       "5   Fast Food Restaurant     Electronics Store             Donut Shop  \n",
       "6                   Farm     Electronics Store             Donut Shop  \n",
       "7                   Farm     Electronics Store             Donut Shop  \n",
       "8      Fish & Chips Shop  Fast Food Restaurant      Electronics Store  \n",
       "9         Clothing Store     Fish & Chips Shop                 Garden  \n",
       "10                  Farm     Electronics Store             Donut Shop  \n",
       "11                  Farm     Electronics Store             Donut Shop  "
      ],
      "text/html": "<div>\n<style scoped>\n    .dataframe tbody tr th:only-of-type {\n        vertical-align: middle;\n    }\n\n    .dataframe tbody tr th {\n        vertical-align: top;\n    }\n\n    .dataframe thead th {\n        text-align: right;\n    }\n</style>\n<table border=\"1\" class=\"dataframe\">\n  <thead>\n    <tr style=\"text-align: right;\">\n      <th></th>\n      <th>cluster labels</th>\n      <th>Neighborhood</th>\n      <th>1st Most Common Venue</th>\n      <th>2nd Most Common Venue</th>\n      <th>3rd Most Common Venue</th>\n      <th>4th Most Common Venue</th>\n      <th>5th Most Common Venue</th>\n      <th>6th Most Common Venue</th>\n      <th>7th Most Common Venue</th>\n      <th>8th Most Common Venue</th>\n      <th>9th Most Common Venue</th>\n      <th>10th Most Common Venue</th>\n    </tr>\n  </thead>\n  <tbody>\n    <tr>\n      <th>0</th>\n      <td>1</td>\n      <td>Akcaabat</td>\n      <td>Mountain</td>\n      <td>Furniture / Home Store</td>\n      <td>Turkish Coffeehouse</td>\n      <td>Arts &amp; Crafts Store</td>\n      <td>Cigkofte Place</td>\n      <td>Forest</td>\n      <td>Fishing Spot</td>\n      <td>Fish &amp; Chips Shop</td>\n      <td>Fast Food Restaurant</td>\n      <td>Farm</td>\n    </tr>\n    <tr>\n      <th>1</th>\n      <td>1</td>\n      <td>Arakli</td>\n      <td>Café</td>\n      <td>Auto Garage</td>\n      <td>Tea Room</td>\n      <td>River</td>\n      <td>Fast Food Restaurant</td>\n      <td>Department Store</td>\n      <td>Comfort Food Restaurant</td>\n      <td>Locksmith</td>\n      <td>Pizza Place</td>\n      <td>Market</td>\n    </tr>\n    <tr>\n      <th>2</th>\n      <td>1</td>\n      <td>Arsin</td>\n      <td>Antique Shop</td>\n      <td>Forest</td>\n      <td>Water Park</td>\n      <td>Cigkofte Place</td>\n      <td>Furniture / Home Store</td>\n      <td>Fishing Spot</td>\n      <td>Fish &amp; Chips Shop</td>\n      <td>Fast Food Restaurant</td>\n      <td>Farm</td>\n      <td>Electronics Store</td>\n    </tr>\n    <tr>\n      <th>3</th>\n      <td>4</td>\n      <td>Besikduzu</td>\n      <td>Fishing Spot</td>\n      <td>Water Park</td>\n      <td>Cigkofte Place</td>\n      <td>Furniture / Home Store</td>\n      <td>Forest</td>\n      <td>Fish &amp; Chips Shop</td>\n      <td>Fast Food Restaurant</td>\n      <td>Farm</td>\n      <td>Electronics Store</td>\n      <td>Donut Shop</td>\n    </tr>\n    <tr>\n      <th>4</th>\n      <td>1</td>\n      <td>Carsibasi</td>\n      <td>Pub</td>\n      <td>Forest</td>\n      <td>Water Park</td>\n      <td>Fishing Spot</td>\n      <td>Fish &amp; Chips Shop</td>\n      <td>Fast Food Restaurant</td>\n      <td>Farm</td>\n      <td>Electronics Store</td>\n      <td>Donut Shop</td>\n      <td>Department Store</td>\n    </tr>\n    <tr>\n      <th>5</th>\n      <td>2</td>\n      <td>Duzkoy</td>\n      <td>Farm</td>\n      <td>Water Park</td>\n      <td>Cigkofte Place</td>\n      <td>Furniture / Home Store</td>\n      <td>Forest</td>\n      <td>Fishing Spot</td>\n      <td>Fish &amp; Chips Shop</td>\n      <td>Fast Food Restaurant</td>\n      <td>Electronics Store</td>\n      <td>Donut Shop</td>\n    </tr>\n    <tr>\n      <th>6</th>\n      <td>3</td>\n      <td>Hayrat</td>\n      <td>Other Great Outdoors</td>\n      <td>Water Park</td>\n      <td>Cigkofte Place</td>\n      <td>Forest</td>\n      <td>Fishing Spot</td>\n      <td>Fish &amp; Chips Shop</td>\n      <td>Fast Food Restaurant</td>\n      <td>Farm</td>\n      <td>Electronics Store</td>\n      <td>Donut Shop</td>\n    </tr>\n    <tr>\n      <th>7</th>\n      <td>0</td>\n      <td>Macka</td>\n      <td>Campground</td>\n      <td>Cigkofte Place</td>\n      <td>Furniture / Home Store</td>\n      <td>Forest</td>\n      <td>Fishing Spot</td>\n      <td>Fish &amp; Chips Shop</td>\n      <td>Fast Food Restaurant</td>\n      <td>Farm</td>\n      <td>Electronics Store</td>\n      <td>Donut Shop</td>\n    </tr>\n    <tr>\n      <th>8</th>\n      <td>1</td>\n      <td>Of</td>\n      <td>Pool</td>\n      <td>Farm</td>\n      <td>Bay</td>\n      <td>Park</td>\n      <td>Plaza</td>\n      <td>Water Park</td>\n      <td>Fishing Spot</td>\n      <td>Fish &amp; Chips Shop</td>\n      <td>Fast Food Restaurant</td>\n      <td>Electronics Store</td>\n    </tr>\n    <tr>\n      <th>9</th>\n      <td>1</td>\n      <td>Ortahisar</td>\n      <td>Electronics Store</td>\n      <td>Soccer Stadium</td>\n      <td>Restaurant</td>\n      <td>Water Park</td>\n      <td>Plaza</td>\n      <td>Arcade</td>\n      <td>Café</td>\n      <td>Clothing Store</td>\n      <td>Fish &amp; Chips Shop</td>\n      <td>Garden</td>\n    </tr>\n    <tr>\n      <th>10</th>\n      <td>1</td>\n      <td>Vakfikebir</td>\n      <td>Mountain</td>\n      <td>Water Park</td>\n      <td>Cigkofte Place</td>\n      <td>Forest</td>\n      <td>Fishing Spot</td>\n      <td>Fish &amp; Chips Shop</td>\n      <td>Fast Food Restaurant</td>\n      <td>Farm</td>\n      <td>Electronics Store</td>\n      <td>Donut Shop</td>\n    </tr>\n    <tr>\n      <th>11</th>\n      <td>1</td>\n      <td>Yomra</td>\n      <td>Furniture / Home Store</td>\n      <td>Movie Theater</td>\n      <td>Cigkofte Place</td>\n      <td>Forest</td>\n      <td>Fishing Spot</td>\n      <td>Fish &amp; Chips Shop</td>\n      <td>Fast Food Restaurant</td>\n      <td>Farm</td>\n      <td>Electronics Store</td>\n      <td>Donut Shop</td>\n    </tr>\n  </tbody>\n</table>\n</div>"
     },
     "metadata": {},
     "execution_count": 193
    }
   ],
   "source": [
    "neighborhoods_venues_sorted"
   ]
  },
  {
   "cell_type": "code",
   "execution_count": 197,
   "metadata": {},
   "outputs": [
    {
     "output_type": "execute_result",
     "data": {
      "text/plain": [
       "          cities       lats      longs  cluster labels  \\\n",
       "0       Akcaabat  40.964348  39.510468             1.0   \n",
       "1         Arakli  40.935896  40.055472             1.0   \n",
       "2          Arsin  40.845656  39.924026             1.0   \n",
       "3      Besikduzu  41.014780  39.200524             4.0   \n",
       "4      Carsibasi  41.020812  39.420366             1.0   \n",
       "5        Caykara  40.653175  40.248268             NaN   \n",
       "6   Dernekpazari  40.775884  40.195233             NaN   \n",
       "7         Duzkoy  40.837951  39.387480             2.0   \n",
       "8         Hayrat  40.771031  40.406843             3.0   \n",
       "9      Koprubasi  40.700684  40.119920             NaN   \n",
       "10         Macka  40.760162  39.571443             0.0   \n",
       "11            Of  40.881736  40.275444             1.0   \n",
       "12     Ortahisar  41.001325  39.706678             1.0   \n",
       "13       Surmene  40.803813  40.059268             NaN   \n",
       "14     Salpazari  40.862977  39.196401             NaN   \n",
       "15         Tonya  40.843156  39.288762             NaN   \n",
       "16    Vakfikebir  40.994066  39.313663             1.0   \n",
       "17         Yomra  40.847128  39.842822             1.0   \n",
       "\n",
       "     1st Most Common Venue   2nd Most Common Venue   3rd Most Common Venue  \\\n",
       "0                 Mountain  Furniture / Home Store     Turkish Coffeehouse   \n",
       "1                     Café             Auto Garage                Tea Room   \n",
       "2             Antique Shop                  Forest              Water Park   \n",
       "3             Fishing Spot              Water Park          Cigkofte Place   \n",
       "4                      Pub                  Forest              Water Park   \n",
       "5                      NaN                     NaN                     NaN   \n",
       "6                      NaN                     NaN                     NaN   \n",
       "7                     Farm              Water Park          Cigkofte Place   \n",
       "8     Other Great Outdoors              Water Park          Cigkofte Place   \n",
       "9                      NaN                     NaN                     NaN   \n",
       "10              Campground          Cigkofte Place  Furniture / Home Store   \n",
       "11                    Pool                    Farm                     Bay   \n",
       "12       Electronics Store          Soccer Stadium              Restaurant   \n",
       "13                     NaN                     NaN                     NaN   \n",
       "14                     NaN                     NaN                     NaN   \n",
       "15                     NaN                     NaN                     NaN   \n",
       "16                Mountain              Water Park          Cigkofte Place   \n",
       "17  Furniture / Home Store           Movie Theater          Cigkofte Place   \n",
       "\n",
       "     4th Most Common Venue   5th Most Common Venue 6th Most Common Venue  \\\n",
       "0      Arts & Crafts Store          Cigkofte Place                Forest   \n",
       "1                    River    Fast Food Restaurant      Department Store   \n",
       "2           Cigkofte Place  Furniture / Home Store          Fishing Spot   \n",
       "3   Furniture / Home Store                  Forest     Fish & Chips Shop   \n",
       "4             Fishing Spot       Fish & Chips Shop  Fast Food Restaurant   \n",
       "5                      NaN                     NaN                   NaN   \n",
       "6                      NaN                     NaN                   NaN   \n",
       "7   Furniture / Home Store                  Forest          Fishing Spot   \n",
       "8                   Forest            Fishing Spot     Fish & Chips Shop   \n",
       "9                      NaN                     NaN                   NaN   \n",
       "10                  Forest            Fishing Spot     Fish & Chips Shop   \n",
       "11                    Park                   Plaza            Water Park   \n",
       "12              Water Park                   Plaza                Arcade   \n",
       "13                     NaN                     NaN                   NaN   \n",
       "14                     NaN                     NaN                   NaN   \n",
       "15                     NaN                     NaN                   NaN   \n",
       "16                  Forest            Fishing Spot     Fish & Chips Shop   \n",
       "17                  Forest            Fishing Spot     Fish & Chips Shop   \n",
       "\n",
       "      7th Most Common Venue 8th Most Common Venue 9th Most Common Venue  \\\n",
       "0              Fishing Spot     Fish & Chips Shop  Fast Food Restaurant   \n",
       "1   Comfort Food Restaurant             Locksmith           Pizza Place   \n",
       "2         Fish & Chips Shop  Fast Food Restaurant                  Farm   \n",
       "3      Fast Food Restaurant                  Farm     Electronics Store   \n",
       "4                      Farm     Electronics Store            Donut Shop   \n",
       "5                       NaN                   NaN                   NaN   \n",
       "6                       NaN                   NaN                   NaN   \n",
       "7         Fish & Chips Shop  Fast Food Restaurant     Electronics Store   \n",
       "8      Fast Food Restaurant                  Farm     Electronics Store   \n",
       "9                       NaN                   NaN                   NaN   \n",
       "10     Fast Food Restaurant                  Farm     Electronics Store   \n",
       "11             Fishing Spot     Fish & Chips Shop  Fast Food Restaurant   \n",
       "12                     Café        Clothing Store     Fish & Chips Shop   \n",
       "13                      NaN                   NaN                   NaN   \n",
       "14                      NaN                   NaN                   NaN   \n",
       "15                      NaN                   NaN                   NaN   \n",
       "16     Fast Food Restaurant                  Farm     Electronics Store   \n",
       "17     Fast Food Restaurant                  Farm     Electronics Store   \n",
       "\n",
       "   10th Most Common Venue  \n",
       "0                    Farm  \n",
       "1                  Market  \n",
       "2       Electronics Store  \n",
       "3              Donut Shop  \n",
       "4        Department Store  \n",
       "5                     NaN  \n",
       "6                     NaN  \n",
       "7              Donut Shop  \n",
       "8              Donut Shop  \n",
       "9                     NaN  \n",
       "10             Donut Shop  \n",
       "11      Electronics Store  \n",
       "12                 Garden  \n",
       "13                    NaN  \n",
       "14                    NaN  \n",
       "15                    NaN  \n",
       "16             Donut Shop  \n",
       "17             Donut Shop  "
      ],
      "text/html": "<div>\n<style scoped>\n    .dataframe tbody tr th:only-of-type {\n        vertical-align: middle;\n    }\n\n    .dataframe tbody tr th {\n        vertical-align: top;\n    }\n\n    .dataframe thead th {\n        text-align: right;\n    }\n</style>\n<table border=\"1\" class=\"dataframe\">\n  <thead>\n    <tr style=\"text-align: right;\">\n      <th></th>\n      <th>cities</th>\n      <th>lats</th>\n      <th>longs</th>\n      <th>cluster labels</th>\n      <th>1st Most Common Venue</th>\n      <th>2nd Most Common Venue</th>\n      <th>3rd Most Common Venue</th>\n      <th>4th Most Common Venue</th>\n      <th>5th Most Common Venue</th>\n      <th>6th Most Common Venue</th>\n      <th>7th Most Common Venue</th>\n      <th>8th Most Common Venue</th>\n      <th>9th Most Common Venue</th>\n      <th>10th Most Common Venue</th>\n    </tr>\n  </thead>\n  <tbody>\n    <tr>\n      <th>0</th>\n      <td>Akcaabat</td>\n      <td>40.964348</td>\n      <td>39.510468</td>\n      <td>1.0</td>\n      <td>Mountain</td>\n      <td>Furniture / Home Store</td>\n      <td>Turkish Coffeehouse</td>\n      <td>Arts &amp; Crafts Store</td>\n      <td>Cigkofte Place</td>\n      <td>Forest</td>\n      <td>Fishing Spot</td>\n      <td>Fish &amp; Chips Shop</td>\n      <td>Fast Food Restaurant</td>\n      <td>Farm</td>\n    </tr>\n    <tr>\n      <th>1</th>\n      <td>Arakli</td>\n      <td>40.935896</td>\n      <td>40.055472</td>\n      <td>1.0</td>\n      <td>Café</td>\n      <td>Auto Garage</td>\n      <td>Tea Room</td>\n      <td>River</td>\n      <td>Fast Food Restaurant</td>\n      <td>Department Store</td>\n      <td>Comfort Food Restaurant</td>\n      <td>Locksmith</td>\n      <td>Pizza Place</td>\n      <td>Market</td>\n    </tr>\n    <tr>\n      <th>2</th>\n      <td>Arsin</td>\n      <td>40.845656</td>\n      <td>39.924026</td>\n      <td>1.0</td>\n      <td>Antique Shop</td>\n      <td>Forest</td>\n      <td>Water Park</td>\n      <td>Cigkofte Place</td>\n      <td>Furniture / Home Store</td>\n      <td>Fishing Spot</td>\n      <td>Fish &amp; Chips Shop</td>\n      <td>Fast Food Restaurant</td>\n      <td>Farm</td>\n      <td>Electronics Store</td>\n    </tr>\n    <tr>\n      <th>3</th>\n      <td>Besikduzu</td>\n      <td>41.014780</td>\n      <td>39.200524</td>\n      <td>4.0</td>\n      <td>Fishing Spot</td>\n      <td>Water Park</td>\n      <td>Cigkofte Place</td>\n      <td>Furniture / Home Store</td>\n      <td>Forest</td>\n      <td>Fish &amp; Chips Shop</td>\n      <td>Fast Food Restaurant</td>\n      <td>Farm</td>\n      <td>Electronics Store</td>\n      <td>Donut Shop</td>\n    </tr>\n    <tr>\n      <th>4</th>\n      <td>Carsibasi</td>\n      <td>41.020812</td>\n      <td>39.420366</td>\n      <td>1.0</td>\n      <td>Pub</td>\n      <td>Forest</td>\n      <td>Water Park</td>\n      <td>Fishing Spot</td>\n      <td>Fish &amp; Chips Shop</td>\n      <td>Fast Food Restaurant</td>\n      <td>Farm</td>\n      <td>Electronics Store</td>\n      <td>Donut Shop</td>\n      <td>Department Store</td>\n    </tr>\n    <tr>\n      <th>5</th>\n      <td>Caykara</td>\n      <td>40.653175</td>\n      <td>40.248268</td>\n      <td>NaN</td>\n      <td>NaN</td>\n      <td>NaN</td>\n      <td>NaN</td>\n      <td>NaN</td>\n      <td>NaN</td>\n      <td>NaN</td>\n      <td>NaN</td>\n      <td>NaN</td>\n      <td>NaN</td>\n      <td>NaN</td>\n    </tr>\n    <tr>\n      <th>6</th>\n      <td>Dernekpazari</td>\n      <td>40.775884</td>\n      <td>40.195233</td>\n      <td>NaN</td>\n      <td>NaN</td>\n      <td>NaN</td>\n      <td>NaN</td>\n      <td>NaN</td>\n      <td>NaN</td>\n      <td>NaN</td>\n      <td>NaN</td>\n      <td>NaN</td>\n      <td>NaN</td>\n      <td>NaN</td>\n    </tr>\n    <tr>\n      <th>7</th>\n      <td>Duzkoy</td>\n      <td>40.837951</td>\n      <td>39.387480</td>\n      <td>2.0</td>\n      <td>Farm</td>\n      <td>Water Park</td>\n      <td>Cigkofte Place</td>\n      <td>Furniture / Home Store</td>\n      <td>Forest</td>\n      <td>Fishing Spot</td>\n      <td>Fish &amp; Chips Shop</td>\n      <td>Fast Food Restaurant</td>\n      <td>Electronics Store</td>\n      <td>Donut Shop</td>\n    </tr>\n    <tr>\n      <th>8</th>\n      <td>Hayrat</td>\n      <td>40.771031</td>\n      <td>40.406843</td>\n      <td>3.0</td>\n      <td>Other Great Outdoors</td>\n      <td>Water Park</td>\n      <td>Cigkofte Place</td>\n      <td>Forest</td>\n      <td>Fishing Spot</td>\n      <td>Fish &amp; Chips Shop</td>\n      <td>Fast Food Restaurant</td>\n      <td>Farm</td>\n      <td>Electronics Store</td>\n      <td>Donut Shop</td>\n    </tr>\n    <tr>\n      <th>9</th>\n      <td>Koprubasi</td>\n      <td>40.700684</td>\n      <td>40.119920</td>\n      <td>NaN</td>\n      <td>NaN</td>\n      <td>NaN</td>\n      <td>NaN</td>\n      <td>NaN</td>\n      <td>NaN</td>\n      <td>NaN</td>\n      <td>NaN</td>\n      <td>NaN</td>\n      <td>NaN</td>\n      <td>NaN</td>\n    </tr>\n    <tr>\n      <th>10</th>\n      <td>Macka</td>\n      <td>40.760162</td>\n      <td>39.571443</td>\n      <td>0.0</td>\n      <td>Campground</td>\n      <td>Cigkofte Place</td>\n      <td>Furniture / Home Store</td>\n      <td>Forest</td>\n      <td>Fishing Spot</td>\n      <td>Fish &amp; Chips Shop</td>\n      <td>Fast Food Restaurant</td>\n      <td>Farm</td>\n      <td>Electronics Store</td>\n      <td>Donut Shop</td>\n    </tr>\n    <tr>\n      <th>11</th>\n      <td>Of</td>\n      <td>40.881736</td>\n      <td>40.275444</td>\n      <td>1.0</td>\n      <td>Pool</td>\n      <td>Farm</td>\n      <td>Bay</td>\n      <td>Park</td>\n      <td>Plaza</td>\n      <td>Water Park</td>\n      <td>Fishing Spot</td>\n      <td>Fish &amp; Chips Shop</td>\n      <td>Fast Food Restaurant</td>\n      <td>Electronics Store</td>\n    </tr>\n    <tr>\n      <th>12</th>\n      <td>Ortahisar</td>\n      <td>41.001325</td>\n      <td>39.706678</td>\n      <td>1.0</td>\n      <td>Electronics Store</td>\n      <td>Soccer Stadium</td>\n      <td>Restaurant</td>\n      <td>Water Park</td>\n      <td>Plaza</td>\n      <td>Arcade</td>\n      <td>Café</td>\n      <td>Clothing Store</td>\n      <td>Fish &amp; Chips Shop</td>\n      <td>Garden</td>\n    </tr>\n    <tr>\n      <th>13</th>\n      <td>Surmene</td>\n      <td>40.803813</td>\n      <td>40.059268</td>\n      <td>NaN</td>\n      <td>NaN</td>\n      <td>NaN</td>\n      <td>NaN</td>\n      <td>NaN</td>\n      <td>NaN</td>\n      <td>NaN</td>\n      <td>NaN</td>\n      <td>NaN</td>\n      <td>NaN</td>\n      <td>NaN</td>\n    </tr>\n    <tr>\n      <th>14</th>\n      <td>Salpazari</td>\n      <td>40.862977</td>\n      <td>39.196401</td>\n      <td>NaN</td>\n      <td>NaN</td>\n      <td>NaN</td>\n      <td>NaN</td>\n      <td>NaN</td>\n      <td>NaN</td>\n      <td>NaN</td>\n      <td>NaN</td>\n      <td>NaN</td>\n      <td>NaN</td>\n      <td>NaN</td>\n    </tr>\n    <tr>\n      <th>15</th>\n      <td>Tonya</td>\n      <td>40.843156</td>\n      <td>39.288762</td>\n      <td>NaN</td>\n      <td>NaN</td>\n      <td>NaN</td>\n      <td>NaN</td>\n      <td>NaN</td>\n      <td>NaN</td>\n      <td>NaN</td>\n      <td>NaN</td>\n      <td>NaN</td>\n      <td>NaN</td>\n      <td>NaN</td>\n    </tr>\n    <tr>\n      <th>16</th>\n      <td>Vakfikebir</td>\n      <td>40.994066</td>\n      <td>39.313663</td>\n      <td>1.0</td>\n      <td>Mountain</td>\n      <td>Water Park</td>\n      <td>Cigkofte Place</td>\n      <td>Forest</td>\n      <td>Fishing Spot</td>\n      <td>Fish &amp; Chips Shop</td>\n      <td>Fast Food Restaurant</td>\n      <td>Farm</td>\n      <td>Electronics Store</td>\n      <td>Donut Shop</td>\n    </tr>\n    <tr>\n      <th>17</th>\n      <td>Yomra</td>\n      <td>40.847128</td>\n      <td>39.842822</td>\n      <td>1.0</td>\n      <td>Furniture / Home Store</td>\n      <td>Movie Theater</td>\n      <td>Cigkofte Place</td>\n      <td>Forest</td>\n      <td>Fishing Spot</td>\n      <td>Fish &amp; Chips Shop</td>\n      <td>Fast Food Restaurant</td>\n      <td>Farm</td>\n      <td>Electronics Store</td>\n      <td>Donut Shop</td>\n    </tr>\n  </tbody>\n</table>\n</div>"
     },
     "metadata": {},
     "execution_count": 197
    }
   ],
   "source": [
    "#adding clustering labels\n",
    "trabzon_merged = df\n",
    "#merge manhattan_group with manhattan_data to add latitude-longitude for each neighborhood\n",
    "trabzon_merged = trabzon_merged.join(neighborhoods_venues_sorted.set_index('Neighborhood'),on='cities')\n",
    "\n",
    "trabzon_merged"
   ]
  },
  {
   "cell_type": "code",
   "execution_count": 195,
   "metadata": {},
   "outputs": [],
   "source": [
    "trabzon_merged.dropna(subset=['cluster labels'],inplace=True)\n",
    "\n"
   ]
  },
  {
   "cell_type": "code",
   "execution_count": 196,
   "metadata": {},
   "outputs": [
    {
     "output_type": "execute_result",
     "data": {
      "text/plain": [
       "<folium.folium.Map at 0x27811dd5b50>"
      ],
      "text/html": "<div style=\"width:100%;\"><div style=\"position:relative;width:100%;height:0;padding-bottom:60%;\"><span style=\"color:#565656\">Make this Notebook Trusted to load map: File -> Trust Notebook</span><iframe src=\"about:blank\" style=\"position:absolute;width:100%;height:100%;left:0;top:0;border:none !important;\" data-html=%3C%21DOCTYPE%20html%3E%0A%3Chead%3E%20%20%20%20%0A%20%20%20%20%3Cmeta%20http-equiv%3D%22content-type%22%20content%3D%22text/html%3B%20charset%3DUTF-8%22%20/%3E%0A%20%20%20%20%3Cscript%3EL_PREFER_CANVAS%20%3D%20false%3B%20L_NO_TOUCH%20%3D%20false%3B%20L_DISABLE_3D%20%3D%20false%3B%3C/script%3E%0A%20%20%20%20%3Cscript%20src%3D%22https%3A//cdn.jsdelivr.net/npm/leaflet%401.2.0/dist/leaflet.js%22%3E%3C/script%3E%0A%20%20%20%20%3Cscript%20src%3D%22https%3A//ajax.googleapis.com/ajax/libs/jquery/1.11.1/jquery.min.js%22%3E%3C/script%3E%0A%20%20%20%20%3Cscript%20src%3D%22https%3A//maxcdn.bootstrapcdn.com/bootstrap/3.2.0/js/bootstrap.min.js%22%3E%3C/script%3E%0A%20%20%20%20%3Cscript%20src%3D%22https%3A//cdnjs.cloudflare.com/ajax/libs/Leaflet.awesome-markers/2.0.2/leaflet.awesome-markers.js%22%3E%3C/script%3E%0A%20%20%20%20%3Clink%20rel%3D%22stylesheet%22%20href%3D%22https%3A//cdn.jsdelivr.net/npm/leaflet%401.2.0/dist/leaflet.css%22/%3E%0A%20%20%20%20%3Clink%20rel%3D%22stylesheet%22%20href%3D%22https%3A//maxcdn.bootstrapcdn.com/bootstrap/3.2.0/css/bootstrap.min.css%22/%3E%0A%20%20%20%20%3Clink%20rel%3D%22stylesheet%22%20href%3D%22https%3A//maxcdn.bootstrapcdn.com/bootstrap/3.2.0/css/bootstrap-theme.min.css%22/%3E%0A%20%20%20%20%3Clink%20rel%3D%22stylesheet%22%20href%3D%22https%3A//maxcdn.bootstrapcdn.com/font-awesome/4.6.3/css/font-awesome.min.css%22/%3E%0A%20%20%20%20%3Clink%20rel%3D%22stylesheet%22%20href%3D%22https%3A//cdnjs.cloudflare.com/ajax/libs/Leaflet.awesome-markers/2.0.2/leaflet.awesome-markers.css%22/%3E%0A%20%20%20%20%3Clink%20rel%3D%22stylesheet%22%20href%3D%22https%3A//rawgit.com/python-visualization/folium/master/folium/templates/leaflet.awesome.rotate.css%22/%3E%0A%20%20%20%20%3Cstyle%3Ehtml%2C%20body%20%7Bwidth%3A%20100%25%3Bheight%3A%20100%25%3Bmargin%3A%200%3Bpadding%3A%200%3B%7D%3C/style%3E%0A%20%20%20%20%3Cstyle%3E%23map%20%7Bposition%3Aabsolute%3Btop%3A0%3Bbottom%3A0%3Bright%3A0%3Bleft%3A0%3B%7D%3C/style%3E%0A%20%20%20%20%0A%20%20%20%20%20%20%20%20%20%20%20%20%3Cstyle%3E%20%23map_61ae00ff0571432f83917c2cf1a52ae0%20%7B%0A%20%20%20%20%20%20%20%20%20%20%20%20%20%20%20%20position%20%3A%20relative%3B%0A%20%20%20%20%20%20%20%20%20%20%20%20%20%20%20%20width%20%3A%20100.0%25%3B%0A%20%20%20%20%20%20%20%20%20%20%20%20%20%20%20%20height%3A%20100.0%25%3B%0A%20%20%20%20%20%20%20%20%20%20%20%20%20%20%20%20left%3A%200.0%25%3B%0A%20%20%20%20%20%20%20%20%20%20%20%20%20%20%20%20top%3A%200.0%25%3B%0A%20%20%20%20%20%20%20%20%20%20%20%20%20%20%20%20%7D%0A%20%20%20%20%20%20%20%20%20%20%20%20%3C/style%3E%0A%20%20%20%20%20%20%20%20%0A%3C/head%3E%0A%3Cbody%3E%20%20%20%20%0A%20%20%20%20%0A%20%20%20%20%20%20%20%20%20%20%20%20%3Cdiv%20class%3D%22folium-map%22%20id%3D%22map_61ae00ff0571432f83917c2cf1a52ae0%22%20%3E%3C/div%3E%0A%20%20%20%20%20%20%20%20%0A%3C/body%3E%0A%3Cscript%3E%20%20%20%20%0A%20%20%20%20%0A%0A%20%20%20%20%20%20%20%20%20%20%20%20%0A%20%20%20%20%20%20%20%20%20%20%20%20%20%20%20%20var%20bounds%20%3D%20null%3B%0A%20%20%20%20%20%20%20%20%20%20%20%20%0A%0A%20%20%20%20%20%20%20%20%20%20%20%20var%20map_61ae00ff0571432f83917c2cf1a52ae0%20%3D%20L.map%28%0A%20%20%20%20%20%20%20%20%20%20%20%20%20%20%20%20%20%20%20%20%20%20%20%20%20%20%20%20%20%20%20%20%20%20%27map_61ae00ff0571432f83917c2cf1a52ae0%27%2C%0A%20%20%20%20%20%20%20%20%20%20%20%20%20%20%20%20%20%20%20%20%20%20%20%20%20%20%20%20%20%20%20%20%20%20%7Bcenter%3A%20%5B40.80381275%2C40.05926799999738%5D%2C%0A%20%20%20%20%20%20%20%20%20%20%20%20%20%20%20%20%20%20%20%20%20%20%20%20%20%20%20%20%20%20%20%20%20%20zoom%3A%2011%2C%0A%20%20%20%20%20%20%20%20%20%20%20%20%20%20%20%20%20%20%20%20%20%20%20%20%20%20%20%20%20%20%20%20%20%20maxBounds%3A%20bounds%2C%0A%20%20%20%20%20%20%20%20%20%20%20%20%20%20%20%20%20%20%20%20%20%20%20%20%20%20%20%20%20%20%20%20%20%20layers%3A%20%5B%5D%2C%0A%20%20%20%20%20%20%20%20%20%20%20%20%20%20%20%20%20%20%20%20%20%20%20%20%20%20%20%20%20%20%20%20%20%20worldCopyJump%3A%20false%2C%0A%20%20%20%20%20%20%20%20%20%20%20%20%20%20%20%20%20%20%20%20%20%20%20%20%20%20%20%20%20%20%20%20%20%20crs%3A%20L.CRS.EPSG3857%0A%20%20%20%20%20%20%20%20%20%20%20%20%20%20%20%20%20%20%20%20%20%20%20%20%20%20%20%20%20%20%20%20%20%7D%29%3B%0A%20%20%20%20%20%20%20%20%20%20%20%20%0A%20%20%20%20%20%20%20%20%0A%20%20%20%20%0A%20%20%20%20%20%20%20%20%20%20%20%20var%20tile_layer_3d41653f4d014eaeae018b557fa5f513%20%3D%20L.tileLayer%28%0A%20%20%20%20%20%20%20%20%20%20%20%20%20%20%20%20%27https%3A//%7Bs%7D.tile.openstreetmap.org/%7Bz%7D/%7Bx%7D/%7By%7D.png%27%2C%0A%20%20%20%20%20%20%20%20%20%20%20%20%20%20%20%20%7B%0A%20%20%22attribution%22%3A%20null%2C%0A%20%20%22detectRetina%22%3A%20false%2C%0A%20%20%22maxZoom%22%3A%2018%2C%0A%20%20%22minZoom%22%3A%201%2C%0A%20%20%22noWrap%22%3A%20false%2C%0A%20%20%22subdomains%22%3A%20%22abc%22%0A%7D%0A%20%20%20%20%20%20%20%20%20%20%20%20%20%20%20%20%29.addTo%28map_61ae00ff0571432f83917c2cf1a52ae0%29%3B%0A%20%20%20%20%20%20%20%20%0A%20%20%20%20%0A%20%20%20%20%20%20%20%20%20%20%20%20var%20circle_marker_42f5445ce48d41f796b19fc92cf1f593%20%3D%20L.circleMarker%28%0A%20%20%20%20%20%20%20%20%20%20%20%20%20%20%20%20%5B40.9643475%2C39.51046827734575%5D%2C%0A%20%20%20%20%20%20%20%20%20%20%20%20%20%20%20%20%7B%0A%20%20%22bubblingMouseEvents%22%3A%20true%2C%0A%20%20%22color%22%3A%20%22%238000ff%22%2C%0A%20%20%22dashArray%22%3A%20null%2C%0A%20%20%22dashOffset%22%3A%20null%2C%0A%20%20%22fill%22%3A%20true%2C%0A%20%20%22fillColor%22%3A%20%22%238000ff%22%2C%0A%20%20%22fillOpacity%22%3A%200.7%2C%0A%20%20%22fillRule%22%3A%20%22evenodd%22%2C%0A%20%20%22lineCap%22%3A%20%22round%22%2C%0A%20%20%22lineJoin%22%3A%20%22round%22%2C%0A%20%20%22opacity%22%3A%201.0%2C%0A%20%20%22radius%22%3A%205%2C%0A%20%20%22stroke%22%3A%20true%2C%0A%20%20%22weight%22%3A%203%0A%7D%0A%20%20%20%20%20%20%20%20%20%20%20%20%20%20%20%20%29.addTo%28map_61ae00ff0571432f83917c2cf1a52ae0%29%3B%0A%20%20%20%20%20%20%20%20%20%20%20%20%0A%20%20%20%20%0A%20%20%20%20%20%20%20%20%20%20%20%20var%20popup_3cff9204c12e4109bdb21dffffa5b5a6%20%3D%20L.popup%28%7BmaxWidth%3A%20%27300%27%7D%29%3B%0A%0A%20%20%20%20%20%20%20%20%20%20%20%20%0A%20%20%20%20%20%20%20%20%20%20%20%20%20%20%20%20var%20html_99394c6ca3e54a7e8b5dae0b4a22a907%20%3D%20%24%28%27%3Cdiv%20id%3D%22html_99394c6ca3e54a7e8b5dae0b4a22a907%22%20style%3D%22width%3A%20100.0%25%3B%20height%3A%20100.0%25%3B%22%3EAkcaabat%20cluster%201.0%3C/div%3E%27%29%5B0%5D%3B%0A%20%20%20%20%20%20%20%20%20%20%20%20%20%20%20%20popup_3cff9204c12e4109bdb21dffffa5b5a6.setContent%28html_99394c6ca3e54a7e8b5dae0b4a22a907%29%3B%0A%20%20%20%20%20%20%20%20%20%20%20%20%0A%0A%20%20%20%20%20%20%20%20%20%20%20%20circle_marker_42f5445ce48d41f796b19fc92cf1f593.bindPopup%28popup_3cff9204c12e4109bdb21dffffa5b5a6%29%3B%0A%0A%20%20%20%20%20%20%20%20%20%20%20%20%0A%20%20%20%20%20%20%20%20%0A%20%20%20%20%0A%20%20%20%20%20%20%20%20%20%20%20%20var%20circle_marker_fc2ff0e5b3f44441a2a76abc39097d49%20%3D%20L.circleMarker%28%0A%20%20%20%20%20%20%20%20%20%20%20%20%20%20%20%20%5B40.93589585%2C40.05547177024428%5D%2C%0A%20%20%20%20%20%20%20%20%20%20%20%20%20%20%20%20%7B%0A%20%20%22bubblingMouseEvents%22%3A%20true%2C%0A%20%20%22color%22%3A%20%22%238000ff%22%2C%0A%20%20%22dashArray%22%3A%20null%2C%0A%20%20%22dashOffset%22%3A%20null%2C%0A%20%20%22fill%22%3A%20true%2C%0A%20%20%22fillColor%22%3A%20%22%238000ff%22%2C%0A%20%20%22fillOpacity%22%3A%200.7%2C%0A%20%20%22fillRule%22%3A%20%22evenodd%22%2C%0A%20%20%22lineCap%22%3A%20%22round%22%2C%0A%20%20%22lineJoin%22%3A%20%22round%22%2C%0A%20%20%22opacity%22%3A%201.0%2C%0A%20%20%22radius%22%3A%205%2C%0A%20%20%22stroke%22%3A%20true%2C%0A%20%20%22weight%22%3A%203%0A%7D%0A%20%20%20%20%20%20%20%20%20%20%20%20%20%20%20%20%29.addTo%28map_61ae00ff0571432f83917c2cf1a52ae0%29%3B%0A%20%20%20%20%20%20%20%20%20%20%20%20%0A%20%20%20%20%0A%20%20%20%20%20%20%20%20%20%20%20%20var%20popup_23d1e666387747a29ee95ecfcc392240%20%3D%20L.popup%28%7BmaxWidth%3A%20%27300%27%7D%29%3B%0A%0A%20%20%20%20%20%20%20%20%20%20%20%20%0A%20%20%20%20%20%20%20%20%20%20%20%20%20%20%20%20var%20html_f5b816e82d304a3e9cb4476d200749ae%20%3D%20%24%28%27%3Cdiv%20id%3D%22html_f5b816e82d304a3e9cb4476d200749ae%22%20style%3D%22width%3A%20100.0%25%3B%20height%3A%20100.0%25%3B%22%3EArakli%20cluster%201.0%3C/div%3E%27%29%5B0%5D%3B%0A%20%20%20%20%20%20%20%20%20%20%20%20%20%20%20%20popup_23d1e666387747a29ee95ecfcc392240.setContent%28html_f5b816e82d304a3e9cb4476d200749ae%29%3B%0A%20%20%20%20%20%20%20%20%20%20%20%20%0A%0A%20%20%20%20%20%20%20%20%20%20%20%20circle_marker_fc2ff0e5b3f44441a2a76abc39097d49.bindPopup%28popup_23d1e666387747a29ee95ecfcc392240%29%3B%0A%0A%20%20%20%20%20%20%20%20%20%20%20%20%0A%20%20%20%20%20%20%20%20%0A%20%20%20%20%0A%20%20%20%20%20%20%20%20%20%20%20%20var%20circle_marker_a0b61df639864fec90c73866db39b6ec%20%3D%20L.circleMarker%28%0A%20%20%20%20%20%20%20%20%20%20%20%20%20%20%20%20%5B40.845656250000005%2C39.924025686256726%5D%2C%0A%20%20%20%20%20%20%20%20%20%20%20%20%20%20%20%20%7B%0A%20%20%22bubblingMouseEvents%22%3A%20true%2C%0A%20%20%22color%22%3A%20%22%238000ff%22%2C%0A%20%20%22dashArray%22%3A%20null%2C%0A%20%20%22dashOffset%22%3A%20null%2C%0A%20%20%22fill%22%3A%20true%2C%0A%20%20%22fillColor%22%3A%20%22%238000ff%22%2C%0A%20%20%22fillOpacity%22%3A%200.7%2C%0A%20%20%22fillRule%22%3A%20%22evenodd%22%2C%0A%20%20%22lineCap%22%3A%20%22round%22%2C%0A%20%20%22lineJoin%22%3A%20%22round%22%2C%0A%20%20%22opacity%22%3A%201.0%2C%0A%20%20%22radius%22%3A%205%2C%0A%20%20%22stroke%22%3A%20true%2C%0A%20%20%22weight%22%3A%203%0A%7D%0A%20%20%20%20%20%20%20%20%20%20%20%20%20%20%20%20%29.addTo%28map_61ae00ff0571432f83917c2cf1a52ae0%29%3B%0A%20%20%20%20%20%20%20%20%20%20%20%20%0A%20%20%20%20%0A%20%20%20%20%20%20%20%20%20%20%20%20var%20popup_fa82aab856ea4110b4f806aac7d362af%20%3D%20L.popup%28%7BmaxWidth%3A%20%27300%27%7D%29%3B%0A%0A%20%20%20%20%20%20%20%20%20%20%20%20%0A%20%20%20%20%20%20%20%20%20%20%20%20%20%20%20%20var%20html_8730adf054a24305a41fa4f3a9d2b6f2%20%3D%20%24%28%27%3Cdiv%20id%3D%22html_8730adf054a24305a41fa4f3a9d2b6f2%22%20style%3D%22width%3A%20100.0%25%3B%20height%3A%20100.0%25%3B%22%3EArsin%20cluster%201.0%3C/div%3E%27%29%5B0%5D%3B%0A%20%20%20%20%20%20%20%20%20%20%20%20%20%20%20%20popup_fa82aab856ea4110b4f806aac7d362af.setContent%28html_8730adf054a24305a41fa4f3a9d2b6f2%29%3B%0A%20%20%20%20%20%20%20%20%20%20%20%20%0A%0A%20%20%20%20%20%20%20%20%20%20%20%20circle_marker_a0b61df639864fec90c73866db39b6ec.bindPopup%28popup_fa82aab856ea4110b4f806aac7d362af%29%3B%0A%0A%20%20%20%20%20%20%20%20%20%20%20%20%0A%20%20%20%20%20%20%20%20%0A%20%20%20%20%0A%20%20%20%20%20%20%20%20%20%20%20%20var%20circle_marker_7dd34608fdd1450b9fb2ea4f18b9e5c3%20%3D%20L.circleMarker%28%0A%20%20%20%20%20%20%20%20%20%20%20%20%20%20%20%20%5B41.01478045%2C39.200524044991454%5D%2C%0A%20%20%20%20%20%20%20%20%20%20%20%20%20%20%20%20%7B%0A%20%20%22bubblingMouseEvents%22%3A%20true%2C%0A%20%20%22color%22%3A%20%22%23ff0000%22%2C%0A%20%20%22dashArray%22%3A%20null%2C%0A%20%20%22dashOffset%22%3A%20null%2C%0A%20%20%22fill%22%3A%20true%2C%0A%20%20%22fillColor%22%3A%20%22%23ff0000%22%2C%0A%20%20%22fillOpacity%22%3A%200.7%2C%0A%20%20%22fillRule%22%3A%20%22evenodd%22%2C%0A%20%20%22lineCap%22%3A%20%22round%22%2C%0A%20%20%22lineJoin%22%3A%20%22round%22%2C%0A%20%20%22opacity%22%3A%201.0%2C%0A%20%20%22radius%22%3A%205%2C%0A%20%20%22stroke%22%3A%20true%2C%0A%20%20%22weight%22%3A%203%0A%7D%0A%20%20%20%20%20%20%20%20%20%20%20%20%20%20%20%20%29.addTo%28map_61ae00ff0571432f83917c2cf1a52ae0%29%3B%0A%20%20%20%20%20%20%20%20%20%20%20%20%0A%20%20%20%20%0A%20%20%20%20%20%20%20%20%20%20%20%20var%20popup_19aeb9a9ceef420e81e3df840bda3fff%20%3D%20L.popup%28%7BmaxWidth%3A%20%27300%27%7D%29%3B%0A%0A%20%20%20%20%20%20%20%20%20%20%20%20%0A%20%20%20%20%20%20%20%20%20%20%20%20%20%20%20%20var%20html_092946fc54ae4c9db26415fc8823fca2%20%3D%20%24%28%27%3Cdiv%20id%3D%22html_092946fc54ae4c9db26415fc8823fca2%22%20style%3D%22width%3A%20100.0%25%3B%20height%3A%20100.0%25%3B%22%3EBesikduzu%20cluster%204.0%3C/div%3E%27%29%5B0%5D%3B%0A%20%20%20%20%20%20%20%20%20%20%20%20%20%20%20%20popup_19aeb9a9ceef420e81e3df840bda3fff.setContent%28html_092946fc54ae4c9db26415fc8823fca2%29%3B%0A%20%20%20%20%20%20%20%20%20%20%20%20%0A%0A%20%20%20%20%20%20%20%20%20%20%20%20circle_marker_7dd34608fdd1450b9fb2ea4f18b9e5c3.bindPopup%28popup_19aeb9a9ceef420e81e3df840bda3fff%29%3B%0A%0A%20%20%20%20%20%20%20%20%20%20%20%20%0A%20%20%20%20%20%20%20%20%0A%20%20%20%20%0A%20%20%20%20%20%20%20%20%20%20%20%20var%20circle_marker_3e93934e3c4f4a88a1b2d83d8e12fd32%20%3D%20L.circleMarker%28%0A%20%20%20%20%20%20%20%20%20%20%20%20%20%20%20%20%5B41.0208122%2C39.42036575962547%5D%2C%0A%20%20%20%20%20%20%20%20%20%20%20%20%20%20%20%20%7B%0A%20%20%22bubblingMouseEvents%22%3A%20true%2C%0A%20%20%22color%22%3A%20%22%238000ff%22%2C%0A%20%20%22dashArray%22%3A%20null%2C%0A%20%20%22dashOffset%22%3A%20null%2C%0A%20%20%22fill%22%3A%20true%2C%0A%20%20%22fillColor%22%3A%20%22%238000ff%22%2C%0A%20%20%22fillOpacity%22%3A%200.7%2C%0A%20%20%22fillRule%22%3A%20%22evenodd%22%2C%0A%20%20%22lineCap%22%3A%20%22round%22%2C%0A%20%20%22lineJoin%22%3A%20%22round%22%2C%0A%20%20%22opacity%22%3A%201.0%2C%0A%20%20%22radius%22%3A%205%2C%0A%20%20%22stroke%22%3A%20true%2C%0A%20%20%22weight%22%3A%203%0A%7D%0A%20%20%20%20%20%20%20%20%20%20%20%20%20%20%20%20%29.addTo%28map_61ae00ff0571432f83917c2cf1a52ae0%29%3B%0A%20%20%20%20%20%20%20%20%20%20%20%20%0A%20%20%20%20%0A%20%20%20%20%20%20%20%20%20%20%20%20var%20popup_2b2e53d48d3c48ce9398588e8590887d%20%3D%20L.popup%28%7BmaxWidth%3A%20%27300%27%7D%29%3B%0A%0A%20%20%20%20%20%20%20%20%20%20%20%20%0A%20%20%20%20%20%20%20%20%20%20%20%20%20%20%20%20var%20html_cc9d2b19d2d14341b16b06e8e5933b7d%20%3D%20%24%28%27%3Cdiv%20id%3D%22html_cc9d2b19d2d14341b16b06e8e5933b7d%22%20style%3D%22width%3A%20100.0%25%3B%20height%3A%20100.0%25%3B%22%3ECarsibasi%20cluster%201.0%3C/div%3E%27%29%5B0%5D%3B%0A%20%20%20%20%20%20%20%20%20%20%20%20%20%20%20%20popup_2b2e53d48d3c48ce9398588e8590887d.setContent%28html_cc9d2b19d2d14341b16b06e8e5933b7d%29%3B%0A%20%20%20%20%20%20%20%20%20%20%20%20%0A%0A%20%20%20%20%20%20%20%20%20%20%20%20circle_marker_3e93934e3c4f4a88a1b2d83d8e12fd32.bindPopup%28popup_2b2e53d48d3c48ce9398588e8590887d%29%3B%0A%0A%20%20%20%20%20%20%20%20%20%20%20%20%0A%20%20%20%20%20%20%20%20%0A%20%20%20%20%0A%20%20%20%20%20%20%20%20%20%20%20%20var%20circle_marker_d9157b7002a340b8afc0f2c1a33f0826%20%3D%20L.circleMarker%28%0A%20%20%20%20%20%20%20%20%20%20%20%20%20%20%20%20%5B40.837950750000005%2C39.38747995360616%5D%2C%0A%20%20%20%20%20%20%20%20%20%20%20%20%20%20%20%20%7B%0A%20%20%22bubblingMouseEvents%22%3A%20true%2C%0A%20%20%22color%22%3A%20%22%232adddd%22%2C%0A%20%20%22dashArray%22%3A%20null%2C%0A%20%20%22dashOffset%22%3A%20null%2C%0A%20%20%22fill%22%3A%20true%2C%0A%20%20%22fillColor%22%3A%20%22%232adddd%22%2C%0A%20%20%22fillOpacity%22%3A%200.7%2C%0A%20%20%22fillRule%22%3A%20%22evenodd%22%2C%0A%20%20%22lineCap%22%3A%20%22round%22%2C%0A%20%20%22lineJoin%22%3A%20%22round%22%2C%0A%20%20%22opacity%22%3A%201.0%2C%0A%20%20%22radius%22%3A%205%2C%0A%20%20%22stroke%22%3A%20true%2C%0A%20%20%22weight%22%3A%203%0A%7D%0A%20%20%20%20%20%20%20%20%20%20%20%20%20%20%20%20%29.addTo%28map_61ae00ff0571432f83917c2cf1a52ae0%29%3B%0A%20%20%20%20%20%20%20%20%20%20%20%20%0A%20%20%20%20%0A%20%20%20%20%20%20%20%20%20%20%20%20var%20popup_5895bc058ccd45db8d2ce85a49acc7c5%20%3D%20L.popup%28%7BmaxWidth%3A%20%27300%27%7D%29%3B%0A%0A%20%20%20%20%20%20%20%20%20%20%20%20%0A%20%20%20%20%20%20%20%20%20%20%20%20%20%20%20%20var%20html_acd3c5b4192b420b9deb7698ed586bff%20%3D%20%24%28%27%3Cdiv%20id%3D%22html_acd3c5b4192b420b9deb7698ed586bff%22%20style%3D%22width%3A%20100.0%25%3B%20height%3A%20100.0%25%3B%22%3EDuzkoy%20cluster%202.0%3C/div%3E%27%29%5B0%5D%3B%0A%20%20%20%20%20%20%20%20%20%20%20%20%20%20%20%20popup_5895bc058ccd45db8d2ce85a49acc7c5.setContent%28html_acd3c5b4192b420b9deb7698ed586bff%29%3B%0A%20%20%20%20%20%20%20%20%20%20%20%20%0A%0A%20%20%20%20%20%20%20%20%20%20%20%20circle_marker_d9157b7002a340b8afc0f2c1a33f0826.bindPopup%28popup_5895bc058ccd45db8d2ce85a49acc7c5%29%3B%0A%0A%20%20%20%20%20%20%20%20%20%20%20%20%0A%20%20%20%20%20%20%20%20%0A%20%20%20%20%0A%20%20%20%20%20%20%20%20%20%20%20%20var%20circle_marker_1ab0aa50adba41e8bef0e3eb88ad3ae8%20%3D%20L.circleMarker%28%0A%20%20%20%20%20%20%20%20%20%20%20%20%20%20%20%20%5B40.77103125%2C40.406843160049114%5D%2C%0A%20%20%20%20%20%20%20%20%20%20%20%20%20%20%20%20%7B%0A%20%20%22bubblingMouseEvents%22%3A%20true%2C%0A%20%20%22color%22%3A%20%22%23d4dd80%22%2C%0A%20%20%22dashArray%22%3A%20null%2C%0A%20%20%22dashOffset%22%3A%20null%2C%0A%20%20%22fill%22%3A%20true%2C%0A%20%20%22fillColor%22%3A%20%22%23d4dd80%22%2C%0A%20%20%22fillOpacity%22%3A%200.7%2C%0A%20%20%22fillRule%22%3A%20%22evenodd%22%2C%0A%20%20%22lineCap%22%3A%20%22round%22%2C%0A%20%20%22lineJoin%22%3A%20%22round%22%2C%0A%20%20%22opacity%22%3A%201.0%2C%0A%20%20%22radius%22%3A%205%2C%0A%20%20%22stroke%22%3A%20true%2C%0A%20%20%22weight%22%3A%203%0A%7D%0A%20%20%20%20%20%20%20%20%20%20%20%20%20%20%20%20%29.addTo%28map_61ae00ff0571432f83917c2cf1a52ae0%29%3B%0A%20%20%20%20%20%20%20%20%20%20%20%20%0A%20%20%20%20%0A%20%20%20%20%20%20%20%20%20%20%20%20var%20popup_2d4030bd501843aebd53cb0c64df32f9%20%3D%20L.popup%28%7BmaxWidth%3A%20%27300%27%7D%29%3B%0A%0A%20%20%20%20%20%20%20%20%20%20%20%20%0A%20%20%20%20%20%20%20%20%20%20%20%20%20%20%20%20var%20html_e6619aedfc8f46648252209c5645fecf%20%3D%20%24%28%27%3Cdiv%20id%3D%22html_e6619aedfc8f46648252209c5645fecf%22%20style%3D%22width%3A%20100.0%25%3B%20height%3A%20100.0%25%3B%22%3EHayrat%20cluster%203.0%3C/div%3E%27%29%5B0%5D%3B%0A%20%20%20%20%20%20%20%20%20%20%20%20%20%20%20%20popup_2d4030bd501843aebd53cb0c64df32f9.setContent%28html_e6619aedfc8f46648252209c5645fecf%29%3B%0A%20%20%20%20%20%20%20%20%20%20%20%20%0A%0A%20%20%20%20%20%20%20%20%20%20%20%20circle_marker_1ab0aa50adba41e8bef0e3eb88ad3ae8.bindPopup%28popup_2d4030bd501843aebd53cb0c64df32f9%29%3B%0A%0A%20%20%20%20%20%20%20%20%20%20%20%20%0A%20%20%20%20%20%20%20%20%0A%20%20%20%20%0A%20%20%20%20%20%20%20%20%20%20%20%20var%20circle_marker_3dd85656fbde41eda8419305cabd3daf%20%3D%20L.circleMarker%28%0A%20%20%20%20%20%20%20%20%20%20%20%20%20%20%20%20%5B40.76016175%2C39.57144340541163%5D%2C%0A%20%20%20%20%20%20%20%20%20%20%20%20%20%20%20%20%7B%0A%20%20%22bubblingMouseEvents%22%3A%20true%2C%0A%20%20%22color%22%3A%20%22%23ff0000%22%2C%0A%20%20%22dashArray%22%3A%20null%2C%0A%20%20%22dashOffset%22%3A%20null%2C%0A%20%20%22fill%22%3A%20true%2C%0A%20%20%22fillColor%22%3A%20%22%23ff0000%22%2C%0A%20%20%22fillOpacity%22%3A%200.7%2C%0A%20%20%22fillRule%22%3A%20%22evenodd%22%2C%0A%20%20%22lineCap%22%3A%20%22round%22%2C%0A%20%20%22lineJoin%22%3A%20%22round%22%2C%0A%20%20%22opacity%22%3A%201.0%2C%0A%20%20%22radius%22%3A%205%2C%0A%20%20%22stroke%22%3A%20true%2C%0A%20%20%22weight%22%3A%203%0A%7D%0A%20%20%20%20%20%20%20%20%20%20%20%20%20%20%20%20%29.addTo%28map_61ae00ff0571432f83917c2cf1a52ae0%29%3B%0A%20%20%20%20%20%20%20%20%20%20%20%20%0A%20%20%20%20%0A%20%20%20%20%20%20%20%20%20%20%20%20var%20popup_5aa84cc61ea847389aab688d5c024dc6%20%3D%20L.popup%28%7BmaxWidth%3A%20%27300%27%7D%29%3B%0A%0A%20%20%20%20%20%20%20%20%20%20%20%20%0A%20%20%20%20%20%20%20%20%20%20%20%20%20%20%20%20var%20html_0dc676ec69284118b8704220ab31fbbd%20%3D%20%24%28%27%3Cdiv%20id%3D%22html_0dc676ec69284118b8704220ab31fbbd%22%20style%3D%22width%3A%20100.0%25%3B%20height%3A%20100.0%25%3B%22%3EMacka%20cluster%200.0%3C/div%3E%27%29%5B0%5D%3B%0A%20%20%20%20%20%20%20%20%20%20%20%20%20%20%20%20popup_5aa84cc61ea847389aab688d5c024dc6.setContent%28html_0dc676ec69284118b8704220ab31fbbd%29%3B%0A%20%20%20%20%20%20%20%20%20%20%20%20%0A%0A%20%20%20%20%20%20%20%20%20%20%20%20circle_marker_3dd85656fbde41eda8419305cabd3daf.bindPopup%28popup_5aa84cc61ea847389aab688d5c024dc6%29%3B%0A%0A%20%20%20%20%20%20%20%20%20%20%20%20%0A%20%20%20%20%20%20%20%20%0A%20%20%20%20%0A%20%20%20%20%20%20%20%20%20%20%20%20var%20circle_marker_3a221dacca4e450ea5fa2f73df5fd347%20%3D%20L.circleMarker%28%0A%20%20%20%20%20%20%20%20%20%20%20%20%20%20%20%20%5B40.881735899999995%2C40.27544376928809%5D%2C%0A%20%20%20%20%20%20%20%20%20%20%20%20%20%20%20%20%7B%0A%20%20%22bubblingMouseEvents%22%3A%20true%2C%0A%20%20%22color%22%3A%20%22%238000ff%22%2C%0A%20%20%22dashArray%22%3A%20null%2C%0A%20%20%22dashOffset%22%3A%20null%2C%0A%20%20%22fill%22%3A%20true%2C%0A%20%20%22fillColor%22%3A%20%22%238000ff%22%2C%0A%20%20%22fillOpacity%22%3A%200.7%2C%0A%20%20%22fillRule%22%3A%20%22evenodd%22%2C%0A%20%20%22lineCap%22%3A%20%22round%22%2C%0A%20%20%22lineJoin%22%3A%20%22round%22%2C%0A%20%20%22opacity%22%3A%201.0%2C%0A%20%20%22radius%22%3A%205%2C%0A%20%20%22stroke%22%3A%20true%2C%0A%20%20%22weight%22%3A%203%0A%7D%0A%20%20%20%20%20%20%20%20%20%20%20%20%20%20%20%20%29.addTo%28map_61ae00ff0571432f83917c2cf1a52ae0%29%3B%0A%20%20%20%20%20%20%20%20%20%20%20%20%0A%20%20%20%20%0A%20%20%20%20%20%20%20%20%20%20%20%20var%20popup_64fbb79b8a8541c8a314c2a180caf048%20%3D%20L.popup%28%7BmaxWidth%3A%20%27300%27%7D%29%3B%0A%0A%20%20%20%20%20%20%20%20%20%20%20%20%0A%20%20%20%20%20%20%20%20%20%20%20%20%20%20%20%20var%20html_4931555be0fa498a9fa04f8173b857a3%20%3D%20%24%28%27%3Cdiv%20id%3D%22html_4931555be0fa498a9fa04f8173b857a3%22%20style%3D%22width%3A%20100.0%25%3B%20height%3A%20100.0%25%3B%22%3EOf%20cluster%201.0%3C/div%3E%27%29%5B0%5D%3B%0A%20%20%20%20%20%20%20%20%20%20%20%20%20%20%20%20popup_64fbb79b8a8541c8a314c2a180caf048.setContent%28html_4931555be0fa498a9fa04f8173b857a3%29%3B%0A%20%20%20%20%20%20%20%20%20%20%20%20%0A%0A%20%20%20%20%20%20%20%20%20%20%20%20circle_marker_3a221dacca4e450ea5fa2f73df5fd347.bindPopup%28popup_64fbb79b8a8541c8a314c2a180caf048%29%3B%0A%0A%20%20%20%20%20%20%20%20%20%20%20%20%0A%20%20%20%20%20%20%20%20%0A%20%20%20%20%0A%20%20%20%20%20%20%20%20%20%20%20%20var%20circle_marker_d09db1aaa5c547eda810a853a8e5175f%20%3D%20L.circleMarker%28%0A%20%20%20%20%20%20%20%20%20%20%20%20%20%20%20%20%5B41.0013246%2C39.706678%5D%2C%0A%20%20%20%20%20%20%20%20%20%20%20%20%20%20%20%20%7B%0A%20%20%22bubblingMouseEvents%22%3A%20true%2C%0A%20%20%22color%22%3A%20%22%238000ff%22%2C%0A%20%20%22dashArray%22%3A%20null%2C%0A%20%20%22dashOffset%22%3A%20null%2C%0A%20%20%22fill%22%3A%20true%2C%0A%20%20%22fillColor%22%3A%20%22%238000ff%22%2C%0A%20%20%22fillOpacity%22%3A%200.7%2C%0A%20%20%22fillRule%22%3A%20%22evenodd%22%2C%0A%20%20%22lineCap%22%3A%20%22round%22%2C%0A%20%20%22lineJoin%22%3A%20%22round%22%2C%0A%20%20%22opacity%22%3A%201.0%2C%0A%20%20%22radius%22%3A%205%2C%0A%20%20%22stroke%22%3A%20true%2C%0A%20%20%22weight%22%3A%203%0A%7D%0A%20%20%20%20%20%20%20%20%20%20%20%20%20%20%20%20%29.addTo%28map_61ae00ff0571432f83917c2cf1a52ae0%29%3B%0A%20%20%20%20%20%20%20%20%20%20%20%20%0A%20%20%20%20%0A%20%20%20%20%20%20%20%20%20%20%20%20var%20popup_2721b25263954e169283adf66d0de6e2%20%3D%20L.popup%28%7BmaxWidth%3A%20%27300%27%7D%29%3B%0A%0A%20%20%20%20%20%20%20%20%20%20%20%20%0A%20%20%20%20%20%20%20%20%20%20%20%20%20%20%20%20var%20html_3c896d92f3c64b7ea0fb5eed23255dd1%20%3D%20%24%28%27%3Cdiv%20id%3D%22html_3c896d92f3c64b7ea0fb5eed23255dd1%22%20style%3D%22width%3A%20100.0%25%3B%20height%3A%20100.0%25%3B%22%3EOrtahisar%20cluster%201.0%3C/div%3E%27%29%5B0%5D%3B%0A%20%20%20%20%20%20%20%20%20%20%20%20%20%20%20%20popup_2721b25263954e169283adf66d0de6e2.setContent%28html_3c896d92f3c64b7ea0fb5eed23255dd1%29%3B%0A%20%20%20%20%20%20%20%20%20%20%20%20%0A%0A%20%20%20%20%20%20%20%20%20%20%20%20circle_marker_d09db1aaa5c547eda810a853a8e5175f.bindPopup%28popup_2721b25263954e169283adf66d0de6e2%29%3B%0A%0A%20%20%20%20%20%20%20%20%20%20%20%20%0A%20%20%20%20%20%20%20%20%0A%20%20%20%20%0A%20%20%20%20%20%20%20%20%20%20%20%20var%20circle_marker_b50f9b30cad548ffaa038244f2347828%20%3D%20L.circleMarker%28%0A%20%20%20%20%20%20%20%20%20%20%20%20%20%20%20%20%5B40.9940658%2C39.313662610276964%5D%2C%0A%20%20%20%20%20%20%20%20%20%20%20%20%20%20%20%20%7B%0A%20%20%22bubblingMouseEvents%22%3A%20true%2C%0A%20%20%22color%22%3A%20%22%238000ff%22%2C%0A%20%20%22dashArray%22%3A%20null%2C%0A%20%20%22dashOffset%22%3A%20null%2C%0A%20%20%22fill%22%3A%20true%2C%0A%20%20%22fillColor%22%3A%20%22%238000ff%22%2C%0A%20%20%22fillOpacity%22%3A%200.7%2C%0A%20%20%22fillRule%22%3A%20%22evenodd%22%2C%0A%20%20%22lineCap%22%3A%20%22round%22%2C%0A%20%20%22lineJoin%22%3A%20%22round%22%2C%0A%20%20%22opacity%22%3A%201.0%2C%0A%20%20%22radius%22%3A%205%2C%0A%20%20%22stroke%22%3A%20true%2C%0A%20%20%22weight%22%3A%203%0A%7D%0A%20%20%20%20%20%20%20%20%20%20%20%20%20%20%20%20%29.addTo%28map_61ae00ff0571432f83917c2cf1a52ae0%29%3B%0A%20%20%20%20%20%20%20%20%20%20%20%20%0A%20%20%20%20%0A%20%20%20%20%20%20%20%20%20%20%20%20var%20popup_91ad71d98557414f83bcfae358ed2bf7%20%3D%20L.popup%28%7BmaxWidth%3A%20%27300%27%7D%29%3B%0A%0A%20%20%20%20%20%20%20%20%20%20%20%20%0A%20%20%20%20%20%20%20%20%20%20%20%20%20%20%20%20var%20html_2e2bda6f243443989983eda4830213dc%20%3D%20%24%28%27%3Cdiv%20id%3D%22html_2e2bda6f243443989983eda4830213dc%22%20style%3D%22width%3A%20100.0%25%3B%20height%3A%20100.0%25%3B%22%3EVakfikebir%20cluster%201.0%3C/div%3E%27%29%5B0%5D%3B%0A%20%20%20%20%20%20%20%20%20%20%20%20%20%20%20%20popup_91ad71d98557414f83bcfae358ed2bf7.setContent%28html_2e2bda6f243443989983eda4830213dc%29%3B%0A%20%20%20%20%20%20%20%20%20%20%20%20%0A%0A%20%20%20%20%20%20%20%20%20%20%20%20circle_marker_b50f9b30cad548ffaa038244f2347828.bindPopup%28popup_91ad71d98557414f83bcfae358ed2bf7%29%3B%0A%0A%20%20%20%20%20%20%20%20%20%20%20%20%0A%20%20%20%20%20%20%20%20%0A%20%20%20%20%0A%20%20%20%20%20%20%20%20%20%20%20%20var%20circle_marker_b459c544f07e46dc93c98376b8f8619d%20%3D%20L.circleMarker%28%0A%20%20%20%20%20%20%20%20%20%20%20%20%20%20%20%20%5B40.8471281%2C39.84282211193375%5D%2C%0A%20%20%20%20%20%20%20%20%20%20%20%20%20%20%20%20%7B%0A%20%20%22bubblingMouseEvents%22%3A%20true%2C%0A%20%20%22color%22%3A%20%22%238000ff%22%2C%0A%20%20%22dashArray%22%3A%20null%2C%0A%20%20%22dashOffset%22%3A%20null%2C%0A%20%20%22fill%22%3A%20true%2C%0A%20%20%22fillColor%22%3A%20%22%238000ff%22%2C%0A%20%20%22fillOpacity%22%3A%200.7%2C%0A%20%20%22fillRule%22%3A%20%22evenodd%22%2C%0A%20%20%22lineCap%22%3A%20%22round%22%2C%0A%20%20%22lineJoin%22%3A%20%22round%22%2C%0A%20%20%22opacity%22%3A%201.0%2C%0A%20%20%22radius%22%3A%205%2C%0A%20%20%22stroke%22%3A%20true%2C%0A%20%20%22weight%22%3A%203%0A%7D%0A%20%20%20%20%20%20%20%20%20%20%20%20%20%20%20%20%29.addTo%28map_61ae00ff0571432f83917c2cf1a52ae0%29%3B%0A%20%20%20%20%20%20%20%20%20%20%20%20%0A%20%20%20%20%0A%20%20%20%20%20%20%20%20%20%20%20%20var%20popup_303cb4b5d7854d64a18b7ee05b0146e8%20%3D%20L.popup%28%7BmaxWidth%3A%20%27300%27%7D%29%3B%0A%0A%20%20%20%20%20%20%20%20%20%20%20%20%0A%20%20%20%20%20%20%20%20%20%20%20%20%20%20%20%20var%20html_dd1eb5e9852640f59c1cf733fa7649da%20%3D%20%24%28%27%3Cdiv%20id%3D%22html_dd1eb5e9852640f59c1cf733fa7649da%22%20style%3D%22width%3A%20100.0%25%3B%20height%3A%20100.0%25%3B%22%3EYomra%20cluster%201.0%3C/div%3E%27%29%5B0%5D%3B%0A%20%20%20%20%20%20%20%20%20%20%20%20%20%20%20%20popup_303cb4b5d7854d64a18b7ee05b0146e8.setContent%28html_dd1eb5e9852640f59c1cf733fa7649da%29%3B%0A%20%20%20%20%20%20%20%20%20%20%20%20%0A%0A%20%20%20%20%20%20%20%20%20%20%20%20circle_marker_b459c544f07e46dc93c98376b8f8619d.bindPopup%28popup_303cb4b5d7854d64a18b7ee05b0146e8%29%3B%0A%0A%20%20%20%20%20%20%20%20%20%20%20%20%0A%20%20%20%20%20%20%20%20%0A%3C/script%3E onload=\"this.contentDocument.open();this.contentDocument.write(    decodeURIComponent(this.getAttribute('data-html')));this.contentDocument.close();\" allowfullscreen webkitallowfullscreen mozallowfullscreen></iframe></div></div>"
     },
     "metadata": {},
     "execution_count": 196
    }
   ],
   "source": [
    "map_clusters = folium.Map(location=[latitude, longitude], zoom_start=11)\n",
    "#color scheme for clusters\n",
    "x = np.arange(kclusters)\n",
    "ys = [i + x + (i*x)**2 for i in range(kclusters)]\n",
    "colors_array = cm.rainbow(np.linspace(0, 1, len(ys)))\n",
    "rainbow = [colors.rgb2hex(i) for i in colors_array]\n",
    "\n",
    "\n",
    "markers_colors = []\n",
    "for lat, lon, poi, cluster in zip(trabzon_merged['lats'], trabzon_merged['longs'], trabzon_merged['cities'], trabzon_merged['cluster labels']):\n",
    "    label = folium.Popup(str(poi) + ' cluster ' + str(cluster), parse_html=True)\n",
    "    folium.CircleMarker(\n",
    "        [lat, lon],\n",
    "        radius=5,\n",
    "        popup=label,\n",
    "        color=rainbow[int(cluster)-1],\n",
    "        fill=True,\n",
    "        fill_color=rainbow[int(cluster)-1],\n",
    "        fill_opacity=0.7).add_to(map_clusters),\n",
    "        \n",
    "map_clusters"
   ]
  },
  {
   "cell_type": "code",
   "execution_count": null,
   "metadata": {},
   "outputs": [],
   "source": []
  }
 ]
}